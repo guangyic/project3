{
 "cells": [
  {
   "cell_type": "markdown",
   "metadata": {},
   "source": [
    "<img src=\"http://imgur.com/1ZcRyrc.png\" style=\"float: left; margin: 15px; height: 80px\">\n",
    "\n",
    "# Project 3\n",
    "\n",
    "### Regression and Classification with the Ames Housing Data\n",
    "\n",
    "---\n",
    "\n",
    "You have just joined a new \"full stack\" real estate company in Ames, Iowa. The strategy of the firm is two-fold:\n",
    "- Own the entire process from the purchase of the land all the way to sale of the house, and anything in between.\n",
    "- Use statistical analysis to optimize investment and maximize return.\n",
    "\n",
    "The company is still small, and though investment is substantial the short-term goals of the company are more oriented towards purchasing existing houses and flipping them as opposed to constructing entirely new houses. That being said, the company has access to a large construction workforce operating at rock-bottom prices.\n",
    "\n",
    "This project uses the [Ames housing data recently made available on kaggle](https://www.kaggle.com/c/house-prices-advanced-regression-techniques)."
   ]
  },
  {
   "cell_type": "code",
   "execution_count": 1,
   "metadata": {},
   "outputs": [],
   "source": [
    "import numpy as np\n",
    "import scipy.stats as stats\n",
    "import seaborn as sns\n",
    "import matplotlib.pyplot as plt\n",
    "import pandas as pd\n",
    "\n",
    "sns.set_style('whitegrid')\n",
    "\n",
    "%config InlineBackend.figure_format = 'retina'\n",
    "%matplotlib inline"
   ]
  },
  {
   "cell_type": "markdown",
   "metadata": {},
   "source": [
    "<img src=\"http://imgur.com/l5NasQj.png\" style=\"float: left; margin: 25px 15px 0px 0px; height: 25px\">\n",
    "\n",
    "## 1. Estimating the value of homes from fixed characteristics.\n",
    "\n",
    "---\n",
    "\n",
    "Your superiors have outlined this year's strategy for the company:\n",
    "1. Develop an algorithm to reliably estimate the value of residential houses based on *fixed* characteristics.\n",
    "2. Identify characteristics of houses that the company can cost-effectively change/renovate with their construction team.\n",
    "3. Evaluate the mean dollar value of different renovations.\n",
    "\n",
    "Then we can use that to buy houses that are likely to sell for more than the cost of the purchase plus renovations.\n",
    "\n",
    "Your first job is to tackle #1. You have a dataset of housing sale data with a huge amount of features identifying different aspects of the house. The full description of the data features can be found in a separate file:\n",
    "\n",
    "    housing.csv\n",
    "    data_description.txt\n",
    "    \n",
    "You need to build a reliable estimator for the price of the house given characteristics of the house that cannot be renovated. Some examples include:\n",
    "- The neighborhood\n",
    "- Square feet\n",
    "- Bedrooms, bathrooms\n",
    "- Basement and garage space\n",
    "\n",
    "and many more. \n",
    "\n",
    "Some examples of things that **ARE renovate-able:**\n",
    "- Roof and exterior features\n",
    "- \"Quality\" metrics, such as kitchen quality\n",
    "- \"Condition\" metrics, such as condition of garage\n",
    "- Heating and electrical components\n",
    "\n",
    "and generally anything you deem can be modified without having to undergo major construction on the house.\n",
    "\n",
    "---\n",
    "\n",
    "**Your goals:**\n",
    "1. Perform any cleaning, feature engineering, and EDA you deem necessary.\n",
    "- Be sure to remove any houses that are not residential from the dataset.\n",
    "- Identify **fixed** features that can predict price.\n",
    "- Train a model on pre-2010 data and evaluate its performance on the 2010 houses.\n",
    "- Characterize your model. How well does it perform? What are the best estimates of price?\n",
    "\n",
    "> **Note:** The EDA and feature engineering component to this project is not trivial! Be sure to always think critically and creatively. Justify your actions! Use the data description file!"
   ]
  },
  {
   "cell_type": "code",
   "execution_count": 2,
   "metadata": {
    "collapsed": true
   },
   "outputs": [],
   "source": [
    "# Load the data\n",
    "house = pd.read_csv('./housing.csv')"
   ]
  },
  {
   "cell_type": "code",
   "execution_count": 3,
   "metadata": {},
   "outputs": [
    {
     "data": {
      "text/plain": [
       "(1460, 81)"
      ]
     },
     "execution_count": 3,
     "metadata": {},
     "output_type": "execute_result"
    }
   ],
   "source": [
    "house.shape"
   ]
  },
  {
   "cell_type": "code",
   "execution_count": 4,
   "metadata": {},
   "outputs": [
    {
     "data": {
      "text/html": [
       "<div>\n",
       "<style>\n",
       "    .dataframe thead tr:only-child th {\n",
       "        text-align: right;\n",
       "    }\n",
       "\n",
       "    .dataframe thead th {\n",
       "        text-align: left;\n",
       "    }\n",
       "\n",
       "    .dataframe tbody tr th {\n",
       "        vertical-align: top;\n",
       "    }\n",
       "</style>\n",
       "<table border=\"1\" class=\"dataframe\">\n",
       "  <thead>\n",
       "    <tr style=\"text-align: right;\">\n",
       "      <th></th>\n",
       "      <th>Id</th>\n",
       "      <th>MSSubClass</th>\n",
       "      <th>MSZoning</th>\n",
       "      <th>LotFrontage</th>\n",
       "      <th>LotArea</th>\n",
       "      <th>Street</th>\n",
       "      <th>Alley</th>\n",
       "      <th>LotShape</th>\n",
       "      <th>LandContour</th>\n",
       "      <th>Utilities</th>\n",
       "      <th>...</th>\n",
       "      <th>PoolArea</th>\n",
       "      <th>PoolQC</th>\n",
       "      <th>Fence</th>\n",
       "      <th>MiscFeature</th>\n",
       "      <th>MiscVal</th>\n",
       "      <th>MoSold</th>\n",
       "      <th>YrSold</th>\n",
       "      <th>SaleType</th>\n",
       "      <th>SaleCondition</th>\n",
       "      <th>SalePrice</th>\n",
       "    </tr>\n",
       "  </thead>\n",
       "  <tbody>\n",
       "    <tr>\n",
       "      <th>0</th>\n",
       "      <td>1</td>\n",
       "      <td>60</td>\n",
       "      <td>RL</td>\n",
       "      <td>65.0</td>\n",
       "      <td>8450</td>\n",
       "      <td>Pave</td>\n",
       "      <td>NaN</td>\n",
       "      <td>Reg</td>\n",
       "      <td>Lvl</td>\n",
       "      <td>AllPub</td>\n",
       "      <td>...</td>\n",
       "      <td>0</td>\n",
       "      <td>NaN</td>\n",
       "      <td>NaN</td>\n",
       "      <td>NaN</td>\n",
       "      <td>0</td>\n",
       "      <td>2</td>\n",
       "      <td>2008</td>\n",
       "      <td>WD</td>\n",
       "      <td>Normal</td>\n",
       "      <td>208500</td>\n",
       "    </tr>\n",
       "    <tr>\n",
       "      <th>1</th>\n",
       "      <td>2</td>\n",
       "      <td>20</td>\n",
       "      <td>RL</td>\n",
       "      <td>80.0</td>\n",
       "      <td>9600</td>\n",
       "      <td>Pave</td>\n",
       "      <td>NaN</td>\n",
       "      <td>Reg</td>\n",
       "      <td>Lvl</td>\n",
       "      <td>AllPub</td>\n",
       "      <td>...</td>\n",
       "      <td>0</td>\n",
       "      <td>NaN</td>\n",
       "      <td>NaN</td>\n",
       "      <td>NaN</td>\n",
       "      <td>0</td>\n",
       "      <td>5</td>\n",
       "      <td>2007</td>\n",
       "      <td>WD</td>\n",
       "      <td>Normal</td>\n",
       "      <td>181500</td>\n",
       "    </tr>\n",
       "    <tr>\n",
       "      <th>2</th>\n",
       "      <td>3</td>\n",
       "      <td>60</td>\n",
       "      <td>RL</td>\n",
       "      <td>68.0</td>\n",
       "      <td>11250</td>\n",
       "      <td>Pave</td>\n",
       "      <td>NaN</td>\n",
       "      <td>IR1</td>\n",
       "      <td>Lvl</td>\n",
       "      <td>AllPub</td>\n",
       "      <td>...</td>\n",
       "      <td>0</td>\n",
       "      <td>NaN</td>\n",
       "      <td>NaN</td>\n",
       "      <td>NaN</td>\n",
       "      <td>0</td>\n",
       "      <td>9</td>\n",
       "      <td>2008</td>\n",
       "      <td>WD</td>\n",
       "      <td>Normal</td>\n",
       "      <td>223500</td>\n",
       "    </tr>\n",
       "    <tr>\n",
       "      <th>3</th>\n",
       "      <td>4</td>\n",
       "      <td>70</td>\n",
       "      <td>RL</td>\n",
       "      <td>60.0</td>\n",
       "      <td>9550</td>\n",
       "      <td>Pave</td>\n",
       "      <td>NaN</td>\n",
       "      <td>IR1</td>\n",
       "      <td>Lvl</td>\n",
       "      <td>AllPub</td>\n",
       "      <td>...</td>\n",
       "      <td>0</td>\n",
       "      <td>NaN</td>\n",
       "      <td>NaN</td>\n",
       "      <td>NaN</td>\n",
       "      <td>0</td>\n",
       "      <td>2</td>\n",
       "      <td>2006</td>\n",
       "      <td>WD</td>\n",
       "      <td>Abnorml</td>\n",
       "      <td>140000</td>\n",
       "    </tr>\n",
       "    <tr>\n",
       "      <th>4</th>\n",
       "      <td>5</td>\n",
       "      <td>60</td>\n",
       "      <td>RL</td>\n",
       "      <td>84.0</td>\n",
       "      <td>14260</td>\n",
       "      <td>Pave</td>\n",
       "      <td>NaN</td>\n",
       "      <td>IR1</td>\n",
       "      <td>Lvl</td>\n",
       "      <td>AllPub</td>\n",
       "      <td>...</td>\n",
       "      <td>0</td>\n",
       "      <td>NaN</td>\n",
       "      <td>NaN</td>\n",
       "      <td>NaN</td>\n",
       "      <td>0</td>\n",
       "      <td>12</td>\n",
       "      <td>2008</td>\n",
       "      <td>WD</td>\n",
       "      <td>Normal</td>\n",
       "      <td>250000</td>\n",
       "    </tr>\n",
       "  </tbody>\n",
       "</table>\n",
       "<p>5 rows × 81 columns</p>\n",
       "</div>"
      ],
      "text/plain": [
       "   Id  MSSubClass MSZoning  LotFrontage  LotArea Street Alley LotShape  \\\n",
       "0   1          60       RL         65.0     8450   Pave   NaN      Reg   \n",
       "1   2          20       RL         80.0     9600   Pave   NaN      Reg   \n",
       "2   3          60       RL         68.0    11250   Pave   NaN      IR1   \n",
       "3   4          70       RL         60.0     9550   Pave   NaN      IR1   \n",
       "4   5          60       RL         84.0    14260   Pave   NaN      IR1   \n",
       "\n",
       "  LandContour Utilities    ...     PoolArea PoolQC Fence MiscFeature MiscVal  \\\n",
       "0         Lvl    AllPub    ...            0    NaN   NaN         NaN       0   \n",
       "1         Lvl    AllPub    ...            0    NaN   NaN         NaN       0   \n",
       "2         Lvl    AllPub    ...            0    NaN   NaN         NaN       0   \n",
       "3         Lvl    AllPub    ...            0    NaN   NaN         NaN       0   \n",
       "4         Lvl    AllPub    ...            0    NaN   NaN         NaN       0   \n",
       "\n",
       "  MoSold YrSold  SaleType  SaleCondition  SalePrice  \n",
       "0      2   2008        WD         Normal     208500  \n",
       "1      5   2007        WD         Normal     181500  \n",
       "2      9   2008        WD         Normal     223500  \n",
       "3      2   2006        WD        Abnorml     140000  \n",
       "4     12   2008        WD         Normal     250000  \n",
       "\n",
       "[5 rows x 81 columns]"
      ]
     },
     "execution_count": 4,
     "metadata": {},
     "output_type": "execute_result"
    }
   ],
   "source": [
    "house.head()"
   ]
  },
  {
   "cell_type": "code",
   "execution_count": 5,
   "metadata": {},
   "outputs": [
    {
     "data": {
      "text/plain": [
       "Index([u'Id', u'MSSubClass', u'MSZoning', u'LotFrontage', u'LotArea',\n",
       "       u'Street', u'Alley', u'LotShape', u'LandContour', u'Utilities',\n",
       "       u'LotConfig', u'LandSlope', u'Neighborhood', u'Condition1',\n",
       "       u'Condition2', u'BldgType', u'HouseStyle', u'OverallQual',\n",
       "       u'OverallCond', u'YearBuilt', u'YearRemodAdd', u'RoofStyle',\n",
       "       u'RoofMatl', u'Exterior1st', u'Exterior2nd', u'MasVnrType',\n",
       "       u'MasVnrArea', u'ExterQual', u'ExterCond', u'Foundation', u'BsmtQual',\n",
       "       u'BsmtCond', u'BsmtExposure', u'BsmtFinType1', u'BsmtFinSF1',\n",
       "       u'BsmtFinType2', u'BsmtFinSF2', u'BsmtUnfSF', u'TotalBsmtSF',\n",
       "       u'Heating', u'HeatingQC', u'CentralAir', u'Electrical', u'1stFlrSF',\n",
       "       u'2ndFlrSF', u'LowQualFinSF', u'GrLivArea', u'BsmtFullBath',\n",
       "       u'BsmtHalfBath', u'FullBath', u'HalfBath', u'BedroomAbvGr',\n",
       "       u'KitchenAbvGr', u'KitchenQual', u'TotRmsAbvGrd', u'Functional',\n",
       "       u'Fireplaces', u'FireplaceQu', u'GarageType', u'GarageYrBlt',\n",
       "       u'GarageFinish', u'GarageCars', u'GarageArea', u'GarageQual',\n",
       "       u'GarageCond', u'PavedDrive', u'WoodDeckSF', u'OpenPorchSF',\n",
       "       u'EnclosedPorch', u'3SsnPorch', u'ScreenPorch', u'PoolArea', u'PoolQC',\n",
       "       u'Fence', u'MiscFeature', u'MiscVal', u'MoSold', u'YrSold', u'SaleType',\n",
       "       u'SaleCondition', u'SalePrice'],\n",
       "      dtype='object')"
      ]
     },
     "execution_count": 5,
     "metadata": {},
     "output_type": "execute_result"
    }
   ],
   "source": [
    "house.columns"
   ]
  },
  {
   "cell_type": "code",
   "execution_count": 6,
   "metadata": {
    "scrolled": true
   },
   "outputs": [
    {
     "data": {
      "text/plain": [
       "Id                 int64\n",
       "MSSubClass         int64\n",
       "MSZoning          object\n",
       "LotFrontage      float64\n",
       "LotArea            int64\n",
       "Street            object\n",
       "Alley             object\n",
       "LotShape          object\n",
       "LandContour       object\n",
       "Utilities         object\n",
       "LotConfig         object\n",
       "LandSlope         object\n",
       "Neighborhood      object\n",
       "Condition1        object\n",
       "Condition2        object\n",
       "BldgType          object\n",
       "HouseStyle        object\n",
       "OverallQual        int64\n",
       "OverallCond        int64\n",
       "YearBuilt          int64\n",
       "YearRemodAdd       int64\n",
       "RoofStyle         object\n",
       "RoofMatl          object\n",
       "Exterior1st       object\n",
       "Exterior2nd       object\n",
       "MasVnrType        object\n",
       "MasVnrArea       float64\n",
       "ExterQual         object\n",
       "ExterCond         object\n",
       "Foundation        object\n",
       "                  ...   \n",
       "BedroomAbvGr       int64\n",
       "KitchenAbvGr       int64\n",
       "KitchenQual       object\n",
       "TotRmsAbvGrd       int64\n",
       "Functional        object\n",
       "Fireplaces         int64\n",
       "FireplaceQu       object\n",
       "GarageType        object\n",
       "GarageYrBlt      float64\n",
       "GarageFinish      object\n",
       "GarageCars         int64\n",
       "GarageArea         int64\n",
       "GarageQual        object\n",
       "GarageCond        object\n",
       "PavedDrive        object\n",
       "WoodDeckSF         int64\n",
       "OpenPorchSF        int64\n",
       "EnclosedPorch      int64\n",
       "3SsnPorch          int64\n",
       "ScreenPorch        int64\n",
       "PoolArea           int64\n",
       "PoolQC            object\n",
       "Fence             object\n",
       "MiscFeature       object\n",
       "MiscVal            int64\n",
       "MoSold             int64\n",
       "YrSold             int64\n",
       "SaleType          object\n",
       "SaleCondition     object\n",
       "SalePrice          int64\n",
       "Length: 81, dtype: object"
      ]
     },
     "execution_count": 6,
     "metadata": {},
     "output_type": "execute_result"
    }
   ],
   "source": [
    "house.dtypes"
   ]
  },
  {
   "cell_type": "code",
   "execution_count": 7,
   "metadata": {
    "scrolled": true
   },
   "outputs": [
    {
     "data": {
      "text/plain": [
       "Id                  0\n",
       "MSSubClass          0\n",
       "MSZoning            0\n",
       "LotFrontage       259\n",
       "LotArea             0\n",
       "Street              0\n",
       "Alley            1369\n",
       "LotShape            0\n",
       "LandContour         0\n",
       "Utilities           0\n",
       "LotConfig           0\n",
       "LandSlope           0\n",
       "Neighborhood        0\n",
       "Condition1          0\n",
       "Condition2          0\n",
       "BldgType            0\n",
       "HouseStyle          0\n",
       "OverallQual         0\n",
       "OverallCond         0\n",
       "YearBuilt           0\n",
       "YearRemodAdd        0\n",
       "RoofStyle           0\n",
       "RoofMatl            0\n",
       "Exterior1st         0\n",
       "Exterior2nd         0\n",
       "MasVnrType          8\n",
       "MasVnrArea          8\n",
       "ExterQual           0\n",
       "ExterCond           0\n",
       "Foundation          0\n",
       "                 ... \n",
       "BedroomAbvGr        0\n",
       "KitchenAbvGr        0\n",
       "KitchenQual         0\n",
       "TotRmsAbvGrd        0\n",
       "Functional          0\n",
       "Fireplaces          0\n",
       "FireplaceQu       690\n",
       "GarageType         81\n",
       "GarageYrBlt        81\n",
       "GarageFinish       81\n",
       "GarageCars          0\n",
       "GarageArea          0\n",
       "GarageQual         81\n",
       "GarageCond         81\n",
       "PavedDrive          0\n",
       "WoodDeckSF          0\n",
       "OpenPorchSF         0\n",
       "EnclosedPorch       0\n",
       "3SsnPorch           0\n",
       "ScreenPorch         0\n",
       "PoolArea            0\n",
       "PoolQC           1453\n",
       "Fence            1179\n",
       "MiscFeature      1406\n",
       "MiscVal             0\n",
       "MoSold              0\n",
       "YrSold              0\n",
       "SaleType            0\n",
       "SaleCondition       0\n",
       "SalePrice           0\n",
       "Length: 81, dtype: int64"
      ]
     },
     "execution_count": 7,
     "metadata": {},
     "output_type": "execute_result"
    }
   ],
   "source": [
    "house.isnull().sum()"
   ]
  },
  {
   "cell_type": "code",
   "execution_count": 8,
   "metadata": {},
   "outputs": [
    {
     "data": {
      "text/plain": [
       "array(['RL', 'RM', 'C (all)', 'FV', 'RH'], dtype=object)"
      ]
     },
     "execution_count": 8,
     "metadata": {},
     "output_type": "execute_result"
    }
   ],
   "source": [
    "# Determine which zoning types are non-residential. Only C needs to be removed (commerical)\n",
    "house.MSZoning.unique()"
   ]
  },
  {
   "cell_type": "code",
   "execution_count": 9,
   "metadata": {
    "scrolled": false
   },
   "outputs": [
    {
     "name": "stderr",
     "output_type": "stream",
     "text": [
      "/Users/GuangYi/anaconda/lib/python2.7/site-packages/ipykernel_launcher.py:3: SettingWithCopyWarning: \n",
      "A value is trying to be set on a copy of a slice from a DataFrame\n",
      "\n",
      "See the caveats in the documentation: http://pandas.pydata.org/pandas-docs/stable/indexing.html#indexing-view-versus-copy\n",
      "  This is separate from the ipykernel package so we can avoid doing imports until\n"
     ]
    }
   ],
   "source": [
    "# Remove non-residential housing, drop ID column\n",
    "df = house[house.MSZoning != 'C (all)']\n",
    "df.drop('Id', axis=1, inplace=True)"
   ]
  },
  {
   "cell_type": "code",
   "execution_count": 10,
   "metadata": {},
   "outputs": [
    {
     "data": {
      "text/plain": [
       "(1450, 80)"
      ]
     },
     "execution_count": 10,
     "metadata": {},
     "output_type": "execute_result"
    }
   ],
   "source": [
    "df.shape"
   ]
  },
  {
   "cell_type": "code",
   "execution_count": 11,
   "metadata": {
    "collapsed": true
   },
   "outputs": [],
   "source": [
    "null_array = {}\n",
    "\n",
    "for a in df :\n",
    "    if df[a].isnull().sum() != 0:\n",
    "        null_array[a] = df[a].isnull().sum()"
   ]
  },
  {
   "cell_type": "code",
   "execution_count": 12,
   "metadata": {},
   "outputs": [
    {
     "data": {
      "text/plain": [
       "{'Alley': 1361,\n",
       " 'BsmtCond': 37,\n",
       " 'BsmtExposure': 38,\n",
       " 'BsmtFinType1': 37,\n",
       " 'BsmtFinType2': 38,\n",
       " 'BsmtQual': 37,\n",
       " 'Electrical': 1,\n",
       " 'Fence': 1172,\n",
       " 'FireplaceQu': 681,\n",
       " 'GarageCond': 79,\n",
       " 'GarageFinish': 79,\n",
       " 'GarageQual': 79,\n",
       " 'GarageType': 79,\n",
       " 'GarageYrBlt': 79,\n",
       " 'LotFrontage': 259,\n",
       " 'MasVnrArea': 8,\n",
       " 'MasVnrType': 8,\n",
       " 'MiscFeature': 1398,\n",
       " 'PoolQC': 1443}"
      ]
     },
     "execution_count": 12,
     "metadata": {},
     "output_type": "execute_result"
    }
   ],
   "source": [
    "null_array"
   ]
  },
  {
   "cell_type": "code",
   "execution_count": 13,
   "metadata": {},
   "outputs": [
    {
     "name": "stderr",
     "output_type": "stream",
     "text": [
      "/Users/GuangYi/anaconda/lib/python2.7/site-packages/ipykernel_launcher.py:2: SettingWithCopyWarning: \n",
      "A value is trying to be set on a copy of a slice from a DataFrame\n",
      "\n",
      "See the caveats in the documentation: http://pandas.pydata.org/pandas-docs/stable/indexing.html#indexing-view-versus-copy\n",
      "  \n"
     ]
    }
   ],
   "source": [
    "# Drop Alley, PoolQC, Fence, MiscFeature, FireplaceQu as variables because large majority missing or NaN\n",
    "df.drop([\"Alley\", \"PoolQC\", \"Fence\", \"MiscFeature\", \"FireplaceQu\"], axis=1, inplace=True)"
   ]
  },
  {
   "cell_type": "code",
   "execution_count": 14,
   "metadata": {},
   "outputs": [
    {
     "data": {
      "text/plain": [
       "{'BsmtCond': 37,\n",
       " 'BsmtExposure': 38,\n",
       " 'BsmtFinType1': 37,\n",
       " 'BsmtFinType2': 38,\n",
       " 'BsmtQual': 37,\n",
       " 'Electrical': 1,\n",
       " 'GarageCond': 79,\n",
       " 'GarageFinish': 79,\n",
       " 'GarageQual': 79,\n",
       " 'GarageType': 79,\n",
       " 'GarageYrBlt': 79,\n",
       " 'LotFrontage': 259,\n",
       " 'MasVnrArea': 8,\n",
       " 'MasVnrType': 8}"
      ]
     },
     "execution_count": 14,
     "metadata": {},
     "output_type": "execute_result"
    }
   ],
   "source": [
    "# Examine null values again \n",
    "null_array = {}\n",
    "\n",
    "for a in df :\n",
    "    if df[a].isnull().sum() != 0:\n",
    "        null_array[a] = df[a].isnull().sum()\n",
    "        \n",
    "null_array"
   ]
  },
  {
   "cell_type": "code",
   "execution_count": 15,
   "metadata": {},
   "outputs": [
    {
     "name": "stderr",
     "output_type": "stream",
     "text": [
      "/Users/GuangYi/anaconda/lib/python2.7/site-packages/ipykernel_launcher.py:1: SettingWithCopyWarning: \n",
      "A value is trying to be set on a copy of a slice from a DataFrame\n",
      "\n",
      "See the caveats in the documentation: http://pandas.pydata.org/pandas-docs/stable/indexing.html#indexing-view-versus-copy\n",
      "  \"\"\"Entry point for launching an IPython kernel.\n",
      "/Users/GuangYi/anaconda/lib/python2.7/site-packages/ipykernel_launcher.py:2: SettingWithCopyWarning: \n",
      "A value is trying to be set on a copy of a slice from a DataFrame\n",
      "\n",
      "See the caveats in the documentation: http://pandas.pydata.org/pandas-docs/stable/indexing.html#indexing-view-versus-copy\n",
      "  \n",
      "/Users/GuangYi/anaconda/lib/python2.7/site-packages/ipykernel_launcher.py:3: SettingWithCopyWarning: \n",
      "A value is trying to be set on a copy of a slice from a DataFrame\n",
      "\n",
      "See the caveats in the documentation: http://pandas.pydata.org/pandas-docs/stable/indexing.html#indexing-view-versus-copy\n",
      "  This is separate from the ipykernel package so we can avoid doing imports until\n",
      "/Users/GuangYi/anaconda/lib/python2.7/site-packages/ipykernel_launcher.py:4: SettingWithCopyWarning: \n",
      "A value is trying to be set on a copy of a slice from a DataFrame\n",
      "\n",
      "See the caveats in the documentation: http://pandas.pydata.org/pandas-docs/stable/indexing.html#indexing-view-versus-copy\n",
      "  after removing the cwd from sys.path.\n",
      "/Users/GuangYi/anaconda/lib/python2.7/site-packages/ipykernel_launcher.py:5: SettingWithCopyWarning: \n",
      "A value is trying to be set on a copy of a slice from a DataFrame\n",
      "\n",
      "See the caveats in the documentation: http://pandas.pydata.org/pandas-docs/stable/indexing.html#indexing-view-versus-copy\n",
      "  \"\"\"\n",
      "/Users/GuangYi/anaconda/lib/python2.7/site-packages/ipykernel_launcher.py:6: SettingWithCopyWarning: \n",
      "A value is trying to be set on a copy of a slice from a DataFrame\n",
      "\n",
      "See the caveats in the documentation: http://pandas.pydata.org/pandas-docs/stable/indexing.html#indexing-view-versus-copy\n",
      "  \n",
      "/Users/GuangYi/anaconda/lib/python2.7/site-packages/ipykernel_launcher.py:7: SettingWithCopyWarning: \n",
      "A value is trying to be set on a copy of a slice from a DataFrame\n",
      "\n",
      "See the caveats in the documentation: http://pandas.pydata.org/pandas-docs/stable/indexing.html#indexing-view-versus-copy\n",
      "  import sys\n",
      "/Users/GuangYi/anaconda/lib/python2.7/site-packages/ipykernel_launcher.py:8: SettingWithCopyWarning: \n",
      "A value is trying to be set on a copy of a slice from a DataFrame\n",
      "\n",
      "See the caveats in the documentation: http://pandas.pydata.org/pandas-docs/stable/indexing.html#indexing-view-versus-copy\n",
      "  \n"
     ]
    }
   ],
   "source": [
    "df.dropna(axis=0, subset=[\"BsmtExposure\"], inplace=True)\n",
    "df.dropna(axis=0, subset=[\"GarageType\"], inplace=True)\n",
    "df.dropna(axis=0, subset=[\"MasVnrArea\"], inplace=True)\n",
    "df.dropna(axis=0, subset=[\"MasVnrType\"], inplace=True)\n",
    "df.dropna(axis=0, subset=[\"GarageFinish\"], inplace=True)\n",
    "df.dropna(axis=0, subset=[\"Electrical\"], inplace=True)\n",
    "df.dropna(axis=0, subset=[\"BsmtFinType1\"], inplace=True)\n",
    "df.dropna(axis=0, subset=[\"BsmtFinType2\"], inplace=True)\n",
    "df.reset_index(drop=True, inplace=True)"
   ]
  },
  {
   "cell_type": "code",
   "execution_count": 16,
   "metadata": {},
   "outputs": [
    {
     "name": "stderr",
     "output_type": "stream",
     "text": [
      "/Users/GuangYi/anaconda/lib/python2.7/site-packages/ipykernel_launcher.py:5: SettingWithCopyWarning: \n",
      "A value is trying to be set on a copy of a slice from a DataFrame\n",
      "\n",
      "See the caveats in the documentation: http://pandas.pydata.org/pandas-docs/stable/indexing.html#indexing-view-versus-copy\n",
      "  \"\"\"\n"
     ]
    }
   ],
   "source": [
    "fill_lf = df.LotFrontage.median()\n",
    "index = df['LotFrontage'].index[df['LotFrontage'].apply(np.isnan)]\n",
    "\n",
    "for a in index :\n",
    "    df.replace(df.LotFrontage[a], fill_lf, inplace=True)"
   ]
  },
  {
   "cell_type": "code",
   "execution_count": 17,
   "metadata": {
    "collapsed": true
   },
   "outputs": [],
   "source": [
    "df2 = df.copy()"
   ]
  },
  {
   "cell_type": "code",
   "execution_count": 18,
   "metadata": {
    "scrolled": false
   },
   "outputs": [
    {
     "name": "stderr",
     "output_type": "stream",
     "text": [
      "/Users/GuangYi/anaconda/lib/python2.7/site-packages/ipykernel_launcher.py:5: SettingWithCopyWarning: \n",
      "A value is trying to be set on a copy of a slice from a DataFrame\n",
      "\n",
      "See the caveats in the documentation: http://pandas.pydata.org/pandas-docs/stable/indexing.html#indexing-view-versus-copy\n",
      "  \"\"\"\n"
     ]
    }
   ],
   "source": [
    "# Consulting the list of variables, use general knowledge to determine what can be renovated (thus dropped)\n",
    "# All quality and condition metrics\n",
    "df.drop([\"OverallQual\", \"OverallCond\", \"ExterQual\", \"ExterCond\", \"BsmtQual\", \n",
    "         \"BsmtCond\", \"BsmtFinType1\", \"BsmtFinType2\", \"HeatingQC\", \"KitchenQual\", \n",
    "         \"GarageQual\", \"GarageCond\"], axis=1, inplace=True)"
   ]
  },
  {
   "cell_type": "code",
   "execution_count": 19,
   "metadata": {},
   "outputs": [
    {
     "name": "stderr",
     "output_type": "stream",
     "text": [
      "/Users/GuangYi/anaconda/lib/python2.7/site-packages/ipykernel_launcher.py:2: SettingWithCopyWarning: \n",
      "A value is trying to be set on a copy of a slice from a DataFrame\n",
      "\n",
      "See the caveats in the documentation: http://pandas.pydata.org/pandas-docs/stable/indexing.html#indexing-view-versus-copy\n",
      "  \n"
     ]
    }
   ],
   "source": [
    "# Heating and electrical components removed, MiscVal removed because MiscFeature gone, utilities can be added on\n",
    "df.drop([\"Electrical\", \"Heating\", \"MiscVal\", \"Utilities\"], axis=1, inplace=True)"
   ]
  },
  {
   "cell_type": "code",
   "execution_count": 20,
   "metadata": {},
   "outputs": [
    {
     "name": "stderr",
     "output_type": "stream",
     "text": [
      "/Users/GuangYi/anaconda/lib/python2.7/site-packages/ipykernel_launcher.py:9: SettingWithCopyWarning: \n",
      "A value is trying to be set on a copy of a slice from a DataFrame\n",
      "\n",
      "See the caveats in the documentation: http://pandas.pydata.org/pandas-docs/stable/indexing.html#indexing-view-versus-copy\n",
      "  if __name__ == '__main__':\n"
     ]
    }
   ],
   "source": [
    "# Materials can be changed during renovation: RoofMatl, CentralAir, GarageFinish, PavedDrive, MasVnrType, Exterior1st, Exterior2nd\n",
    "# Fireplaces can be added or removed during renovation\n",
    "# MasVnrArea can be changed during renovation\n",
    "# GarageCars is redundant since sqft is there already\n",
    "# SaleType, SaleCondition not really relevant because sold is sold\n",
    "# MSSubClass since it's just a summary stat\n",
    "df.drop([\"MSSubClass\", \"RoofMatl\", \"Fireplaces\", \"MasVnrArea\", \"Exterior1st\", \"Exterior2nd\", \n",
    "         \"MasVnrType\", \"CentralAir\", \"GarageFinish\", \"PavedDrive\", \"GarageCars\", \n",
    "         \"SaleType\", \"SaleCondition\"], axis=1, inplace=True)"
   ]
  },
  {
   "cell_type": "code",
   "execution_count": 21,
   "metadata": {
    "collapsed": true
   },
   "outputs": [],
   "source": [
    "renovate = [\"MSSubClass\", \"RoofMatl\", \"Fireplaces\", \"MasVnrArea\", \"Exterior1st\", \"Exterior2nd\", \n",
    "           \"MasVnrType\", \"CentralAir\", \"GarageFinish\", \"PavedDrive\", \"GarageCars\", \"SaleType\", \n",
    "           \"SaleCondition\", \"Electrical\", \"Heating\", \"MiscVal\", \"Utilities\", \"OverallQual\", \n",
    "           \"OverallCond\", \"ExterQual\", \"ExterCond\", \"BsmtQual\", \"BsmtCond\", \"BsmtFinType1\", \n",
    "           \"BsmtFinType2\", \"HeatingQC\", \"KitchenQual\", \"GarageQual\", \"GarageCond\", \"Alley\", \n",
    "           \"PoolQC\", \"Fence\", \"MiscFeature\", \"FireplaceQu\"]"
   ]
  },
  {
   "cell_type": "code",
   "execution_count": 22,
   "metadata": {},
   "outputs": [
    {
     "data": {
      "text/plain": [
       "0"
      ]
     },
     "execution_count": 22,
     "metadata": {},
     "output_type": "execute_result"
    }
   ],
   "source": [
    "df.LotFrontage.isnull().sum()"
   ]
  },
  {
   "cell_type": "code",
   "execution_count": null,
   "metadata": {
    "collapsed": true
   },
   "outputs": [],
   "source": []
  },
  {
   "cell_type": "code",
   "execution_count": 23,
   "metadata": {},
   "outputs": [
    {
     "name": "stderr",
     "output_type": "stream",
     "text": [
      "/Users/GuangYi/anaconda/lib/python2.7/site-packages/ipykernel_launcher.py:1: SettingWithCopyWarning: \n",
      "A value is trying to be set on a copy of a slice from a DataFrame\n",
      "\n",
      "See the caveats in the documentation: http://pandas.pydata.org/pandas-docs/stable/indexing.html#indexing-view-versus-copy\n",
      "  \"\"\"Entry point for launching an IPython kernel.\n",
      "/Users/GuangYi/anaconda/lib/python2.7/site-packages/ipykernel_launcher.py:2: SettingWithCopyWarning: \n",
      "A value is trying to be set on a copy of a slice from a DataFrame\n",
      "\n",
      "See the caveats in the documentation: http://pandas.pydata.org/pandas-docs/stable/indexing.html#indexing-view-versus-copy\n",
      "  \n"
     ]
    }
   ],
   "source": [
    "df.dropna(axis=0, subset=[\"BsmtExposure\"], inplace=True)\n",
    "df.dropna(axis=0, subset=[\"GarageType\"], inplace=True)\n",
    "df.reset_index(drop=True, inplace=True)"
   ]
  },
  {
   "cell_type": "code",
   "execution_count": 24,
   "metadata": {},
   "outputs": [
    {
     "data": {
      "text/plain": [
       "(1330, 46)"
      ]
     },
     "execution_count": 24,
     "metadata": {},
     "output_type": "execute_result"
    }
   ],
   "source": [
    "df.shape"
   ]
  },
  {
   "cell_type": "code",
   "execution_count": 25,
   "metadata": {
    "scrolled": true
   },
   "outputs": [
    {
     "data": {
      "text/plain": [
       "MSZoning          object\n",
       "LotFrontage      float64\n",
       "LotArea            int64\n",
       "Street            object\n",
       "LotShape          object\n",
       "LandContour       object\n",
       "LotConfig         object\n",
       "LandSlope         object\n",
       "Neighborhood      object\n",
       "Condition1        object\n",
       "Condition2        object\n",
       "BldgType          object\n",
       "HouseStyle        object\n",
       "YearBuilt          int64\n",
       "YearRemodAdd       int64\n",
       "RoofStyle         object\n",
       "Foundation        object\n",
       "BsmtExposure      object\n",
       "BsmtFinSF1         int64\n",
       "BsmtFinSF2         int64\n",
       "BsmtUnfSF          int64\n",
       "TotalBsmtSF        int64\n",
       "1stFlrSF           int64\n",
       "2ndFlrSF           int64\n",
       "LowQualFinSF       int64\n",
       "GrLivArea          int64\n",
       "BsmtFullBath       int64\n",
       "BsmtHalfBath       int64\n",
       "FullBath           int64\n",
       "HalfBath           int64\n",
       "BedroomAbvGr       int64\n",
       "KitchenAbvGr       int64\n",
       "TotRmsAbvGrd       int64\n",
       "Functional        object\n",
       "GarageType        object\n",
       "GarageYrBlt      float64\n",
       "GarageArea         int64\n",
       "WoodDeckSF         int64\n",
       "OpenPorchSF        int64\n",
       "EnclosedPorch      int64\n",
       "3SsnPorch          int64\n",
       "ScreenPorch        int64\n",
       "PoolArea           int64\n",
       "MoSold             int64\n",
       "YrSold             int64\n",
       "SalePrice          int64\n",
       "dtype: object"
      ]
     },
     "execution_count": 25,
     "metadata": {},
     "output_type": "execute_result"
    }
   ],
   "source": [
    "df.dtypes"
   ]
  },
  {
   "cell_type": "code",
   "execution_count": 26,
   "metadata": {
    "collapsed": true
   },
   "outputs": [],
   "source": [
    "# Separate categorical variables from continuous variables\n",
    "\n",
    "categorical = ['MSZoning', \"Street\", \"LotShape\", \"LandContour\", \"LotConfig\", \"LandSlope\", \"Neighborhood\", \n",
    "            \"Condition1\", \"Condition2\", \"BldgType\", \"HouseStyle\", \"RoofStyle\", \"Foundation\", \n",
    "            \"BsmtExposure\", \"Functional\", \"GarageType\"]\n",
    "\n",
    "continuous = ['LotFrontage', \"LotArea\", \"YearBuilt\", \"YearRemodAdd\", \"BsmtFinSF1\", \"BsmtFinSF2\", \"BsmtUnfSF\",\n",
    "             \"TotalBsmtSF\", \"1stFlrSF\", \"2ndFlrSF\",\"LowQualFinSF\", \"GrLivArea\", \"BsmtFullBath\", \"BsmtHalfBath\",\n",
    "             \"FullBath\", \"HalfBath\", \"BedroomAbvGr\", \"KitchenAbvGr\", \"TotRmsAbvGrd\", \"GarageYrBlt\", \n",
    "             \"GarageArea\", \"WoodDeckSF\", \"OpenPorchSF\", \"EnclosedPorch\", \"3SsnPorch\", \"ScreenPorch\",\n",
    "             \"PoolArea\", \"MoSold\", \"YrSold\"]\n"
   ]
  },
  {
   "cell_type": "code",
   "execution_count": 27,
   "metadata": {
    "collapsed": true
   },
   "outputs": [],
   "source": [
    "df_cat = df.loc[:, categorical]\n",
    "df_cont = df.loc[:, continuous]"
   ]
  },
  {
   "cell_type": "code",
   "execution_count": 28,
   "metadata": {
    "collapsed": true,
    "scrolled": true
   },
   "outputs": [],
   "source": [
    "df_cont_test = df_cont[df_cont.YrSold==2010]\n",
    "df_cont_train = df_cont[df_cont.YrSold != 2010]"
   ]
  },
  {
   "cell_type": "code",
   "execution_count": 29,
   "metadata": {
    "collapsed": true
   },
   "outputs": [],
   "source": [
    "filter_index = df_cont_test.index\n",
    "filter_index2 = df_cont_train.index"
   ]
  },
  {
   "cell_type": "code",
   "execution_count": 30,
   "metadata": {
    "collapsed": true
   },
   "outputs": [],
   "source": [
    "from sklearn.preprocessing import MinMaxScaler\n",
    "mm = MinMaxScaler()\n",
    "df_cont_train_scaled = pd.DataFrame(mm.fit_transform(df_cont_train))\n",
    "df_cont_test_scaled = pd.DataFrame(mm.fit_transform(df_cont_test))"
   ]
  },
  {
   "cell_type": "code",
   "execution_count": 31,
   "metadata": {
    "collapsed": true,
    "scrolled": true
   },
   "outputs": [],
   "source": [
    "df_cat_dum = pd.get_dummies(df_cat)\n",
    "df_cat_dum_test = df_cat_dum.iloc[filter_index]\n",
    "df_cat_dum_train = df_cat_dum.iloc[filter_index2]"
   ]
  },
  {
   "cell_type": "code",
   "execution_count": 32,
   "metadata": {
    "collapsed": true
   },
   "outputs": [],
   "source": [
    "df_cat_dum_train.reset_index(drop=True, inplace=True)\n",
    "df_cat_dum_test.reset_index(drop=True, inplace=True)\n",
    "df_cont_train_scaled.reset_index(drop=True, inplace=True)\n",
    "df_cont_test_scaled.reset_index(drop=True, inplace=True)"
   ]
  },
  {
   "cell_type": "code",
   "execution_count": 33,
   "metadata": {
    "collapsed": true
   },
   "outputs": [],
   "source": [
    "X_train = pd.concat([df_cat_dum_train, df_cont_train_scaled], axis=1)\n",
    "X_test = pd.concat([df_cat_dum_test, df_cont_test_scaled], axis=1)\n",
    "y_train = df.SalePrice[filter_index2]\n",
    "y_test = df.SalePrice[filter_index]"
   ]
  },
  {
   "cell_type": "code",
   "execution_count": 34,
   "metadata": {
    "collapsed": true
   },
   "outputs": [],
   "source": [
    "y_train.reset_index(drop=True, inplace=True)\n",
    "y_test.reset_index(drop=True, inplace=True)"
   ]
  },
  {
   "cell_type": "code",
   "execution_count": 35,
   "metadata": {},
   "outputs": [
    {
     "name": "stderr",
     "output_type": "stream",
     "text": [
      "/Users/GuangYi/anaconda/lib/python2.7/site-packages/ipykernel_launcher.py:3: FutureWarning: reshape is deprecated and will raise in a subsequent release. Please use .values.reshape(...) instead\n",
      "  This is separate from the ipykernel package so we can avoid doing imports until\n",
      "/Users/GuangYi/anaconda/lib/python2.7/site-packages/sklearn/utils/validation.py:444: DataConversionWarning: Data with input dtype int64 was converted to float64 by StandardScaler.\n",
      "  warnings.warn(msg, DataConversionWarning)\n"
     ]
    }
   ],
   "source": [
    "from sklearn.preprocessing import StandardScaler\n",
    "ss = StandardScaler()\n",
    "y_train_s = ss.fit_transform(y_train.reshape(-1, 1))"
   ]
  },
  {
   "cell_type": "code",
   "execution_count": 36,
   "metadata": {
    "scrolled": true
   },
   "outputs": [
    {
     "name": "stderr",
     "output_type": "stream",
     "text": [
      "/Users/GuangYi/anaconda/lib/python2.7/site-packages/statsmodels/compat/pandas.py:56: FutureWarning: The pandas.core.datetools module is deprecated and will be removed in a future version. Please use the pandas.tseries module instead.\n",
      "  from pandas.core import datetools\n"
     ]
    }
   ],
   "source": [
    "# Importing the stats model API\n",
    "import statsmodels.api as sm\n",
    "\n",
    "# The Default here is Linear Regression (ordinary least squares regression OLS)\n",
    "model = sm.OLS(y_train,X_train).fit()\n",
    "y_pred = model.predict(X_test)"
   ]
  },
  {
   "cell_type": "code",
   "execution_count": 37,
   "metadata": {
    "collapsed": true
   },
   "outputs": [],
   "source": [
    "y_train_pred = model.predict(X_train)"
   ]
  },
  {
   "cell_type": "code",
   "execution_count": 38,
   "metadata": {
    "scrolled": true
   },
   "outputs": [
    {
     "data": {
      "text/html": [
       "<table class=\"simpletable\">\n",
       "<caption>OLS Regression Results</caption>\n",
       "<tr>\n",
       "  <th>Dep. Variable:</th>        <td>SalePrice</td>    <th>  R-squared:         </th> <td>   0.851</td> \n",
       "</tr>\n",
       "<tr>\n",
       "  <th>Model:</th>                   <td>OLS</td>       <th>  Adj. R-squared:    </th> <td>   0.835</td> \n",
       "</tr>\n",
       "<tr>\n",
       "  <th>Method:</th>             <td>Least Squares</td>  <th>  F-statistic:       </th> <td>   52.44</td> \n",
       "</tr>\n",
       "<tr>\n",
       "  <th>Date:</th>             <td>Thu, 05 Oct 2017</td> <th>  Prob (F-statistic):</th>  <td>  0.00</td>  \n",
       "</tr>\n",
       "<tr>\n",
       "  <th>Time:</th>                 <td>18:59:24</td>     <th>  Log-Likelihood:    </th> <td> -13769.</td> \n",
       "</tr>\n",
       "<tr>\n",
       "  <th>No. Observations:</th>      <td>  1173</td>      <th>  AIC:               </th> <td>2.777e+04</td>\n",
       "</tr>\n",
       "<tr>\n",
       "  <th>Df Residuals:</th>          <td>  1057</td>      <th>  BIC:               </th> <td>2.836e+04</td>\n",
       "</tr>\n",
       "<tr>\n",
       "  <th>Df Model:</th>              <td>   115</td>      <th>                     </th>     <td> </td>    \n",
       "</tr>\n",
       "<tr>\n",
       "  <th>Covariance Type:</th>      <td>nonrobust</td>    <th>                     </th>     <td> </td>    \n",
       "</tr>\n",
       "</table>\n",
       "<table class=\"simpletable\">\n",
       "<tr>\n",
       "            <td></td>              <th>coef</th>     <th>std err</th>      <th>t</th>      <th>P>|t|</th>  <th>[0.025</th>    <th>0.975]</th>  \n",
       "</tr>\n",
       "<tr>\n",
       "  <th>MSZoning_FV</th>          <td>-5347.8279</td> <td> 7662.698</td> <td>   -0.698</td> <td> 0.485</td> <td>-2.04e+04</td> <td> 9688.001</td>\n",
       "</tr>\n",
       "<tr>\n",
       "  <th>MSZoning_RH</th>          <td>-8940.4984</td> <td> 8698.814</td> <td>   -1.028</td> <td> 0.304</td> <td> -2.6e+04</td> <td> 8128.409</td>\n",
       "</tr>\n",
       "<tr>\n",
       "  <th>MSZoning_RL</th>          <td>-7220.5779</td> <td> 4098.649</td> <td>   -1.762</td> <td> 0.078</td> <td>-1.53e+04</td> <td>  821.835</td>\n",
       "</tr>\n",
       "<tr>\n",
       "  <th>MSZoning_RM</th>          <td>-3462.1910</td> <td> 5446.377</td> <td>   -0.636</td> <td> 0.525</td> <td>-1.41e+04</td> <td> 7224.750</td>\n",
       "</tr>\n",
       "<tr>\n",
       "  <th>Street_Grvl</th>          <td>-5.563e+04</td> <td> 1.62e+04</td> <td>   -3.427</td> <td> 0.001</td> <td>-8.75e+04</td> <td>-2.38e+04</td>\n",
       "</tr>\n",
       "<tr>\n",
       "  <th>Street_Pave</th>          <td> 3.066e+04</td> <td> 1.26e+04</td> <td>    2.441</td> <td> 0.015</td> <td> 6015.472</td> <td> 5.53e+04</td>\n",
       "</tr>\n",
       "<tr>\n",
       "  <th>LotShape_IR1</th>         <td> 2480.5905</td> <td> 3687.401</td> <td>    0.673</td> <td> 0.501</td> <td>-4754.868</td> <td> 9716.049</td>\n",
       "</tr>\n",
       "<tr>\n",
       "  <th>LotShape_IR2</th>         <td> 1.066e+04</td> <td> 5438.134</td> <td>    1.960</td> <td> 0.050</td> <td>  -11.071</td> <td> 2.13e+04</td>\n",
       "</tr>\n",
       "<tr>\n",
       "  <th>LotShape_IR3</th>         <td>-4.115e+04</td> <td> 9245.938</td> <td>   -4.451</td> <td> 0.000</td> <td>-5.93e+04</td> <td> -2.3e+04</td>\n",
       "</tr>\n",
       "<tr>\n",
       "  <th>LotShape_Reg</th>         <td> 3039.4250</td> <td> 3797.425</td> <td>    0.800</td> <td> 0.424</td> <td>-4411.924</td> <td> 1.05e+04</td>\n",
       "</tr>\n",
       "<tr>\n",
       "  <th>LandContour_Bnk</th>      <td> -1.47e+04</td> <td> 4931.226</td> <td>   -2.982</td> <td> 0.003</td> <td>-2.44e+04</td> <td>-5028.764</td>\n",
       "</tr>\n",
       "<tr>\n",
       "  <th>LandContour_HLS</th>      <td> 8738.5877</td> <td> 4923.792</td> <td>    1.775</td> <td> 0.076</td> <td> -922.930</td> <td> 1.84e+04</td>\n",
       "</tr>\n",
       "<tr>\n",
       "  <th>LandContour_Low</th>      <td>-1.664e+04</td> <td> 6941.119</td> <td>   -2.397</td> <td> 0.017</td> <td>-3.03e+04</td> <td>-3016.288</td>\n",
       "</tr>\n",
       "<tr>\n",
       "  <th>LandContour_Lvl</th>      <td>-2368.5866</td> <td> 3688.731</td> <td>   -0.642</td> <td> 0.521</td> <td>-9606.654</td> <td> 4869.481</td>\n",
       "</tr>\n",
       "<tr>\n",
       "  <th>LotConfig_Corner</th>     <td> 2999.7543</td> <td> 4346.856</td> <td>    0.690</td> <td> 0.490</td> <td>-5529.694</td> <td> 1.15e+04</td>\n",
       "</tr>\n",
       "<tr>\n",
       "  <th>LotConfig_CulDSac</th>    <td> 8233.4795</td> <td> 5211.643</td> <td>    1.580</td> <td> 0.114</td> <td>-1992.862</td> <td> 1.85e+04</td>\n",
       "</tr>\n",
       "<tr>\n",
       "  <th>LotConfig_FR2</th>        <td>-1.108e+04</td> <td> 5778.813</td> <td>   -1.918</td> <td> 0.055</td> <td>-2.24e+04</td> <td>  256.313</td>\n",
       "</tr>\n",
       "<tr>\n",
       "  <th>LotConfig_FR3</th>        <td>-2.626e+04</td> <td> 1.42e+04</td> <td>   -1.845</td> <td> 0.065</td> <td>-5.42e+04</td> <td> 1669.892</td>\n",
       "</tr>\n",
       "<tr>\n",
       "  <th>LotConfig_Inside</th>     <td> 1136.0646</td> <td> 4033.066</td> <td>    0.282</td> <td> 0.778</td> <td>-6777.662</td> <td> 9049.791</td>\n",
       "</tr>\n",
       "<tr>\n",
       "  <th>LandSlope_Gtl</th>        <td> 3751.1592</td> <td> 6048.613</td> <td>    0.620</td> <td> 0.535</td> <td>-8117.495</td> <td> 1.56e+04</td>\n",
       "</tr>\n",
       "<tr>\n",
       "  <th>LandSlope_Mod</th>        <td> 4519.5270</td> <td> 5809.132</td> <td>    0.778</td> <td> 0.437</td> <td>-6879.215</td> <td> 1.59e+04</td>\n",
       "</tr>\n",
       "<tr>\n",
       "  <th>LandSlope_Sev</th>        <td>-3.324e+04</td> <td> 1.07e+04</td> <td>   -3.108</td> <td> 0.002</td> <td>-5.42e+04</td> <td>-1.23e+04</td>\n",
       "</tr>\n",
       "<tr>\n",
       "  <th>Neighborhood_Blmngtn</th> <td>-1791.4160</td> <td> 9689.497</td> <td>   -0.185</td> <td> 0.853</td> <td>-2.08e+04</td> <td> 1.72e+04</td>\n",
       "</tr>\n",
       "<tr>\n",
       "  <th>Neighborhood_Blueste</th> <td> 6544.9128</td> <td> 2.27e+04</td> <td>    0.289</td> <td> 0.773</td> <td> -3.8e+04</td> <td>  5.1e+04</td>\n",
       "</tr>\n",
       "<tr>\n",
       "  <th>Neighborhood_BrDale</th>  <td> 1.327e+04</td> <td> 1.09e+04</td> <td>    1.219</td> <td> 0.223</td> <td>-8092.051</td> <td> 3.46e+04</td>\n",
       "</tr>\n",
       "<tr>\n",
       "  <th>Neighborhood_BrkSide</th> <td>-5142.7892</td> <td> 7315.948</td> <td>   -0.703</td> <td> 0.482</td> <td>-1.95e+04</td> <td> 9212.644</td>\n",
       "</tr>\n",
       "<tr>\n",
       "  <th>Neighborhood_ClearCr</th> <td>-2.779e+04</td> <td> 8585.207</td> <td>   -3.237</td> <td> 0.001</td> <td>-4.46e+04</td> <td>-1.09e+04</td>\n",
       "</tr>\n",
       "<tr>\n",
       "  <th>Neighborhood_CollgCr</th> <td>-1.333e+04</td> <td> 4316.722</td> <td>   -3.088</td> <td> 0.002</td> <td>-2.18e+04</td> <td>-4858.685</td>\n",
       "</tr>\n",
       "<tr>\n",
       "  <th>Neighborhood_Crawfor</th> <td> 1.219e+04</td> <td> 5979.525</td> <td>    2.039</td> <td> 0.042</td> <td>  460.959</td> <td> 2.39e+04</td>\n",
       "</tr>\n",
       "<tr>\n",
       "  <th>Neighborhood_Edwards</th> <td>-3.223e+04</td> <td> 4798.909</td> <td>   -6.717</td> <td> 0.000</td> <td>-4.16e+04</td> <td>-2.28e+04</td>\n",
       "</tr>\n",
       "<tr>\n",
       "  <th>Neighborhood_Gilbert</th> <td>-1.718e+04</td> <td> 5561.291</td> <td>   -3.089</td> <td> 0.002</td> <td>-2.81e+04</td> <td>-6268.374</td>\n",
       "</tr>\n",
       "<tr>\n",
       "  <th>Neighborhood_IDOTRR</th>  <td>-1.734e+04</td> <td> 9723.670</td> <td>   -1.783</td> <td> 0.075</td> <td>-3.64e+04</td> <td> 1737.904</td>\n",
       "</tr>\n",
       "<tr>\n",
       "  <th>Neighborhood_MeadowV</th> <td>-1.699e+04</td> <td> 1.13e+04</td> <td>   -1.504</td> <td> 0.133</td> <td>-3.91e+04</td> <td> 5171.963</td>\n",
       "</tr>\n",
       "<tr>\n",
       "  <th>Neighborhood_Mitchel</th> <td>-2.235e+04</td> <td> 5819.592</td> <td>   -3.841</td> <td> 0.000</td> <td>-3.38e+04</td> <td>-1.09e+04</td>\n",
       "</tr>\n",
       "<tr>\n",
       "  <th>Neighborhood_NAmes</th>   <td> -1.86e+04</td> <td> 3692.766</td> <td>   -5.037</td> <td> 0.000</td> <td>-2.58e+04</td> <td>-1.14e+04</td>\n",
       "</tr>\n",
       "<tr>\n",
       "  <th>Neighborhood_NPkVill</th> <td> 1.906e+04</td> <td> 1.29e+04</td> <td>    1.474</td> <td> 0.141</td> <td>-6321.781</td> <td> 4.44e+04</td>\n",
       "</tr>\n",
       "<tr>\n",
       "  <th>Neighborhood_NWAmes</th>  <td>-2.226e+04</td> <td> 5023.895</td> <td>   -4.431</td> <td> 0.000</td> <td>-3.21e+04</td> <td>-1.24e+04</td>\n",
       "</tr>\n",
       "<tr>\n",
       "  <th>Neighborhood_NoRidge</th> <td> 4.126e+04</td> <td> 6878.345</td> <td>    5.998</td> <td> 0.000</td> <td> 2.78e+04</td> <td> 5.48e+04</td>\n",
       "</tr>\n",
       "<tr>\n",
       "  <th>Neighborhood_NridgHt</th> <td> 5.733e+04</td> <td> 5667.029</td> <td>   10.116</td> <td> 0.000</td> <td> 4.62e+04</td> <td> 6.84e+04</td>\n",
       "</tr>\n",
       "<tr>\n",
       "  <th>Neighborhood_OldTown</th> <td>-2.157e+04</td> <td> 7117.884</td> <td>   -3.031</td> <td> 0.002</td> <td>-3.55e+04</td> <td>-7607.133</td>\n",
       "</tr>\n",
       "<tr>\n",
       "  <th>Neighborhood_SWISU</th>   <td>-1.582e+04</td> <td> 9507.403</td> <td>   -1.664</td> <td> 0.096</td> <td>-3.45e+04</td> <td> 2833.075</td>\n",
       "</tr>\n",
       "<tr>\n",
       "  <th>Neighborhood_Sawyer</th>  <td>-1.841e+04</td> <td> 5165.458</td> <td>   -3.564</td> <td> 0.000</td> <td>-2.85e+04</td> <td>-8273.497</td>\n",
       "</tr>\n",
       "<tr>\n",
       "  <th>Neighborhood_SawyerW</th> <td>-6533.0809</td> <td> 5949.446</td> <td>   -1.098</td> <td> 0.272</td> <td>-1.82e+04</td> <td> 5140.988</td>\n",
       "</tr>\n",
       "<tr>\n",
       "  <th>Neighborhood_Somerst</th> <td> 1.921e+04</td> <td> 8298.002</td> <td>    2.315</td> <td> 0.021</td> <td> 2930.067</td> <td> 3.55e+04</td>\n",
       "</tr>\n",
       "<tr>\n",
       "  <th>Neighborhood_StoneBr</th> <td> 5.927e+04</td> <td> 8012.597</td> <td>    7.397</td> <td> 0.000</td> <td> 4.35e+04</td> <td>  7.5e+04</td>\n",
       "</tr>\n",
       "<tr>\n",
       "  <th>Neighborhood_Timber</th>  <td>-9968.2982</td> <td> 6712.972</td> <td>   -1.485</td> <td> 0.138</td> <td>-2.31e+04</td> <td> 3203.967</td>\n",
       "</tr>\n",
       "<tr>\n",
       "  <th>Neighborhood_Veenker</th> <td> 1.421e+04</td> <td> 1.02e+04</td> <td>    1.398</td> <td> 0.163</td> <td>-5741.752</td> <td> 3.42e+04</td>\n",
       "</tr>\n",
       "<tr>\n",
       "  <th>Condition1_Artery</th>    <td>  468.8165</td> <td> 7491.531</td> <td>    0.063</td> <td> 0.950</td> <td>-1.42e+04</td> <td> 1.52e+04</td>\n",
       "</tr>\n",
       "<tr>\n",
       "  <th>Condition1_Feedr</th>     <td>-1.718e+04</td> <td> 6458.599</td> <td>   -2.660</td> <td> 0.008</td> <td>-2.99e+04</td> <td>-4504.428</td>\n",
       "</tr>\n",
       "<tr>\n",
       "  <th>Condition1_Norm</th>      <td> 3187.7619</td> <td> 5045.399</td> <td>    0.632</td> <td> 0.528</td> <td>-6712.374</td> <td> 1.31e+04</td>\n",
       "</tr>\n",
       "<tr>\n",
       "  <th>Condition1_PosA</th>      <td>-7342.5587</td> <td> 1.49e+04</td> <td>   -0.491</td> <td> 0.623</td> <td>-3.67e+04</td> <td>  2.2e+04</td>\n",
       "</tr>\n",
       "<tr>\n",
       "  <th>Condition1_PosN</th>      <td> 7645.3845</td> <td> 9211.679</td> <td>    0.830</td> <td> 0.407</td> <td>-1.04e+04</td> <td> 2.57e+04</td>\n",
       "</tr>\n",
       "<tr>\n",
       "  <th>Condition1_RRAe</th>      <td>-2.516e+04</td> <td> 1.22e+04</td> <td>   -2.068</td> <td> 0.039</td> <td> -4.9e+04</td> <td>-1289.637</td>\n",
       "</tr>\n",
       "<tr>\n",
       "  <th>Condition1_RRAn</th>      <td> 3829.9227</td> <td> 8004.115</td> <td>    0.478</td> <td> 0.632</td> <td>-1.19e+04</td> <td> 1.95e+04</td>\n",
       "</tr>\n",
       "<tr>\n",
       "  <th>Condition1_RRNe</th>      <td>-9485.8236</td> <td> 2.93e+04</td> <td>   -0.324</td> <td> 0.746</td> <td> -6.7e+04</td> <td>  4.8e+04</td>\n",
       "</tr>\n",
       "<tr>\n",
       "  <th>Condition1_RRNn</th>      <td> 1.907e+04</td> <td> 1.64e+04</td> <td>    1.162</td> <td> 0.245</td> <td>-1.31e+04</td> <td> 5.13e+04</td>\n",
       "</tr>\n",
       "<tr>\n",
       "  <th>Condition2_Artery</th>    <td> 2.645e+04</td> <td> 2.66e+04</td> <td>    0.993</td> <td> 0.321</td> <td>-2.58e+04</td> <td> 7.87e+04</td>\n",
       "</tr>\n",
       "<tr>\n",
       "  <th>Condition2_Feedr</th>     <td>-3205.7555</td> <td> 1.87e+04</td> <td>   -0.171</td> <td> 0.864</td> <td>-3.99e+04</td> <td> 3.35e+04</td>\n",
       "</tr>\n",
       "<tr>\n",
       "  <th>Condition2_Norm</th>      <td> 6683.6036</td> <td> 9392.008</td> <td>    0.712</td> <td> 0.477</td> <td>-1.17e+04</td> <td> 2.51e+04</td>\n",
       "</tr>\n",
       "<tr>\n",
       "  <th>Condition2_PosA</th>      <td> 7.497e+04</td> <td> 3.31e+04</td> <td>    2.268</td> <td> 0.024</td> <td> 1.01e+04</td> <td>  1.4e+05</td>\n",
       "</tr>\n",
       "<tr>\n",
       "  <th>Condition2_PosN</th>      <td>-1.475e+05</td> <td> 2.39e+04</td> <td>   -6.177</td> <td> 0.000</td> <td>-1.94e+05</td> <td>-1.01e+05</td>\n",
       "</tr>\n",
       "<tr>\n",
       "  <th>Condition2_RRAe</th>      <td>-1.954e+04</td> <td> 1.56e+04</td> <td>   -1.254</td> <td> 0.210</td> <td>-5.01e+04</td> <td>  1.1e+04</td>\n",
       "</tr>\n",
       "<tr>\n",
       "  <th>Condition2_RRAn</th>      <td> 2.838e+04</td> <td> 3.03e+04</td> <td>    0.935</td> <td> 0.350</td> <td>-3.12e+04</td> <td> 8.79e+04</td>\n",
       "</tr>\n",
       "<tr>\n",
       "  <th>Condition2_RRNn</th>      <td> 8768.7087</td> <td> 2.26e+04</td> <td>    0.388</td> <td> 0.698</td> <td>-3.56e+04</td> <td> 5.32e+04</td>\n",
       "</tr>\n",
       "<tr>\n",
       "  <th>BldgType_1Fam</th>        <td> 1.486e+04</td> <td> 4245.564</td> <td>    3.499</td> <td> 0.000</td> <td> 6526.314</td> <td> 2.32e+04</td>\n",
       "</tr>\n",
       "<tr>\n",
       "  <th>BldgType_2fmCon</th>      <td> 6956.7627</td> <td> 8062.730</td> <td>    0.863</td> <td> 0.388</td> <td>-8864.015</td> <td> 2.28e+04</td>\n",
       "</tr>\n",
       "<tr>\n",
       "  <th>BldgType_Duplex</th>      <td> 4765.2610</td> <td> 9357.086</td> <td>    0.509</td> <td> 0.611</td> <td>-1.36e+04</td> <td> 2.31e+04</td>\n",
       "</tr>\n",
       "<tr>\n",
       "  <th>BldgType_Twnhs</th>       <td>-3.262e+04</td> <td> 7048.212</td> <td>   -4.627</td> <td> 0.000</td> <td>-4.64e+04</td> <td>-1.88e+04</td>\n",
       "</tr>\n",
       "<tr>\n",
       "  <th>BldgType_TwnhsE</th>      <td>-1.893e+04</td> <td> 5278.923</td> <td>   -3.587</td> <td> 0.000</td> <td>-2.93e+04</td> <td>-8576.200</td>\n",
       "</tr>\n",
       "<tr>\n",
       "  <th>HouseStyle_1.5Fin</th>    <td>-4585.2931</td> <td> 4372.718</td> <td>   -1.049</td> <td> 0.295</td> <td>-1.32e+04</td> <td> 3994.901</td>\n",
       "</tr>\n",
       "<tr>\n",
       "  <th>HouseStyle_1.5Unf</th>    <td> 1.766e+04</td> <td> 1.02e+04</td> <td>    1.728</td> <td> 0.084</td> <td>-2396.398</td> <td> 3.77e+04</td>\n",
       "</tr>\n",
       "<tr>\n",
       "  <th>HouseStyle_1Story</th>    <td> 1.587e+04</td> <td> 5059.647</td> <td>    3.137</td> <td> 0.002</td> <td> 5944.747</td> <td> 2.58e+04</td>\n",
       "</tr>\n",
       "<tr>\n",
       "  <th>HouseStyle_2.5Fin</th>    <td>-2.882e+04</td> <td>  1.8e+04</td> <td>   -1.601</td> <td> 0.110</td> <td>-6.41e+04</td> <td> 6504.418</td>\n",
       "</tr>\n",
       "<tr>\n",
       "  <th>HouseStyle_2.5Unf</th>    <td>-1.267e+04</td> <td> 1.16e+04</td> <td>   -1.088</td> <td> 0.277</td> <td>-3.55e+04</td> <td> 1.02e+04</td>\n",
       "</tr>\n",
       "<tr>\n",
       "  <th>HouseStyle_2Story</th>    <td>-1.941e+04</td> <td> 4835.716</td> <td>   -4.014</td> <td> 0.000</td> <td>-2.89e+04</td> <td>-9921.253</td>\n",
       "</tr>\n",
       "<tr>\n",
       "  <th>HouseStyle_SFoyer</th>    <td> 5524.4668</td> <td> 8007.949</td> <td>    0.690</td> <td> 0.490</td> <td>-1.02e+04</td> <td> 2.12e+04</td>\n",
       "</tr>\n",
       "<tr>\n",
       "  <th>HouseStyle_SLvl</th>      <td> 1450.5467</td> <td> 6009.477</td> <td>    0.241</td> <td> 0.809</td> <td>-1.03e+04</td> <td> 1.32e+04</td>\n",
       "</tr>\n",
       "<tr>\n",
       "  <th>RoofStyle_Flat</th>       <td> 9962.8047</td> <td> 1.17e+04</td> <td>    0.854</td> <td> 0.394</td> <td>-1.29e+04</td> <td> 3.29e+04</td>\n",
       "</tr>\n",
       "<tr>\n",
       "  <th>RoofStyle_Gable</th>      <td>-1.191e+04</td> <td> 5421.636</td> <td>   -2.197</td> <td> 0.028</td> <td>-2.26e+04</td> <td>-1273.842</td>\n",
       "</tr>\n",
       "<tr>\n",
       "  <th>RoofStyle_Gambrel</th>    <td>-2923.0506</td> <td> 1.11e+04</td> <td>   -0.264</td> <td> 0.792</td> <td>-2.47e+04</td> <td> 1.88e+04</td>\n",
       "</tr>\n",
       "<tr>\n",
       "  <th>RoofStyle_Hip</th>        <td> -940.8351</td> <td> 5676.266</td> <td>   -0.166</td> <td> 0.868</td> <td>-1.21e+04</td> <td> 1.02e+04</td>\n",
       "</tr>\n",
       "<tr>\n",
       "  <th>RoofStyle_Mansard</th>    <td>  386.3889</td> <td> 1.35e+04</td> <td>    0.029</td> <td> 0.977</td> <td>-2.62e+04</td> <td>  2.7e+04</td>\n",
       "</tr>\n",
       "<tr>\n",
       "  <th>RoofStyle_Shed</th>       <td>-1.954e+04</td> <td> 1.56e+04</td> <td>   -1.254</td> <td> 0.210</td> <td>-5.01e+04</td> <td>  1.1e+04</td>\n",
       "</tr>\n",
       "<tr>\n",
       "  <th>Foundation_BrkTil</th>    <td>-1628.0807</td> <td> 6622.156</td> <td>   -0.246</td> <td> 0.806</td> <td>-1.46e+04</td> <td> 1.14e+04</td>\n",
       "</tr>\n",
       "<tr>\n",
       "  <th>Foundation_CBlock</th>    <td>  218.2696</td> <td> 6114.624</td> <td>    0.036</td> <td> 0.972</td> <td>-1.18e+04</td> <td> 1.22e+04</td>\n",
       "</tr>\n",
       "<tr>\n",
       "  <th>Foundation_PConc</th>     <td> 4359.2511</td> <td> 6385.511</td> <td>    0.683</td> <td> 0.495</td> <td>-8170.468</td> <td> 1.69e+04</td>\n",
       "</tr>\n",
       "<tr>\n",
       "  <th>Foundation_Stone</th>     <td> 4540.8172</td> <td> 1.52e+04</td> <td>    0.299</td> <td> 0.765</td> <td>-2.53e+04</td> <td> 3.44e+04</td>\n",
       "</tr>\n",
       "<tr>\n",
       "  <th>Foundation_Wood</th>      <td>-3.246e+04</td> <td>    2e+04</td> <td>   -1.619</td> <td> 0.106</td> <td>-7.18e+04</td> <td> 6872.306</td>\n",
       "</tr>\n",
       "<tr>\n",
       "  <th>BsmtExposure_Av</th>      <td>-5646.5087</td> <td> 2976.894</td> <td>   -1.897</td> <td> 0.058</td> <td>-1.15e+04</td> <td>  194.785</td>\n",
       "</tr>\n",
       "<tr>\n",
       "  <th>BsmtExposure_Gd</th>      <td> 1.284e+04</td> <td> 3577.604</td> <td>    3.588</td> <td> 0.000</td> <td> 5815.656</td> <td> 1.99e+04</td>\n",
       "</tr>\n",
       "<tr>\n",
       "  <th>BsmtExposure_Mn</th>      <td>-1.414e+04</td> <td> 3467.693</td> <td>   -4.076</td> <td> 0.000</td> <td>-2.09e+04</td> <td>-7331.511</td>\n",
       "</tr>\n",
       "<tr>\n",
       "  <th>BsmtExposure_No</th>      <td>-1.802e+04</td> <td> 2580.304</td> <td>   -6.985</td> <td> 0.000</td> <td>-2.31e+04</td> <td> -1.3e+04</td>\n",
       "</tr>\n",
       "<tr>\n",
       "  <th>Functional_Maj1</th>      <td> 1.952e+04</td> <td> 1.14e+04</td> <td>    1.707</td> <td> 0.088</td> <td>-2917.417</td> <td>  4.2e+04</td>\n",
       "</tr>\n",
       "<tr>\n",
       "  <th>Functional_Maj2</th>      <td>-1.501e+04</td> <td>  1.6e+04</td> <td>   -0.940</td> <td> 0.347</td> <td>-4.64e+04</td> <td> 1.63e+04</td>\n",
       "</tr>\n",
       "<tr>\n",
       "  <th>Functional_Min1</th>      <td> 5824.7285</td> <td> 8503.704</td> <td>    0.685</td> <td> 0.494</td> <td>-1.09e+04</td> <td> 2.25e+04</td>\n",
       "</tr>\n",
       "<tr>\n",
       "  <th>Functional_Min2</th>      <td> 7855.8513</td> <td> 8872.954</td> <td>    0.885</td> <td> 0.376</td> <td>-9554.755</td> <td> 2.53e+04</td>\n",
       "</tr>\n",
       "<tr>\n",
       "  <th>Functional_Mod</th>       <td> 9380.5333</td> <td>  1.2e+04</td> <td>    0.782</td> <td> 0.434</td> <td>-1.42e+04</td> <td> 3.29e+04</td>\n",
       "</tr>\n",
       "<tr>\n",
       "  <th>Functional_Sev</th>       <td>-7.819e+04</td> <td> 3.45e+04</td> <td>   -2.264</td> <td> 0.024</td> <td>-1.46e+05</td> <td>-1.04e+04</td>\n",
       "</tr>\n",
       "<tr>\n",
       "  <th>Functional_Typ</th>       <td> 2.565e+04</td> <td> 6735.083</td> <td>    3.809</td> <td> 0.000</td> <td> 1.24e+04</td> <td> 3.89e+04</td>\n",
       "</tr>\n",
       "<tr>\n",
       "  <th>GarageType_2Types</th>    <td>-1.562e+04</td> <td>  1.3e+04</td> <td>   -1.198</td> <td> 0.231</td> <td>-4.12e+04</td> <td> 9956.155</td>\n",
       "</tr>\n",
       "<tr>\n",
       "  <th>GarageType_Attchd</th>    <td>  177.0464</td> <td> 4792.339</td> <td>    0.037</td> <td> 0.971</td> <td>-9226.533</td> <td> 9580.626</td>\n",
       "</tr>\n",
       "<tr>\n",
       "  <th>GarageType_Basment</th>   <td> -594.4035</td> <td> 9208.990</td> <td>   -0.065</td> <td> 0.949</td> <td>-1.87e+04</td> <td> 1.75e+04</td>\n",
       "</tr>\n",
       "<tr>\n",
       "  <th>GarageType_BuiltIn</th>   <td>  804.7329</td> <td> 6191.106</td> <td>    0.130</td> <td> 0.897</td> <td>-1.13e+04</td> <td>  1.3e+04</td>\n",
       "</tr>\n",
       "<tr>\n",
       "  <th>GarageType_CarPort</th>   <td>-1.055e+04</td> <td> 1.55e+04</td> <td>   -0.679</td> <td> 0.497</td> <td>-4.11e+04</td> <td> 1.99e+04</td>\n",
       "</tr>\n",
       "<tr>\n",
       "  <th>GarageType_Detchd</th>    <td>  812.5515</td> <td> 4915.861</td> <td>    0.165</td> <td> 0.869</td> <td>-8833.405</td> <td> 1.05e+04</td>\n",
       "</tr>\n",
       "<tr>\n",
       "  <th>0</th>                    <td>-5.061e+04</td> <td> 1.86e+04</td> <td>   -2.726</td> <td> 0.007</td> <td> -8.7e+04</td> <td>-1.42e+04</td>\n",
       "</tr>\n",
       "<tr>\n",
       "  <th>1</th>                    <td> 1.683e+05</td> <td> 3.19e+04</td> <td>    5.267</td> <td> 0.000</td> <td> 1.06e+05</td> <td> 2.31e+05</td>\n",
       "</tr>\n",
       "<tr>\n",
       "  <th>2</th>                    <td> 4.551e+04</td> <td> 1.46e+04</td> <td>    3.127</td> <td> 0.002</td> <td>  1.7e+04</td> <td> 7.41e+04</td>\n",
       "</tr>\n",
       "<tr>\n",
       "  <th>3</th>                    <td> 1.819e+04</td> <td> 4255.495</td> <td>    4.273</td> <td> 0.000</td> <td> 9835.320</td> <td> 2.65e+04</td>\n",
       "</tr>\n",
       "<tr>\n",
       "  <th>4</th>                    <td> 3.549e+04</td> <td>    2e+04</td> <td>    1.778</td> <td> 0.076</td> <td>-3686.812</td> <td> 7.47e+04</td>\n",
       "</tr>\n",
       "<tr>\n",
       "  <th>5</th>                    <td>-1384.0264</td> <td> 1.03e+04</td> <td>   -0.134</td> <td> 0.893</td> <td>-2.16e+04</td> <td> 1.88e+04</td>\n",
       "</tr>\n",
       "<tr>\n",
       "  <th>6</th>                    <td>-3589.9283</td> <td> 9138.371</td> <td>   -0.393</td> <td> 0.695</td> <td>-2.15e+04</td> <td> 1.43e+04</td>\n",
       "</tr>\n",
       "<tr>\n",
       "  <th>7</th>                    <td> 3.205e+04</td> <td> 2.19e+04</td> <td>    1.461</td> <td> 0.144</td> <td> -1.1e+04</td> <td> 7.51e+04</td>\n",
       "</tr>\n",
       "<tr>\n",
       "  <th>8</th>                    <td> 1.379e+05</td> <td> 2.18e+04</td> <td>    6.324</td> <td> 0.000</td> <td> 9.51e+04</td> <td> 1.81e+05</td>\n",
       "</tr>\n",
       "<tr>\n",
       "  <th>9</th>                    <td> 1.143e+05</td> <td> 1.53e+04</td> <td>    7.460</td> <td> 0.000</td> <td> 8.43e+04</td> <td> 1.44e+05</td>\n",
       "</tr>\n",
       "<tr>\n",
       "  <th>10</th>                   <td> 3.039e+04</td> <td> 1.81e+04</td> <td>    1.683</td> <td> 0.093</td> <td>-5039.583</td> <td> 6.58e+04</td>\n",
       "</tr>\n",
       "<tr>\n",
       "  <th>11</th>                   <td> 1.614e+05</td> <td> 1.65e+04</td> <td>    9.760</td> <td> 0.000</td> <td> 1.29e+05</td> <td> 1.94e+05</td>\n",
       "</tr>\n",
       "<tr>\n",
       "  <th>12</th>                   <td> 1.475e+04</td> <td> 5700.257</td> <td>    2.587</td> <td> 0.010</td> <td> 3563.514</td> <td> 2.59e+04</td>\n",
       "</tr>\n",
       "<tr>\n",
       "  <th>13</th>                   <td> 1.546e+04</td> <td> 8424.347</td> <td>    1.835</td> <td> 0.067</td> <td>-1072.506</td> <td>  3.2e+04</td>\n",
       "</tr>\n",
       "<tr>\n",
       "  <th>14</th>                   <td> 2.225e+04</td> <td> 1.02e+04</td> <td>    2.180</td> <td> 0.029</td> <td> 2221.082</td> <td> 4.23e+04</td>\n",
       "</tr>\n",
       "<tr>\n",
       "  <th>15</th>                   <td> 1.022e+04</td> <td> 6353.997</td> <td>    1.609</td> <td> 0.108</td> <td>-2244.184</td> <td> 2.27e+04</td>\n",
       "</tr>\n",
       "<tr>\n",
       "  <th>16</th>                   <td>-4.665e+04</td> <td> 1.24e+04</td> <td>   -3.770</td> <td> 0.000</td> <td>-7.09e+04</td> <td>-2.24e+04</td>\n",
       "</tr>\n",
       "<tr>\n",
       "  <th>17</th>                   <td>-6.179e+04</td> <td> 2.04e+04</td> <td>   -3.022</td> <td> 0.003</td> <td>-1.02e+05</td> <td>-2.17e+04</td>\n",
       "</tr>\n",
       "<tr>\n",
       "  <th>18</th>                   <td> 3.468e+04</td> <td> 1.28e+04</td> <td>    2.701</td> <td> 0.007</td> <td> 9482.725</td> <td> 5.99e+04</td>\n",
       "</tr>\n",
       "<tr>\n",
       "  <th>19</th>                   <td>-1.101e+04</td> <td> 9112.561</td> <td>   -1.208</td> <td> 0.227</td> <td>-2.89e+04</td> <td> 6874.040</td>\n",
       "</tr>\n",
       "<tr>\n",
       "  <th>20</th>                   <td> 3.691e+04</td> <td> 1.06e+04</td> <td>    3.494</td> <td> 0.000</td> <td> 1.62e+04</td> <td> 5.76e+04</td>\n",
       "</tr>\n",
       "<tr>\n",
       "  <th>21</th>                   <td> 1.167e+04</td> <td> 7495.917</td> <td>    1.556</td> <td> 0.120</td> <td>-3041.972</td> <td> 2.64e+04</td>\n",
       "</tr>\n",
       "<tr>\n",
       "  <th>22</th>                   <td>  414.3042</td> <td> 9447.519</td> <td>    0.044</td> <td> 0.965</td> <td>-1.81e+04</td> <td>  1.9e+04</td>\n",
       "</tr>\n",
       "<tr>\n",
       "  <th>23</th>                   <td>   -5.6612</td> <td> 1.03e+04</td> <td>   -0.001</td> <td> 1.000</td> <td>-2.02e+04</td> <td> 2.02e+04</td>\n",
       "</tr>\n",
       "<tr>\n",
       "  <th>24</th>                   <td> 2.736e+04</td> <td> 1.63e+04</td> <td>    1.682</td> <td> 0.093</td> <td>-4565.575</td> <td> 5.93e+04</td>\n",
       "</tr>\n",
       "<tr>\n",
       "  <th>25</th>                   <td> 2.954e+04</td> <td> 8340.286</td> <td>    3.542</td> <td> 0.000</td> <td> 1.32e+04</td> <td> 4.59e+04</td>\n",
       "</tr>\n",
       "<tr>\n",
       "  <th>26</th>                   <td>-1.633e+04</td> <td> 1.75e+04</td> <td>   -0.933</td> <td> 0.351</td> <td>-5.07e+04</td> <td>  1.8e+04</td>\n",
       "</tr>\n",
       "<tr>\n",
       "  <th>27</th>                   <td>-2454.7041</td> <td> 3984.910</td> <td>   -0.616</td> <td> 0.538</td> <td>-1.03e+04</td> <td> 5364.529</td>\n",
       "</tr>\n",
       "<tr>\n",
       "  <th>28</th>                   <td> -141.9111</td> <td> 2633.196</td> <td>   -0.054</td> <td> 0.957</td> <td>-5308.797</td> <td> 5024.975</td>\n",
       "</tr>\n",
       "</table>\n",
       "<table class=\"simpletable\">\n",
       "<tr>\n",
       "  <th>Omnibus:</th>       <td>331.479</td> <th>  Durbin-Watson:     </th> <td>   1.954</td> \n",
       "</tr>\n",
       "<tr>\n",
       "  <th>Prob(Omnibus):</th> <td> 0.000</td>  <th>  Jarque-Bera (JB):  </th> <td>30969.367</td>\n",
       "</tr>\n",
       "<tr>\n",
       "  <th>Skew:</th>          <td>-0.026</td>  <th>  Prob(JB):          </th> <td>    0.00</td> \n",
       "</tr>\n",
       "<tr>\n",
       "  <th>Kurtosis:</th>      <td>28.172</td>  <th>  Cond. No.          </th> <td>2.02e+16</td> \n",
       "</tr>\n",
       "</table>"
      ],
      "text/plain": [
       "<class 'statsmodels.iolib.summary.Summary'>\n",
       "\"\"\"\n",
       "                            OLS Regression Results                            \n",
       "==============================================================================\n",
       "Dep. Variable:              SalePrice   R-squared:                       0.851\n",
       "Model:                            OLS   Adj. R-squared:                  0.835\n",
       "Method:                 Least Squares   F-statistic:                     52.44\n",
       "Date:                Thu, 05 Oct 2017   Prob (F-statistic):               0.00\n",
       "Time:                        18:59:24   Log-Likelihood:                -13769.\n",
       "No. Observations:                1173   AIC:                         2.777e+04\n",
       "Df Residuals:                    1057   BIC:                         2.836e+04\n",
       "Df Model:                         115                                         \n",
       "Covariance Type:            nonrobust                                         \n",
       "========================================================================================\n",
       "                           coef    std err          t      P>|t|      [0.025      0.975]\n",
       "----------------------------------------------------------------------------------------\n",
       "MSZoning_FV          -5347.8279   7662.698     -0.698      0.485   -2.04e+04    9688.001\n",
       "MSZoning_RH          -8940.4984   8698.814     -1.028      0.304    -2.6e+04    8128.409\n",
       "MSZoning_RL          -7220.5779   4098.649     -1.762      0.078   -1.53e+04     821.835\n",
       "MSZoning_RM          -3462.1910   5446.377     -0.636      0.525   -1.41e+04    7224.750\n",
       "Street_Grvl          -5.563e+04   1.62e+04     -3.427      0.001   -8.75e+04   -2.38e+04\n",
       "Street_Pave           3.066e+04   1.26e+04      2.441      0.015    6015.472    5.53e+04\n",
       "LotShape_IR1          2480.5905   3687.401      0.673      0.501   -4754.868    9716.049\n",
       "LotShape_IR2          1.066e+04   5438.134      1.960      0.050     -11.071    2.13e+04\n",
       "LotShape_IR3         -4.115e+04   9245.938     -4.451      0.000   -5.93e+04    -2.3e+04\n",
       "LotShape_Reg          3039.4250   3797.425      0.800      0.424   -4411.924    1.05e+04\n",
       "LandContour_Bnk       -1.47e+04   4931.226     -2.982      0.003   -2.44e+04   -5028.764\n",
       "LandContour_HLS       8738.5877   4923.792      1.775      0.076    -922.930    1.84e+04\n",
       "LandContour_Low      -1.664e+04   6941.119     -2.397      0.017   -3.03e+04   -3016.288\n",
       "LandContour_Lvl      -2368.5866   3688.731     -0.642      0.521   -9606.654    4869.481\n",
       "LotConfig_Corner      2999.7543   4346.856      0.690      0.490   -5529.694    1.15e+04\n",
       "LotConfig_CulDSac     8233.4795   5211.643      1.580      0.114   -1992.862    1.85e+04\n",
       "LotConfig_FR2        -1.108e+04   5778.813     -1.918      0.055   -2.24e+04     256.313\n",
       "LotConfig_FR3        -2.626e+04   1.42e+04     -1.845      0.065   -5.42e+04    1669.892\n",
       "LotConfig_Inside      1136.0646   4033.066      0.282      0.778   -6777.662    9049.791\n",
       "LandSlope_Gtl         3751.1592   6048.613      0.620      0.535   -8117.495    1.56e+04\n",
       "LandSlope_Mod         4519.5270   5809.132      0.778      0.437   -6879.215    1.59e+04\n",
       "LandSlope_Sev        -3.324e+04   1.07e+04     -3.108      0.002   -5.42e+04   -1.23e+04\n",
       "Neighborhood_Blmngtn -1791.4160   9689.497     -0.185      0.853   -2.08e+04    1.72e+04\n",
       "Neighborhood_Blueste  6544.9128   2.27e+04      0.289      0.773    -3.8e+04     5.1e+04\n",
       "Neighborhood_BrDale   1.327e+04   1.09e+04      1.219      0.223   -8092.051    3.46e+04\n",
       "Neighborhood_BrkSide -5142.7892   7315.948     -0.703      0.482   -1.95e+04    9212.644\n",
       "Neighborhood_ClearCr -2.779e+04   8585.207     -3.237      0.001   -4.46e+04   -1.09e+04\n",
       "Neighborhood_CollgCr -1.333e+04   4316.722     -3.088      0.002   -2.18e+04   -4858.685\n",
       "Neighborhood_Crawfor  1.219e+04   5979.525      2.039      0.042     460.959    2.39e+04\n",
       "Neighborhood_Edwards -3.223e+04   4798.909     -6.717      0.000   -4.16e+04   -2.28e+04\n",
       "Neighborhood_Gilbert -1.718e+04   5561.291     -3.089      0.002   -2.81e+04   -6268.374\n",
       "Neighborhood_IDOTRR  -1.734e+04   9723.670     -1.783      0.075   -3.64e+04    1737.904\n",
       "Neighborhood_MeadowV -1.699e+04   1.13e+04     -1.504      0.133   -3.91e+04    5171.963\n",
       "Neighborhood_Mitchel -2.235e+04   5819.592     -3.841      0.000   -3.38e+04   -1.09e+04\n",
       "Neighborhood_NAmes    -1.86e+04   3692.766     -5.037      0.000   -2.58e+04   -1.14e+04\n",
       "Neighborhood_NPkVill  1.906e+04   1.29e+04      1.474      0.141   -6321.781    4.44e+04\n",
       "Neighborhood_NWAmes  -2.226e+04   5023.895     -4.431      0.000   -3.21e+04   -1.24e+04\n",
       "Neighborhood_NoRidge  4.126e+04   6878.345      5.998      0.000    2.78e+04    5.48e+04\n",
       "Neighborhood_NridgHt  5.733e+04   5667.029     10.116      0.000    4.62e+04    6.84e+04\n",
       "Neighborhood_OldTown -2.157e+04   7117.884     -3.031      0.002   -3.55e+04   -7607.133\n",
       "Neighborhood_SWISU   -1.582e+04   9507.403     -1.664      0.096   -3.45e+04    2833.075\n",
       "Neighborhood_Sawyer  -1.841e+04   5165.458     -3.564      0.000   -2.85e+04   -8273.497\n",
       "Neighborhood_SawyerW -6533.0809   5949.446     -1.098      0.272   -1.82e+04    5140.988\n",
       "Neighborhood_Somerst  1.921e+04   8298.002      2.315      0.021    2930.067    3.55e+04\n",
       "Neighborhood_StoneBr  5.927e+04   8012.597      7.397      0.000    4.35e+04     7.5e+04\n",
       "Neighborhood_Timber  -9968.2982   6712.972     -1.485      0.138   -2.31e+04    3203.967\n",
       "Neighborhood_Veenker  1.421e+04   1.02e+04      1.398      0.163   -5741.752    3.42e+04\n",
       "Condition1_Artery      468.8165   7491.531      0.063      0.950   -1.42e+04    1.52e+04\n",
       "Condition1_Feedr     -1.718e+04   6458.599     -2.660      0.008   -2.99e+04   -4504.428\n",
       "Condition1_Norm       3187.7619   5045.399      0.632      0.528   -6712.374    1.31e+04\n",
       "Condition1_PosA      -7342.5587   1.49e+04     -0.491      0.623   -3.67e+04     2.2e+04\n",
       "Condition1_PosN       7645.3845   9211.679      0.830      0.407   -1.04e+04    2.57e+04\n",
       "Condition1_RRAe      -2.516e+04   1.22e+04     -2.068      0.039    -4.9e+04   -1289.637\n",
       "Condition1_RRAn       3829.9227   8004.115      0.478      0.632   -1.19e+04    1.95e+04\n",
       "Condition1_RRNe      -9485.8236   2.93e+04     -0.324      0.746    -6.7e+04     4.8e+04\n",
       "Condition1_RRNn       1.907e+04   1.64e+04      1.162      0.245   -1.31e+04    5.13e+04\n",
       "Condition2_Artery     2.645e+04   2.66e+04      0.993      0.321   -2.58e+04    7.87e+04\n",
       "Condition2_Feedr     -3205.7555   1.87e+04     -0.171      0.864   -3.99e+04    3.35e+04\n",
       "Condition2_Norm       6683.6036   9392.008      0.712      0.477   -1.17e+04    2.51e+04\n",
       "Condition2_PosA       7.497e+04   3.31e+04      2.268      0.024    1.01e+04     1.4e+05\n",
       "Condition2_PosN      -1.475e+05   2.39e+04     -6.177      0.000   -1.94e+05   -1.01e+05\n",
       "Condition2_RRAe      -1.954e+04   1.56e+04     -1.254      0.210   -5.01e+04     1.1e+04\n",
       "Condition2_RRAn       2.838e+04   3.03e+04      0.935      0.350   -3.12e+04    8.79e+04\n",
       "Condition2_RRNn       8768.7087   2.26e+04      0.388      0.698   -3.56e+04    5.32e+04\n",
       "BldgType_1Fam         1.486e+04   4245.564      3.499      0.000    6526.314    2.32e+04\n",
       "BldgType_2fmCon       6956.7627   8062.730      0.863      0.388   -8864.015    2.28e+04\n",
       "BldgType_Duplex       4765.2610   9357.086      0.509      0.611   -1.36e+04    2.31e+04\n",
       "BldgType_Twnhs       -3.262e+04   7048.212     -4.627      0.000   -4.64e+04   -1.88e+04\n",
       "BldgType_TwnhsE      -1.893e+04   5278.923     -3.587      0.000   -2.93e+04   -8576.200\n",
       "HouseStyle_1.5Fin    -4585.2931   4372.718     -1.049      0.295   -1.32e+04    3994.901\n",
       "HouseStyle_1.5Unf     1.766e+04   1.02e+04      1.728      0.084   -2396.398    3.77e+04\n",
       "HouseStyle_1Story     1.587e+04   5059.647      3.137      0.002    5944.747    2.58e+04\n",
       "HouseStyle_2.5Fin    -2.882e+04    1.8e+04     -1.601      0.110   -6.41e+04    6504.418\n",
       "HouseStyle_2.5Unf    -1.267e+04   1.16e+04     -1.088      0.277   -3.55e+04    1.02e+04\n",
       "HouseStyle_2Story    -1.941e+04   4835.716     -4.014      0.000   -2.89e+04   -9921.253\n",
       "HouseStyle_SFoyer     5524.4668   8007.949      0.690      0.490   -1.02e+04    2.12e+04\n",
       "HouseStyle_SLvl       1450.5467   6009.477      0.241      0.809   -1.03e+04    1.32e+04\n",
       "RoofStyle_Flat        9962.8047   1.17e+04      0.854      0.394   -1.29e+04    3.29e+04\n",
       "RoofStyle_Gable      -1.191e+04   5421.636     -2.197      0.028   -2.26e+04   -1273.842\n",
       "RoofStyle_Gambrel    -2923.0506   1.11e+04     -0.264      0.792   -2.47e+04    1.88e+04\n",
       "RoofStyle_Hip         -940.8351   5676.266     -0.166      0.868   -1.21e+04    1.02e+04\n",
       "RoofStyle_Mansard      386.3889   1.35e+04      0.029      0.977   -2.62e+04     2.7e+04\n",
       "RoofStyle_Shed       -1.954e+04   1.56e+04     -1.254      0.210   -5.01e+04     1.1e+04\n",
       "Foundation_BrkTil    -1628.0807   6622.156     -0.246      0.806   -1.46e+04    1.14e+04\n",
       "Foundation_CBlock      218.2696   6114.624      0.036      0.972   -1.18e+04    1.22e+04\n",
       "Foundation_PConc      4359.2511   6385.511      0.683      0.495   -8170.468    1.69e+04\n",
       "Foundation_Stone      4540.8172   1.52e+04      0.299      0.765   -2.53e+04    3.44e+04\n",
       "Foundation_Wood      -3.246e+04      2e+04     -1.619      0.106   -7.18e+04    6872.306\n",
       "BsmtExposure_Av      -5646.5087   2976.894     -1.897      0.058   -1.15e+04     194.785\n",
       "BsmtExposure_Gd       1.284e+04   3577.604      3.588      0.000    5815.656    1.99e+04\n",
       "BsmtExposure_Mn      -1.414e+04   3467.693     -4.076      0.000   -2.09e+04   -7331.511\n",
       "BsmtExposure_No      -1.802e+04   2580.304     -6.985      0.000   -2.31e+04    -1.3e+04\n",
       "Functional_Maj1       1.952e+04   1.14e+04      1.707      0.088   -2917.417     4.2e+04\n",
       "Functional_Maj2      -1.501e+04    1.6e+04     -0.940      0.347   -4.64e+04    1.63e+04\n",
       "Functional_Min1       5824.7285   8503.704      0.685      0.494   -1.09e+04    2.25e+04\n",
       "Functional_Min2       7855.8513   8872.954      0.885      0.376   -9554.755    2.53e+04\n",
       "Functional_Mod        9380.5333    1.2e+04      0.782      0.434   -1.42e+04    3.29e+04\n",
       "Functional_Sev       -7.819e+04   3.45e+04     -2.264      0.024   -1.46e+05   -1.04e+04\n",
       "Functional_Typ        2.565e+04   6735.083      3.809      0.000    1.24e+04    3.89e+04\n",
       "GarageType_2Types    -1.562e+04    1.3e+04     -1.198      0.231   -4.12e+04    9956.155\n",
       "GarageType_Attchd      177.0464   4792.339      0.037      0.971   -9226.533    9580.626\n",
       "GarageType_Basment    -594.4035   9208.990     -0.065      0.949   -1.87e+04    1.75e+04\n",
       "GarageType_BuiltIn     804.7329   6191.106      0.130      0.897   -1.13e+04     1.3e+04\n",
       "GarageType_CarPort   -1.055e+04   1.55e+04     -0.679      0.497   -4.11e+04    1.99e+04\n",
       "GarageType_Detchd      812.5515   4915.861      0.165      0.869   -8833.405    1.05e+04\n",
       "0                    -5.061e+04   1.86e+04     -2.726      0.007    -8.7e+04   -1.42e+04\n",
       "1                     1.683e+05   3.19e+04      5.267      0.000    1.06e+05    2.31e+05\n",
       "2                     4.551e+04   1.46e+04      3.127      0.002     1.7e+04    7.41e+04\n",
       "3                     1.819e+04   4255.495      4.273      0.000    9835.320    2.65e+04\n",
       "4                     3.549e+04      2e+04      1.778      0.076   -3686.812    7.47e+04\n",
       "5                    -1384.0264   1.03e+04     -0.134      0.893   -2.16e+04    1.88e+04\n",
       "6                    -3589.9283   9138.371     -0.393      0.695   -2.15e+04    1.43e+04\n",
       "7                     3.205e+04   2.19e+04      1.461      0.144    -1.1e+04    7.51e+04\n",
       "8                     1.379e+05   2.18e+04      6.324      0.000    9.51e+04    1.81e+05\n",
       "9                     1.143e+05   1.53e+04      7.460      0.000    8.43e+04    1.44e+05\n",
       "10                    3.039e+04   1.81e+04      1.683      0.093   -5039.583    6.58e+04\n",
       "11                    1.614e+05   1.65e+04      9.760      0.000    1.29e+05    1.94e+05\n",
       "12                    1.475e+04   5700.257      2.587      0.010    3563.514    2.59e+04\n",
       "13                    1.546e+04   8424.347      1.835      0.067   -1072.506     3.2e+04\n",
       "14                    2.225e+04   1.02e+04      2.180      0.029    2221.082    4.23e+04\n",
       "15                    1.022e+04   6353.997      1.609      0.108   -2244.184    2.27e+04\n",
       "16                   -4.665e+04   1.24e+04     -3.770      0.000   -7.09e+04   -2.24e+04\n",
       "17                   -6.179e+04   2.04e+04     -3.022      0.003   -1.02e+05   -2.17e+04\n",
       "18                    3.468e+04   1.28e+04      2.701      0.007    9482.725    5.99e+04\n",
       "19                   -1.101e+04   9112.561     -1.208      0.227   -2.89e+04    6874.040\n",
       "20                    3.691e+04   1.06e+04      3.494      0.000    1.62e+04    5.76e+04\n",
       "21                    1.167e+04   7495.917      1.556      0.120   -3041.972    2.64e+04\n",
       "22                     414.3042   9447.519      0.044      0.965   -1.81e+04     1.9e+04\n",
       "23                      -5.6612   1.03e+04     -0.001      1.000   -2.02e+04    2.02e+04\n",
       "24                    2.736e+04   1.63e+04      1.682      0.093   -4565.575    5.93e+04\n",
       "25                    2.954e+04   8340.286      3.542      0.000    1.32e+04    4.59e+04\n",
       "26                   -1.633e+04   1.75e+04     -0.933      0.351   -5.07e+04     1.8e+04\n",
       "27                   -2454.7041   3984.910     -0.616      0.538   -1.03e+04    5364.529\n",
       "28                    -141.9111   2633.196     -0.054      0.957   -5308.797    5024.975\n",
       "==============================================================================\n",
       "Omnibus:                      331.479   Durbin-Watson:                   1.954\n",
       "Prob(Omnibus):                  0.000   Jarque-Bera (JB):            30969.367\n",
       "Skew:                          -0.026   Prob(JB):                         0.00\n",
       "Kurtosis:                      28.172   Cond. No.                     2.02e+16\n",
       "==============================================================================\n",
       "\n",
       "Warnings:\n",
       "[1] Standard Errors assume that the covariance matrix of the errors is correctly specified.\n",
       "[2] The smallest eigenvalue is 3.84e-29. This might indicate that there are\n",
       "strong multicollinearity problems or that the design matrix is singular.\n",
       "\"\"\""
      ]
     },
     "execution_count": 38,
     "metadata": {},
     "output_type": "execute_result"
    }
   ],
   "source": [
    "model.summary()"
   ]
  },
  {
   "cell_type": "code",
   "execution_count": 39,
   "metadata": {
    "scrolled": true
   },
   "outputs": [
    {
     "data": {
      "text/plain": [
       "251736.26490914056"
      ]
     },
     "execution_count": 39,
     "metadata": {},
     "output_type": "execute_result"
    }
   ],
   "source": [
    "y_pred.mean()"
   ]
  },
  {
   "cell_type": "code",
   "execution_count": 40,
   "metadata": {
    "scrolled": true
   },
   "outputs": [
    {
     "data": {
      "text/plain": [
       "117050.60162573573"
      ]
     },
     "execution_count": 40,
     "metadata": {},
     "output_type": "execute_result"
    }
   ],
   "source": [
    "y_pred.std()"
   ]
  },
  {
   "cell_type": "code",
   "execution_count": 41,
   "metadata": {},
   "outputs": [
    {
     "name": "stdout",
     "output_type": "stream",
     "text": [
      "('R2: ', 0.85086981080940716)\n"
     ]
    }
   ],
   "source": [
    "print('R2: ', model.rsquared)"
   ]
  },
  {
   "cell_type": "code",
   "execution_count": 42,
   "metadata": {
    "collapsed": true
   },
   "outputs": [],
   "source": [
    "y_train_pred = model.predict(X_train)"
   ]
  },
  {
   "cell_type": "code",
   "execution_count": 43,
   "metadata": {
    "scrolled": false
   },
   "outputs": [
    {
     "data": {
      "image/png": "[encoded data removed]",
      "text/plain": [
       "<matplotlib.figure.Figure at 0x118067050>"
      ]
     },
     "metadata": {
      "image/png": {
       "height": 588,
       "width": 624
      }
     },
     "output_type": "display_data"
    },
    {
     "name": "stdout",
     "output_type": "stream",
     "text": [
      "MSE: 7248598100.4\n"
     ]
    }
   ],
   "source": [
    "from sklearn.metrics import mean_squared_error\n",
    "\n",
    "# Plot the model\n",
    "plt.figure(figsize=(10,10))\n",
    "plt.scatter(y_pred, y_test, s=30, c='r', marker='+', zorder=10)\n",
    "plt.xlabel(\"Predicted Values - $\\hat{y}$\")\n",
    "plt.ylabel(\"Actual Values - $y$\")\n",
    "plt.show()\n",
    "\n",
    "print \"MSE:\", mean_squared_error(y_test, y_pred)"
   ]
  },
  {
   "cell_type": "code",
   "execution_count": 44,
   "metadata": {
    "scrolled": true
   },
   "outputs": [],
   "source": [
    "test_new = pd.DataFrame()\n",
    "\n",
    "test_new['y_pred'] = y_pred\n",
    "test_new['y_test'] = y_test\n",
    "test_new['residuals'] = test_new[\"y_test\"] - test_new['y_pred']"
   ]
  },
  {
   "cell_type": "code",
   "execution_count": 45,
   "metadata": {
    "collapsed": true
   },
   "outputs": [],
   "source": [
    "train_new = pd.DataFrame()\n",
    "train_new['y_train_pred'] = y_train_pred\n",
    "train_new['y_train'] = y_train\n",
    "train_new['residuals'] = train_new['y_train'] - train_new['y_train_pred']"
   ]
  },
  {
   "cell_type": "code",
   "execution_count": 46,
   "metadata": {},
   "outputs": [
    {
     "data": {
      "text/plain": [
       "<seaborn.axisgrid.FacetGrid at 0x11127f0d0>"
      ]
     },
     "execution_count": 46,
     "metadata": {},
     "output_type": "execute_result"
    },
    {
     "data": {
      "image/png": "[encoded data removed]",
      "text/plain": [
       "<matplotlib.figure.Figure at 0x1c22b99f10>"
      ]
     },
     "metadata": {
      "image/png": {
       "height": 1073,
       "width": 1072
      }
     },
     "output_type": "display_data"
    }
   ],
   "source": [
    "import seaborn as sns\n",
    "%matplotlib inline\n",
    "\n",
    "sns.lmplot(x='y_pred', y='y_test', data=test_new, size=15)"
   ]
  },
  {
   "cell_type": "markdown",
   "metadata": {},
   "source": [
    "<img src=\"http://imgur.com/l5NasQj.png\" style=\"float: left; margin: 25px 15px 0px 0px; height: 25px\">\n",
    "\n",
    "## 2. Determine any value of *changeable* property characteristics unexplained by the *fixed* ones.\n",
    "\n",
    "---\n",
    "\n",
    "Now that you have a model that estimates the price of a house based on its static characteristics, we can move forward with part 2 and 3 of the plan: what are the costs/benefits of quality, condition, and renovations?\n",
    "\n",
    "There are two specific requirements for these estimates:\n",
    "1. The estimates of effects must be in terms of dollars added or subtracted from the house value. \n",
    "2. The effects must be on the variance in price remaining from the first model.\n",
    "\n",
    "The residuals from the first model (training and testing) represent the variance in price unexplained by the fixed characteristics. Of that variance in price remaining, how much of it can be explained by the easy-to-change aspects of the property?\n",
    "\n",
    "---\n",
    "\n",
    "**Your goals:**\n",
    "1. Evaluate the effect in dollars of the renovate-able features. \n",
    "- How would your company use this second model and its coefficients to determine whether they should buy a property or not? Explain how the company can use the two models you have built to determine if they can make money. \n",
    "- Investigate how much of the variance in price remaining is explained by these features.\n",
    "- Do you trust your model? Should it be used to evaluate which properties to buy and fix up?"
   ]
  },
  {
   "cell_type": "code",
   "execution_count": 47,
   "metadata": {
    "collapsed": true
   },
   "outputs": [],
   "source": [
    "# Train model to predict residuals for number 2"
   ]
  },
  {
   "cell_type": "code",
   "execution_count": 48,
   "metadata": {},
   "outputs": [
    {
     "data": {
      "text/plain": [
       "157"
      ]
     },
     "execution_count": 48,
     "metadata": {},
     "output_type": "execute_result"
    }
   ],
   "source": [
    "len(test_new)"
   ]
  },
  {
   "cell_type": "code",
   "execution_count": 49,
   "metadata": {},
   "outputs": [
    {
     "data": {
      "text/plain": [
       "1173"
      ]
     },
     "execution_count": 49,
     "metadata": {},
     "output_type": "execute_result"
    }
   ],
   "source": [
    "len(train_new)"
   ]
  },
  {
   "cell_type": "code",
   "execution_count": 50,
   "metadata": {},
   "outputs": [
    {
     "data": {
      "text/plain": [
       "1330"
      ]
     },
     "execution_count": 50,
     "metadata": {},
     "output_type": "execute_result"
    }
   ],
   "source": [
    "1173 + 157"
   ]
  },
  {
   "cell_type": "code",
   "execution_count": null,
   "metadata": {
    "collapsed": true
   },
   "outputs": [],
   "source": []
  },
  {
   "cell_type": "code",
   "execution_count": 51,
   "metadata": {
    "scrolled": true
   },
   "outputs": [],
   "source": [
    "reno_df = df2.loc[:, renovate]"
   ]
  },
  {
   "cell_type": "code",
   "execution_count": 52,
   "metadata": {
    "scrolled": true
   },
   "outputs": [
    {
     "data": {
      "text/plain": [
       "{'Alley': 1330,\n",
       " 'Fence': 1330,\n",
       " 'FireplaceQu': 1330,\n",
       " 'MiscFeature': 1330,\n",
       " 'PoolQC': 1330}"
      ]
     },
     "execution_count": 52,
     "metadata": {},
     "output_type": "execute_result"
    }
   ],
   "source": [
    "# Examine null values again \n",
    "null_array = {}\n",
    "\n",
    "for a in reno_df :\n",
    "    if reno_df[a].isnull().sum() != 0:\n",
    "        null_array[a] = reno_df[a].isnull().sum()\n",
    "        \n",
    "null_array"
   ]
  },
  {
   "cell_type": "code",
   "execution_count": 53,
   "metadata": {},
   "outputs": [],
   "source": [
    "reno_df.drop([\"Alley\", \"Fence\", \"FireplaceQu\", \"MiscFeature\", \"MiscVal\", \"PoolQC\", \"SaleType\", \"SaleCondition\"], axis=1, inplace=True)\n",
    "\n",
    "# Utilities only has 1 value that differs, so will not affect price\n",
    "reno_df.drop([\"Utilities\", \"MasVnrArea\"], axis=1, inplace=True)"
   ]
  },
  {
   "cell_type": "code",
   "execution_count": 54,
   "metadata": {
    "scrolled": true
   },
   "outputs": [],
   "source": [
    "# Add year sold for separation purposes\n",
    "reno_df[\"YrSold\"] = df.YrSold"
   ]
  },
  {
   "cell_type": "code",
   "execution_count": 55,
   "metadata": {},
   "outputs": [
    {
     "data": {
      "text/plain": [
       "MSSubClass       int64\n",
       "RoofMatl        object\n",
       "Fireplaces       int64\n",
       "Exterior1st     object\n",
       "Exterior2nd     object\n",
       "MasVnrType      object\n",
       "CentralAir      object\n",
       "GarageFinish    object\n",
       "PavedDrive      object\n",
       "GarageCars       int64\n",
       "Electrical      object\n",
       "Heating         object\n",
       "OverallQual      int64\n",
       "OverallCond      int64\n",
       "ExterQual       object\n",
       "ExterCond       object\n",
       "BsmtQual        object\n",
       "BsmtCond        object\n",
       "BsmtFinType1    object\n",
       "BsmtFinType2    object\n",
       "HeatingQC       object\n",
       "KitchenQual     object\n",
       "GarageQual      object\n",
       "GarageCond      object\n",
       "YrSold           int64\n",
       "dtype: object"
      ]
     },
     "execution_count": 55,
     "metadata": {},
     "output_type": "execute_result"
    }
   ],
   "source": [
    "reno_df.dtypes"
   ]
  },
  {
   "cell_type": "code",
   "execution_count": 56,
   "metadata": {},
   "outputs": [],
   "source": [
    "# Get dummies for MSSubClass, RoofMatl, Exterior1st, Exterior2nd, MasVnrType, GarageFinish, PavedDrive\n",
    "# Electrical, Heating \n",
    "dummy_list = [\"MSSubClass\", \"RoofMatl\", \"Exterior1st\", \"Exterior2nd\", \"MasVnrType\", \"GarageFinish\", \n",
    "              \"PavedDrive\", \"Electrical\", \"Heating\", \"BsmtFinType1\", \"BsmtFinType2\", \"CentralAir\"]\n",
    "df2_to_dummy = reno_df.loc[:, dummy_list]\n",
    "df2_to_dummy[\"MSSubClass\"] = df2_to_dummy[\"MSSubClass\"].apply(str)\n",
    "df2_dummy = pd.get_dummies(df2_to_dummy)"
   ]
  },
  {
   "cell_type": "code",
   "execution_count": null,
   "metadata": {},
   "outputs": [],
   "source": []
  },
  {
   "cell_type": "code",
   "execution_count": 57,
   "metadata": {
    "collapsed": true
   },
   "outputs": [],
   "source": [
    "# Fireplaces, GarageCars, OverallQual, OverallCond, ExterQual, ExterCond, \n",
    "# BsmtQual, BsmtCond, BsmtFinType1, BsmtFinType2, HeatingQC, KitchenQual, GarageQual, GarageCond, MasVnrArea to scale\n",
    "scale_list = [\"Fireplaces\", \"GarageCars\", \"OverallQual\", \"OverallCond\", \"ExterQual\", \"ExterCond\", \n",
    "              \"BsmtQual\", \"BsmtCond\", \"HeatingQC\", \"KitchenQual\", \"GarageQual\", \"GarageCond\"]\n",
    "df2_to_scale = reno_df.loc[:, scale_list]"
   ]
  },
  {
   "cell_type": "code",
   "execution_count": 58,
   "metadata": {},
   "outputs": [],
   "source": [
    "\n",
    "df2_to_scale.ExterQual.replace(\"Ex\", 5, inplace=True)\n",
    "df2_to_scale.ExterQual.replace(\"Gd\", 4, inplace=True)\n",
    "df2_to_scale.ExterQual.replace(\"TA\", 3, inplace=True)\n",
    "df2_to_scale.ExterQual.replace(\"Fa\", 2, inplace=True)\n",
    "df2_to_scale.ExterQual.replace(\"Po\", 1, inplace=True)\n",
    "\n",
    "df2_to_scale.ExterCond.replace(\"Ex\", 5, inplace=True)\n",
    "df2_to_scale.ExterCond.replace(\"Gd\", 4, inplace=True)\n",
    "df2_to_scale.ExterCond.replace(\"TA\", 3, inplace=True)\n",
    "df2_to_scale.ExterCond.replace(\"Fa\", 2, inplace=True)\n",
    "df2_to_scale.ExterCond.replace(\"Po\", 1, inplace=True)\n",
    "\n",
    "df2_to_scale.BsmtQual.replace(\"Ex\", 5, inplace=True)\n",
    "df2_to_scale.BsmtQual.replace(\"Gd\", 4, inplace=True)\n",
    "df2_to_scale.BsmtQual.replace(\"TA\", 3, inplace=True)\n",
    "df2_to_scale.BsmtQual.replace(\"Fa\", 2, inplace=True)\n",
    "df2_to_scale.BsmtQual.replace(\"Po\", 1, inplace=True)\n",
    "df2_to_scale.BsmtQual.replace(\"NA\", 0, inplace=True)\n",
    "\n",
    "df2_to_scale.BsmtCond.replace(\"Ex\", 5, inplace=True)\n",
    "df2_to_scale.BsmtCond.replace(\"Gd\", 4, inplace=True)\n",
    "df2_to_scale.BsmtCond.replace(\"TA\", 3, inplace=True)\n",
    "df2_to_scale.BsmtCond.replace(\"Fa\", 2, inplace=True)\n",
    "df2_to_scale.BsmtCond.replace(\"Po\", 1, inplace=True)\n",
    "df2_to_scale.BsmtCond.replace(\"NA\", 0, inplace=True)\n",
    "\n",
    "df2_to_scale.HeatingQC.replace(\"Ex\", 5, inplace=True)\n",
    "df2_to_scale.HeatingQC.replace(\"Gd\", 4, inplace=True)\n",
    "df2_to_scale.HeatingQC.replace(\"TA\", 3, inplace=True)\n",
    "df2_to_scale.HeatingQC.replace(\"Fa\", 2, inplace=True)\n",
    "df2_to_scale.HeatingQC.replace(\"Po\", 1, inplace=True)\n",
    "\n",
    "df2_to_scale.KitchenQual.replace(\"Ex\", 5, inplace=True)\n",
    "df2_to_scale.KitchenQual.replace(\"Gd\", 4, inplace=True)\n",
    "df2_to_scale.KitchenQual.replace(\"TA\", 3, inplace=True)\n",
    "df2_to_scale.KitchenQual.replace(\"Fa\", 2, inplace=True)\n",
    "df2_to_scale.KitchenQual.replace(\"Po\", 1, inplace=True)\n",
    "\n",
    "df2_to_scale.GarageQual.replace(\"Ex\", 5, inplace=True)\n",
    "df2_to_scale.GarageQual.replace(\"Gd\", 4, inplace=True)\n",
    "df2_to_scale.GarageQual.replace(\"TA\", 3, inplace=True)\n",
    "df2_to_scale.GarageQual.replace(\"Fa\", 2, inplace=True)\n",
    "df2_to_scale.GarageQual.replace(\"Po\", 1, inplace=True)\n",
    "df2_to_scale.GarageQual.replace(\"NA\", 0, inplace=True)\n",
    "\n",
    "df2_to_scale.GarageCond.replace(\"Ex\", 5, inplace=True)\n",
    "df2_to_scale.GarageCond.replace(\"Gd\", 4, inplace=True)\n",
    "df2_to_scale.GarageCond.replace(\"TA\", 3, inplace=True)\n",
    "df2_to_scale.GarageCond.replace(\"Fa\", 2, inplace=True)\n",
    "df2_to_scale.GarageCond.replace(\"Po\", 1, inplace=True)\n",
    "df2_to_scale.GarageCond.replace(\"NA\", 0, inplace=True)"
   ]
  },
  {
   "cell_type": "code",
   "execution_count": 59,
   "metadata": {
    "scrolled": true
   },
   "outputs": [],
   "source": [
    "df2_scaled = pd.DataFrame(mm.fit_transform(df2_to_scale))"
   ]
  },
  {
   "cell_type": "code",
   "execution_count": 60,
   "metadata": {},
   "outputs": [],
   "source": [
    "re_df_clean = pd.concat([df2_scaled, df2_dummy, df.YrSold], axis=1)"
   ]
  },
  {
   "cell_type": "code",
   "execution_count": 61,
   "metadata": {
    "collapsed": true
   },
   "outputs": [],
   "source": [
    "re_df_clean_train = re_df_clean[re_df_clean[\"YrSold\"] != 2010]\n",
    "re_df_clean_test = re_df_clean[re_df_clean[\"YrSold\"] == 2010]"
   ]
  },
  {
   "cell_type": "code",
   "execution_count": 62,
   "metadata": {},
   "outputs": [],
   "source": [
    "Y_train_2 = train_new['residuals']\n",
    "Y_test_2 = test_new['residuals']"
   ]
  },
  {
   "cell_type": "code",
   "execution_count": null,
   "metadata": {
    "collapsed": true
   },
   "outputs": [],
   "source": []
  },
  {
   "cell_type": "markdown",
   "metadata": {},
   "source": [
    "<img src=\"http://imgur.com/GCAf1UX.png\" style=\"float: left; margin: 25px 15px 0px 0px; height: 25px\">\n",
    "\n",
    "## 3. What property characteristics predict an \"abnormal\" sale?\n",
    "\n",
    "---\n",
    "\n",
    "The `SaleCondition` feature indicates the circumstances of the house sale. From the data file, we can see that the possibilities are:\n",
    "\n",
    "       Normal\tNormal Sale\n",
    "       Abnorml\tAbnormal Sale -  trade, foreclosure, short sale\n",
    "       AdjLand\tAdjoining Land Purchase\n",
    "       Alloca\tAllocation - two linked properties with separate deeds, typically condo with a garage unit\t\n",
    "       Family\tSale between family members\n",
    "       Partial\tHome was not completed when last assessed (associated with New Homes)\n",
    "       \n",
    "One of the executives at your company has an \"in\" with higher-ups at the major regional bank. His friends at the bank have made him a proposal: if he can reliably indicate what features, if any, predict \"abnormal\" sales (foreclosures, short sales, etc.), then in return the bank will give him first dibs on the pre-auction purchase of those properties (at a dirt-cheap price).\n",
    "\n",
    "He has tasked you with determining (and adequately validating) which features of a property predict this type of sale. \n",
    "\n",
    "---\n",
    "\n",
    "**Your task:**\n",
    "1. Determine which features predict the `Abnorml` category in the `SaleCondition` feature.\n",
    "- Justify your results.\n",
    "\n",
    "This is a challenging task that tests your ability to perform classification analysis in the face of severe class imbalance. You may find that simply running a classifier on the full dataset to predict the category ends up useless: when there is bad class imbalance classifiers often tend to simply guess the majority class.\n",
    "\n",
    "It is up to you to determine how you will tackle this problem. I recommend doing some research to find out how others have dealt with the problem in the past. Make sure to justify your solution. Don't worry about it being \"the best\" solution, but be rigorous.\n",
    "\n",
    "Be sure to indicate which features are predictive (if any) and whether they are positive or negative predictors of abnormal sales."
   ]
  },
  {
   "cell_type": "code",
   "execution_count": 63,
   "metadata": {
    "collapsed": true
   },
   "outputs": [],
   "source": [
    "# A:"
   ]
  }
 ],
 "metadata": {
  "kernelspec": {
   "display_name": "Python 2",
   "language": "python",
   "name": "python2"
  },
  "language_info": {
   "codemirror_mode": {
    "name": "ipython",
    "version": 2
   },
   "file_extension": ".py",
   "mimetype": "text/x-python",
   "name": "python",
   "nbconvert_exporter": "python",
   "pygments_lexer": "ipython2",
   "version": "2.7.14"
  }
 },
 "nbformat": 4,
 "nbformat_minor": 2
}
