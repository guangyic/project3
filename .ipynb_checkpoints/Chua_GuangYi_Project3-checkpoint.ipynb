{
 "cells": [
  {
   "cell_type": "markdown",
   "metadata": {},
   "source": [
    "<img src=\"http://imgur.com/1ZcRyrc.png\" style=\"float: left; margin: 15px; height: 80px\">\n",
    "\n",
    "# Project 3\n",
    "\n",
    "### Regression and Classification with the Ames Housing Data\n",
    "\n",
    "---\n",
    "\n",
    "You have just joined a new \"full stack\" real estate company in Ames, Iowa. The strategy of the firm is two-fold:\n",
    "- Own the entire process from the purchase of the land all the way to sale of the house, and anything in between.\n",
    "- Use statistical analysis to optimize investment and maximize return.\n",
    "\n",
    "The company is still small, and though investment is substantial the short-term goals of the company are more oriented towards purchasing existing houses and flipping them as opposed to constructing entirely new houses. That being said, the company has access to a large construction workforce operating at rock-bottom prices.\n",
    "\n",
    "This project uses the [Ames housing data recently made available on kaggle](https://www.kaggle.com/c/house-prices-advanced-regression-techniques)."
   ]
  },
  {
   "cell_type": "code",
   "execution_count": 1,
   "metadata": {
    "collapsed": true
   },
   "outputs": [],
   "source": [
    "# Import initial packages necessary for work\n",
    "import numpy as np\n",
    "import scipy.stats as stats\n",
    "import seaborn as sns\n",
    "import matplotlib.pyplot as plt\n",
    "import pandas as pd\n",
    "\n",
    "sns.set_style('whitegrid')\n",
    "\n",
    "%config InlineBackend.figure_format = 'retina'\n",
    "%matplotlib inline"
   ]
  },
  {
   "cell_type": "markdown",
   "metadata": {},
   "source": [
    "<img src=\"http://imgur.com/l5NasQj.png\" style=\"float: left; margin: 25px 15px 0px 0px; height: 25px\">\n",
    "\n",
    "## 1. Estimating the value of homes from fixed characteristics.\n",
    "\n",
    "---\n",
    "\n",
    "Your superiors have outlined this year's strategy for the company:\n",
    "1. Develop an algorithm to reliably estimate the value of residential houses based on *fixed* characteristics.\n",
    "2. Identify characteristics of houses that the company can cost-effectively change/renovate with their construction team.\n",
    "3. Evaluate the mean dollar value of different renovations.\n",
    "\n",
    "Then we can use that to buy houses that are likely to sell for more than the cost of the purchase plus renovations.\n",
    "\n",
    "Your first job is to tackle #1. You have a dataset of housing sale data with a huge amount of features identifying different aspects of the house. The full description of the data features can be found in a separate file:\n",
    "\n",
    "    housing.csv\n",
    "    data_description.txt\n",
    "    \n",
    "You need to build a reliable estimator for the price of the house given characteristics of the house that cannot be renovated. Some examples include:\n",
    "- The neighborhood\n",
    "- Square feet\n",
    "- Bedrooms, bathrooms\n",
    "- Basement and garage space\n",
    "\n",
    "and many more. \n",
    "\n",
    "Some examples of things that **ARE renovate-able:**\n",
    "- Roof and exterior features\n",
    "- \"Quality\" metrics, such as kitchen quality\n",
    "- \"Condition\" metrics, such as condition of garage\n",
    "- Heating and electrical components\n",
    "\n",
    "and generally anything you deem can be modified without having to undergo major construction on the house.\n",
    "\n",
    "---\n",
    "\n",
    "**Your goals:**\n",
    "1. Perform any cleaning, feature engineering, and EDA you deem necessary.\n",
    "- Be sure to remove any houses that are not residential from the dataset.\n",
    "- Identify **fixed** features that can predict price.\n",
    "- Train a model on pre-2010 data and evaluate its performance on the 2010 houses.\n",
    "- Characterize your model. How well does it perform? What are the best estimates of price?\n",
    "\n",
    "> **Note:** The EDA and feature engineering component to this project is not trivial! Be sure to always think critically and creatively. Justify your actions! Use the data description file!"
   ]
  },
  {
   "cell_type": "code",
   "execution_count": 2,
   "metadata": {
    "collapsed": true
   },
   "outputs": [],
   "source": [
    "# Load the data\n",
    "house = pd.read_csv('./housing.csv')"
   ]
  },
  {
   "cell_type": "code",
   "execution_count": 3,
   "metadata": {},
   "outputs": [
    {
     "data": {
      "text/plain": [
       "(1460, 81)"
      ]
     },
     "execution_count": 3,
     "metadata": {},
     "output_type": "execute_result"
    }
   ],
   "source": [
    "house.shape"
   ]
  },
  {
   "cell_type": "code",
   "execution_count": 4,
   "metadata": {},
   "outputs": [
    {
     "data": {
      "text/html": [
       "<div>\n",
       "<style>\n",
       "    .dataframe thead tr:only-child th {\n",
       "        text-align: right;\n",
       "    }\n",
       "\n",
       "    .dataframe thead th {\n",
       "        text-align: left;\n",
       "    }\n",
       "\n",
       "    .dataframe tbody tr th {\n",
       "        vertical-align: top;\n",
       "    }\n",
       "</style>\n",
       "<table border=\"1\" class=\"dataframe\">\n",
       "  <thead>\n",
       "    <tr style=\"text-align: right;\">\n",
       "      <th></th>\n",
       "      <th>Id</th>\n",
       "      <th>MSSubClass</th>\n",
       "      <th>MSZoning</th>\n",
       "      <th>LotFrontage</th>\n",
       "      <th>LotArea</th>\n",
       "      <th>Street</th>\n",
       "      <th>Alley</th>\n",
       "      <th>LotShape</th>\n",
       "      <th>LandContour</th>\n",
       "      <th>Utilities</th>\n",
       "      <th>...</th>\n",
       "      <th>PoolArea</th>\n",
       "      <th>PoolQC</th>\n",
       "      <th>Fence</th>\n",
       "      <th>MiscFeature</th>\n",
       "      <th>MiscVal</th>\n",
       "      <th>MoSold</th>\n",
       "      <th>YrSold</th>\n",
       "      <th>SaleType</th>\n",
       "      <th>SaleCondition</th>\n",
       "      <th>SalePrice</th>\n",
       "    </tr>\n",
       "  </thead>\n",
       "  <tbody>\n",
       "    <tr>\n",
       "      <th>0</th>\n",
       "      <td>1</td>\n",
       "      <td>60</td>\n",
       "      <td>RL</td>\n",
       "      <td>65.0</td>\n",
       "      <td>8450</td>\n",
       "      <td>Pave</td>\n",
       "      <td>NaN</td>\n",
       "      <td>Reg</td>\n",
       "      <td>Lvl</td>\n",
       "      <td>AllPub</td>\n",
       "      <td>...</td>\n",
       "      <td>0</td>\n",
       "      <td>NaN</td>\n",
       "      <td>NaN</td>\n",
       "      <td>NaN</td>\n",
       "      <td>0</td>\n",
       "      <td>2</td>\n",
       "      <td>2008</td>\n",
       "      <td>WD</td>\n",
       "      <td>Normal</td>\n",
       "      <td>208500</td>\n",
       "    </tr>\n",
       "    <tr>\n",
       "      <th>1</th>\n",
       "      <td>2</td>\n",
       "      <td>20</td>\n",
       "      <td>RL</td>\n",
       "      <td>80.0</td>\n",
       "      <td>9600</td>\n",
       "      <td>Pave</td>\n",
       "      <td>NaN</td>\n",
       "      <td>Reg</td>\n",
       "      <td>Lvl</td>\n",
       "      <td>AllPub</td>\n",
       "      <td>...</td>\n",
       "      <td>0</td>\n",
       "      <td>NaN</td>\n",
       "      <td>NaN</td>\n",
       "      <td>NaN</td>\n",
       "      <td>0</td>\n",
       "      <td>5</td>\n",
       "      <td>2007</td>\n",
       "      <td>WD</td>\n",
       "      <td>Normal</td>\n",
       "      <td>181500</td>\n",
       "    </tr>\n",
       "    <tr>\n",
       "      <th>2</th>\n",
       "      <td>3</td>\n",
       "      <td>60</td>\n",
       "      <td>RL</td>\n",
       "      <td>68.0</td>\n",
       "      <td>11250</td>\n",
       "      <td>Pave</td>\n",
       "      <td>NaN</td>\n",
       "      <td>IR1</td>\n",
       "      <td>Lvl</td>\n",
       "      <td>AllPub</td>\n",
       "      <td>...</td>\n",
       "      <td>0</td>\n",
       "      <td>NaN</td>\n",
       "      <td>NaN</td>\n",
       "      <td>NaN</td>\n",
       "      <td>0</td>\n",
       "      <td>9</td>\n",
       "      <td>2008</td>\n",
       "      <td>WD</td>\n",
       "      <td>Normal</td>\n",
       "      <td>223500</td>\n",
       "    </tr>\n",
       "    <tr>\n",
       "      <th>3</th>\n",
       "      <td>4</td>\n",
       "      <td>70</td>\n",
       "      <td>RL</td>\n",
       "      <td>60.0</td>\n",
       "      <td>9550</td>\n",
       "      <td>Pave</td>\n",
       "      <td>NaN</td>\n",
       "      <td>IR1</td>\n",
       "      <td>Lvl</td>\n",
       "      <td>AllPub</td>\n",
       "      <td>...</td>\n",
       "      <td>0</td>\n",
       "      <td>NaN</td>\n",
       "      <td>NaN</td>\n",
       "      <td>NaN</td>\n",
       "      <td>0</td>\n",
       "      <td>2</td>\n",
       "      <td>2006</td>\n",
       "      <td>WD</td>\n",
       "      <td>Abnorml</td>\n",
       "      <td>140000</td>\n",
       "    </tr>\n",
       "    <tr>\n",
       "      <th>4</th>\n",
       "      <td>5</td>\n",
       "      <td>60</td>\n",
       "      <td>RL</td>\n",
       "      <td>84.0</td>\n",
       "      <td>14260</td>\n",
       "      <td>Pave</td>\n",
       "      <td>NaN</td>\n",
       "      <td>IR1</td>\n",
       "      <td>Lvl</td>\n",
       "      <td>AllPub</td>\n",
       "      <td>...</td>\n",
       "      <td>0</td>\n",
       "      <td>NaN</td>\n",
       "      <td>NaN</td>\n",
       "      <td>NaN</td>\n",
       "      <td>0</td>\n",
       "      <td>12</td>\n",
       "      <td>2008</td>\n",
       "      <td>WD</td>\n",
       "      <td>Normal</td>\n",
       "      <td>250000</td>\n",
       "    </tr>\n",
       "  </tbody>\n",
       "</table>\n",
       "<p>5 rows × 81 columns</p>\n",
       "</div>"
      ],
      "text/plain": [
       "   Id  MSSubClass MSZoning  LotFrontage  LotArea Street Alley LotShape  \\\n",
       "0   1          60       RL         65.0     8450   Pave   NaN      Reg   \n",
       "1   2          20       RL         80.0     9600   Pave   NaN      Reg   \n",
       "2   3          60       RL         68.0    11250   Pave   NaN      IR1   \n",
       "3   4          70       RL         60.0     9550   Pave   NaN      IR1   \n",
       "4   5          60       RL         84.0    14260   Pave   NaN      IR1   \n",
       "\n",
       "  LandContour Utilities    ...     PoolArea PoolQC Fence MiscFeature MiscVal  \\\n",
       "0         Lvl    AllPub    ...            0    NaN   NaN         NaN       0   \n",
       "1         Lvl    AllPub    ...            0    NaN   NaN         NaN       0   \n",
       "2         Lvl    AllPub    ...            0    NaN   NaN         NaN       0   \n",
       "3         Lvl    AllPub    ...            0    NaN   NaN         NaN       0   \n",
       "4         Lvl    AllPub    ...            0    NaN   NaN         NaN       0   \n",
       "\n",
       "  MoSold YrSold  SaleType  SaleCondition  SalePrice  \n",
       "0      2   2008        WD         Normal     208500  \n",
       "1      5   2007        WD         Normal     181500  \n",
       "2      9   2008        WD         Normal     223500  \n",
       "3      2   2006        WD        Abnorml     140000  \n",
       "4     12   2008        WD         Normal     250000  \n",
       "\n",
       "[5 rows x 81 columns]"
      ]
     },
     "execution_count": 4,
     "metadata": {},
     "output_type": "execute_result"
    }
   ],
   "source": [
    "house.head()"
   ]
  },
  {
   "cell_type": "code",
   "execution_count": 5,
   "metadata": {},
   "outputs": [
    {
     "data": {
      "text/plain": [
       "Index([u'Id', u'MSSubClass', u'MSZoning', u'LotFrontage', u'LotArea',\n",
       "       u'Street', u'Alley', u'LotShape', u'LandContour', u'Utilities',\n",
       "       u'LotConfig', u'LandSlope', u'Neighborhood', u'Condition1',\n",
       "       u'Condition2', u'BldgType', u'HouseStyle', u'OverallQual',\n",
       "       u'OverallCond', u'YearBuilt', u'YearRemodAdd', u'RoofStyle',\n",
       "       u'RoofMatl', u'Exterior1st', u'Exterior2nd', u'MasVnrType',\n",
       "       u'MasVnrArea', u'ExterQual', u'ExterCond', u'Foundation', u'BsmtQual',\n",
       "       u'BsmtCond', u'BsmtExposure', u'BsmtFinType1', u'BsmtFinSF1',\n",
       "       u'BsmtFinType2', u'BsmtFinSF2', u'BsmtUnfSF', u'TotalBsmtSF',\n",
       "       u'Heating', u'HeatingQC', u'CentralAir', u'Electrical', u'1stFlrSF',\n",
       "       u'2ndFlrSF', u'LowQualFinSF', u'GrLivArea', u'BsmtFullBath',\n",
       "       u'BsmtHalfBath', u'FullBath', u'HalfBath', u'BedroomAbvGr',\n",
       "       u'KitchenAbvGr', u'KitchenQual', u'TotRmsAbvGrd', u'Functional',\n",
       "       u'Fireplaces', u'FireplaceQu', u'GarageType', u'GarageYrBlt',\n",
       "       u'GarageFinish', u'GarageCars', u'GarageArea', u'GarageQual',\n",
       "       u'GarageCond', u'PavedDrive', u'WoodDeckSF', u'OpenPorchSF',\n",
       "       u'EnclosedPorch', u'3SsnPorch', u'ScreenPorch', u'PoolArea', u'PoolQC',\n",
       "       u'Fence', u'MiscFeature', u'MiscVal', u'MoSold', u'YrSold', u'SaleType',\n",
       "       u'SaleCondition', u'SalePrice'],\n",
       "      dtype='object')"
      ]
     },
     "execution_count": 5,
     "metadata": {},
     "output_type": "execute_result"
    }
   ],
   "source": [
    "house.columns"
   ]
  },
  {
   "cell_type": "code",
   "execution_count": 6,
   "metadata": {
    "scrolled": true
   },
   "outputs": [
    {
     "data": {
      "text/plain": [
       "Id                 int64\n",
       "MSSubClass         int64\n",
       "MSZoning          object\n",
       "LotFrontage      float64\n",
       "LotArea            int64\n",
       "Street            object\n",
       "Alley             object\n",
       "LotShape          object\n",
       "LandContour       object\n",
       "Utilities         object\n",
       "LotConfig         object\n",
       "LandSlope         object\n",
       "Neighborhood      object\n",
       "Condition1        object\n",
       "Condition2        object\n",
       "BldgType          object\n",
       "HouseStyle        object\n",
       "OverallQual        int64\n",
       "OverallCond        int64\n",
       "YearBuilt          int64\n",
       "YearRemodAdd       int64\n",
       "RoofStyle         object\n",
       "RoofMatl          object\n",
       "Exterior1st       object\n",
       "Exterior2nd       object\n",
       "MasVnrType        object\n",
       "MasVnrArea       float64\n",
       "ExterQual         object\n",
       "ExterCond         object\n",
       "Foundation        object\n",
       "                  ...   \n",
       "BedroomAbvGr       int64\n",
       "KitchenAbvGr       int64\n",
       "KitchenQual       object\n",
       "TotRmsAbvGrd       int64\n",
       "Functional        object\n",
       "Fireplaces         int64\n",
       "FireplaceQu       object\n",
       "GarageType        object\n",
       "GarageYrBlt      float64\n",
       "GarageFinish      object\n",
       "GarageCars         int64\n",
       "GarageArea         int64\n",
       "GarageQual        object\n",
       "GarageCond        object\n",
       "PavedDrive        object\n",
       "WoodDeckSF         int64\n",
       "OpenPorchSF        int64\n",
       "EnclosedPorch      int64\n",
       "3SsnPorch          int64\n",
       "ScreenPorch        int64\n",
       "PoolArea           int64\n",
       "PoolQC            object\n",
       "Fence             object\n",
       "MiscFeature       object\n",
       "MiscVal            int64\n",
       "MoSold             int64\n",
       "YrSold             int64\n",
       "SaleType          object\n",
       "SaleCondition     object\n",
       "SalePrice          int64\n",
       "Length: 81, dtype: object"
      ]
     },
     "execution_count": 6,
     "metadata": {},
     "output_type": "execute_result"
    }
   ],
   "source": [
    "house.dtypes"
   ]
  },
  {
   "cell_type": "code",
   "execution_count": 7,
   "metadata": {
    "scrolled": true
   },
   "outputs": [
    {
     "data": {
      "text/plain": [
       "Id                  0\n",
       "MSSubClass          0\n",
       "MSZoning            0\n",
       "LotFrontage       259\n",
       "LotArea             0\n",
       "Street              0\n",
       "Alley            1369\n",
       "LotShape            0\n",
       "LandContour         0\n",
       "Utilities           0\n",
       "LotConfig           0\n",
       "LandSlope           0\n",
       "Neighborhood        0\n",
       "Condition1          0\n",
       "Condition2          0\n",
       "BldgType            0\n",
       "HouseStyle          0\n",
       "OverallQual         0\n",
       "OverallCond         0\n",
       "YearBuilt           0\n",
       "YearRemodAdd        0\n",
       "RoofStyle           0\n",
       "RoofMatl            0\n",
       "Exterior1st         0\n",
       "Exterior2nd         0\n",
       "MasVnrType          8\n",
       "MasVnrArea          8\n",
       "ExterQual           0\n",
       "ExterCond           0\n",
       "Foundation          0\n",
       "                 ... \n",
       "BedroomAbvGr        0\n",
       "KitchenAbvGr        0\n",
       "KitchenQual         0\n",
       "TotRmsAbvGrd        0\n",
       "Functional          0\n",
       "Fireplaces          0\n",
       "FireplaceQu       690\n",
       "GarageType         81\n",
       "GarageYrBlt        81\n",
       "GarageFinish       81\n",
       "GarageCars          0\n",
       "GarageArea          0\n",
       "GarageQual         81\n",
       "GarageCond         81\n",
       "PavedDrive          0\n",
       "WoodDeckSF          0\n",
       "OpenPorchSF         0\n",
       "EnclosedPorch       0\n",
       "3SsnPorch           0\n",
       "ScreenPorch         0\n",
       "PoolArea            0\n",
       "PoolQC           1453\n",
       "Fence            1179\n",
       "MiscFeature      1406\n",
       "MiscVal             0\n",
       "MoSold              0\n",
       "YrSold              0\n",
       "SaleType            0\n",
       "SaleCondition       0\n",
       "SalePrice           0\n",
       "Length: 81, dtype: int64"
      ]
     },
     "execution_count": 7,
     "metadata": {},
     "output_type": "execute_result"
    }
   ],
   "source": [
    "# Find which columns contain null values\n",
    "house.isnull().sum()"
   ]
  },
  {
   "cell_type": "code",
   "execution_count": 8,
   "metadata": {},
   "outputs": [
    {
     "data": {
      "text/plain": [
       "array(['RL', 'RM', 'C (all)', 'FV', 'RH'], dtype=object)"
      ]
     },
     "execution_count": 8,
     "metadata": {},
     "output_type": "execute_result"
    }
   ],
   "source": [
    "# Determine which zoning types are non-residential. Only C needs to be removed (commerical)\n",
    "house.MSZoning.unique()"
   ]
  },
  {
   "cell_type": "code",
   "execution_count": 9,
   "metadata": {
    "scrolled": false
   },
   "outputs": [
    {
     "name": "stderr",
     "output_type": "stream",
     "text": [
      "/Users/GuangYi/anaconda/lib/python2.7/site-packages/ipykernel_launcher.py:3: SettingWithCopyWarning: \n",
      "A value is trying to be set on a copy of a slice from a DataFrame\n",
      "\n",
      "See the caveats in the documentation: http://pandas.pydata.org/pandas-docs/stable/indexing.html#indexing-view-versus-copy\n",
      "  This is separate from the ipykernel package so we can avoid doing imports until\n"
     ]
    }
   ],
   "source": [
    "# Remove non-residential housing, drop ID column\n",
    "df = house[house.MSZoning != 'C (all)']\n",
    "df.drop('Id', axis=1, inplace=True)"
   ]
  },
  {
   "cell_type": "code",
   "execution_count": 10,
   "metadata": {},
   "outputs": [
    {
     "data": {
      "text/plain": [
       "(1450, 80)"
      ]
     },
     "execution_count": 10,
     "metadata": {},
     "output_type": "execute_result"
    }
   ],
   "source": [
    "df.shape"
   ]
  },
  {
   "cell_type": "code",
   "execution_count": 11,
   "metadata": {
    "collapsed": true
   },
   "outputs": [],
   "source": [
    "# Write a for loop to find the exact number of NaN values \n",
    "null_array = {}\n",
    "\n",
    "for a in df :\n",
    "    if df[a].isnull().sum() != 0:\n",
    "        null_array[a] = df[a].isnull().sum()"
   ]
  },
  {
   "cell_type": "code",
   "execution_count": 12,
   "metadata": {},
   "outputs": [
    {
     "data": {
      "text/plain": [
       "{'Alley': 1361,\n",
       " 'BsmtCond': 37,\n",
       " 'BsmtExposure': 38,\n",
       " 'BsmtFinType1': 37,\n",
       " 'BsmtFinType2': 38,\n",
       " 'BsmtQual': 37,\n",
       " 'Electrical': 1,\n",
       " 'Fence': 1172,\n",
       " 'FireplaceQu': 681,\n",
       " 'GarageCond': 79,\n",
       " 'GarageFinish': 79,\n",
       " 'GarageQual': 79,\n",
       " 'GarageType': 79,\n",
       " 'GarageYrBlt': 79,\n",
       " 'LotFrontage': 259,\n",
       " 'MasVnrArea': 8,\n",
       " 'MasVnrType': 8,\n",
       " 'MiscFeature': 1398,\n",
       " 'PoolQC': 1443}"
      ]
     },
     "execution_count": 12,
     "metadata": {},
     "output_type": "execute_result"
    }
   ],
   "source": [
    "null_array"
   ]
  },
  {
   "cell_type": "code",
   "execution_count": 13,
   "metadata": {},
   "outputs": [
    {
     "name": "stderr",
     "output_type": "stream",
     "text": [
      "/Users/GuangYi/anaconda/lib/python2.7/site-packages/ipykernel_launcher.py:2: SettingWithCopyWarning: \n",
      "A value is trying to be set on a copy of a slice from a DataFrame\n",
      "\n",
      "See the caveats in the documentation: http://pandas.pydata.org/pandas-docs/stable/indexing.html#indexing-view-versus-copy\n",
      "  \n"
     ]
    }
   ],
   "source": [
    "# Drop Alley, PoolQC, Fence, MiscFeature, FireplaceQu as variables because large majority missing or NaN\n",
    "df.drop([\"Alley\", \"PoolQC\", \"Fence\", \"MiscFeature\", \"FireplaceQu\"], axis=1, inplace=True)"
   ]
  },
  {
   "cell_type": "code",
   "execution_count": 14,
   "metadata": {},
   "outputs": [
    {
     "data": {
      "text/plain": [
       "{'BsmtCond': 37,\n",
       " 'BsmtExposure': 38,\n",
       " 'BsmtFinType1': 37,\n",
       " 'BsmtFinType2': 38,\n",
       " 'BsmtQual': 37,\n",
       " 'Electrical': 1,\n",
       " 'GarageCond': 79,\n",
       " 'GarageFinish': 79,\n",
       " 'GarageQual': 79,\n",
       " 'GarageType': 79,\n",
       " 'GarageYrBlt': 79,\n",
       " 'LotFrontage': 259,\n",
       " 'MasVnrArea': 8,\n",
       " 'MasVnrType': 8}"
      ]
     },
     "execution_count": 14,
     "metadata": {},
     "output_type": "execute_result"
    }
   ],
   "source": [
    "# Examine null values again \n",
    "null_array = {}\n",
    "\n",
    "for a in df :\n",
    "    if df[a].isnull().sum() != 0:\n",
    "        null_array[a] = df[a].isnull().sum()\n",
    "        \n",
    "null_array"
   ]
  },
  {
   "cell_type": "code",
   "execution_count": 15,
   "metadata": {},
   "outputs": [
    {
     "name": "stderr",
     "output_type": "stream",
     "text": [
      "/Users/GuangYi/anaconda/lib/python2.7/site-packages/ipykernel_launcher.py:5: SettingWithCopyWarning: \n",
      "A value is trying to be set on a copy of a slice from a DataFrame\n",
      "\n",
      "See the caveats in the documentation: http://pandas.pydata.org/pandas-docs/stable/indexing.html#indexing-view-versus-copy\n",
      "  \"\"\"\n"
     ]
    }
   ],
   "source": [
    "# Fill in LotFrontage with median values\n",
    "fill_lf = df.LotFrontage.median()\n",
    "index = df['LotFrontage'].index[df['LotFrontage'].apply(np.isnan)]\n",
    "\n",
    "for a in index :\n",
    "    df.replace(df.LotFrontage[a], fill_lf, inplace=True)"
   ]
  },
  {
   "cell_type": "code",
   "execution_count": 16,
   "metadata": {},
   "outputs": [
    {
     "name": "stderr",
     "output_type": "stream",
     "text": [
      "/Users/GuangYi/anaconda/lib/python2.7/site-packages/pandas/core/generic.py:3660: SettingWithCopyWarning: \n",
      "A value is trying to be set on a copy of a slice from a DataFrame\n",
      "\n",
      "See the caveats in the documentation: http://pandas.pydata.org/pandas-docs/stable/indexing.html#indexing-view-versus-copy\n",
      "  self._update_inplace(new_data)\n"
     ]
    }
   ],
   "source": [
    "# Replace NaN with 0 or None respectively according to integer or categorical values\n",
    "for a in df.columns.values :\n",
    "    if df.dtypes[a] == 'int64':\n",
    "        df[a].fillna(value=0, inplace=True)\n",
    "    elif df.dtypes[a] == 'float64':\n",
    "        df[a].fillna(value=0, inplace=True)\n",
    "    elif df.dtypes[a] == 'object' :\n",
    "        df[a].fillna(value=\"None\", inplace=True)"
   ]
  },
  {
   "cell_type": "code",
   "execution_count": 17,
   "metadata": {},
   "outputs": [
    {
     "data": {
      "text/plain": [
       "{}"
      ]
     },
     "execution_count": 17,
     "metadata": {},
     "output_type": "execute_result"
    }
   ],
   "source": [
    "# Examine null values again \n",
    "null_array = {}\n",
    "\n",
    "for a in df :\n",
    "    if df[a].isnull().sum() != 0:\n",
    "        null_array[a] = df[a].isnull().sum()\n",
    "        \n",
    "null_array"
   ]
  },
  {
   "cell_type": "code",
   "execution_count": 18,
   "metadata": {
    "collapsed": true
   },
   "outputs": [],
   "source": [
    "# Prepare for Q2\n",
    "df2 = df.copy()"
   ]
  },
  {
   "cell_type": "code",
   "execution_count": 19,
   "metadata": {
    "scrolled": false
   },
   "outputs": [
    {
     "name": "stderr",
     "output_type": "stream",
     "text": [
      "/Users/GuangYi/anaconda/lib/python2.7/site-packages/ipykernel_launcher.py:5: SettingWithCopyWarning: \n",
      "A value is trying to be set on a copy of a slice from a DataFrame\n",
      "\n",
      "See the caveats in the documentation: http://pandas.pydata.org/pandas-docs/stable/indexing.html#indexing-view-versus-copy\n",
      "  \"\"\"\n"
     ]
    }
   ],
   "source": [
    "# Consulting the list of variables, use general knowledge to determine what can be renovated (thus dropped)\n",
    "# All quality and condition metrics\n",
    "df.drop([\"OverallQual\", \"OverallCond\", \"ExterQual\", \"ExterCond\", \"BsmtQual\", \n",
    "         \"BsmtCond\", \"BsmtFinType1\", \"BsmtFinType2\", \"HeatingQC\", \"KitchenQual\", \n",
    "         \"GarageQual\", \"GarageCond\"], axis=1, inplace=True)"
   ]
  },
  {
   "cell_type": "code",
   "execution_count": 20,
   "metadata": {},
   "outputs": [
    {
     "name": "stderr",
     "output_type": "stream",
     "text": [
      "/Users/GuangYi/anaconda/lib/python2.7/site-packages/ipykernel_launcher.py:2: SettingWithCopyWarning: \n",
      "A value is trying to be set on a copy of a slice from a DataFrame\n",
      "\n",
      "See the caveats in the documentation: http://pandas.pydata.org/pandas-docs/stable/indexing.html#indexing-view-versus-copy\n",
      "  \n"
     ]
    }
   ],
   "source": [
    "# Heating and electrical components removed, MiscVal removed because MiscFeature gone, utilities can be added on\n",
    "df.drop([\"Electrical\", \"Heating\", \"MiscVal\", \"Utilities\"], axis=1, inplace=True)"
   ]
  },
  {
   "cell_type": "code",
   "execution_count": 21,
   "metadata": {},
   "outputs": [
    {
     "name": "stderr",
     "output_type": "stream",
     "text": [
      "/Users/GuangYi/anaconda/lib/python2.7/site-packages/ipykernel_launcher.py:9: SettingWithCopyWarning: \n",
      "A value is trying to be set on a copy of a slice from a DataFrame\n",
      "\n",
      "See the caveats in the documentation: http://pandas.pydata.org/pandas-docs/stable/indexing.html#indexing-view-versus-copy\n",
      "  if __name__ == '__main__':\n"
     ]
    }
   ],
   "source": [
    "# Materials can be changed during renovation: RoofMatl, CentralAir, GarageFinish, PavedDrive, MasVnrType, Exterior1st, Exterior2nd\n",
    "# Fireplaces can be added or removed during renovation\n",
    "# MasVnrArea can be changed during renovation\n",
    "# GarageCars is redundant since sqft is there already\n",
    "# SaleType, SaleCondition not really relevant because sold is sold\n",
    "# MSSubClass since it's just a summary stat\n",
    "df.drop([\"MSSubClass\", \"RoofMatl\", \"Fireplaces\", \"MasVnrArea\", \"Exterior1st\", \"Exterior2nd\", \n",
    "         \"MasVnrType\", \"CentralAir\", \"GarageFinish\", \"PavedDrive\", \"GarageCars\", \n",
    "         \"SaleType\", \"SaleCondition\"], axis=1, inplace=True)"
   ]
  },
  {
   "cell_type": "code",
   "execution_count": 22,
   "metadata": {
    "collapsed": true
   },
   "outputs": [],
   "source": [
    "renovate = [\"MSSubClass\", \"RoofMatl\", \"Fireplaces\", \"MasVnrArea\", \"Exterior1st\", \"Exterior2nd\", \n",
    "           \"MasVnrType\", \"CentralAir\", \"GarageFinish\", \"PavedDrive\", \"GarageCars\", \"SaleType\", \n",
    "           \"SaleCondition\", \"Electrical\", \"Heating\", \"MiscVal\", \"Utilities\", \"OverallQual\", \n",
    "           \"OverallCond\", \"ExterQual\", \"ExterCond\", \"BsmtQual\", \"BsmtCond\", \"BsmtFinType1\", \n",
    "           \"BsmtFinType2\", \"HeatingQC\", \"KitchenQual\", \"GarageQual\", \"GarageCond\", \"Alley\", \n",
    "           \"PoolQC\", \"Fence\", \"MiscFeature\", \"FireplaceQu\"]"
   ]
  },
  {
   "cell_type": "code",
   "execution_count": 23,
   "metadata": {},
   "outputs": [
    {
     "data": {
      "text/plain": [
       "(1450, 46)"
      ]
     },
     "execution_count": 23,
     "metadata": {},
     "output_type": "execute_result"
    }
   ],
   "source": [
    "df.shape"
   ]
  },
  {
   "cell_type": "code",
   "execution_count": 24,
   "metadata": {
    "scrolled": true
   },
   "outputs": [
    {
     "data": {
      "text/plain": [
       "MSZoning          object\n",
       "LotFrontage      float64\n",
       "LotArea            int64\n",
       "Street            object\n",
       "LotShape          object\n",
       "LandContour       object\n",
       "LotConfig         object\n",
       "LandSlope         object\n",
       "Neighborhood      object\n",
       "Condition1        object\n",
       "Condition2        object\n",
       "BldgType          object\n",
       "HouseStyle        object\n",
       "YearBuilt          int64\n",
       "YearRemodAdd       int64\n",
       "RoofStyle         object\n",
       "Foundation        object\n",
       "BsmtExposure      object\n",
       "BsmtFinSF1         int64\n",
       "BsmtFinSF2         int64\n",
       "BsmtUnfSF          int64\n",
       "TotalBsmtSF        int64\n",
       "1stFlrSF           int64\n",
       "2ndFlrSF           int64\n",
       "LowQualFinSF       int64\n",
       "GrLivArea          int64\n",
       "BsmtFullBath       int64\n",
       "BsmtHalfBath       int64\n",
       "FullBath           int64\n",
       "HalfBath           int64\n",
       "BedroomAbvGr       int64\n",
       "KitchenAbvGr       int64\n",
       "TotRmsAbvGrd       int64\n",
       "Functional        object\n",
       "GarageType        object\n",
       "GarageYrBlt      float64\n",
       "GarageArea         int64\n",
       "WoodDeckSF         int64\n",
       "OpenPorchSF        int64\n",
       "EnclosedPorch      int64\n",
       "3SsnPorch          int64\n",
       "ScreenPorch        int64\n",
       "PoolArea           int64\n",
       "MoSold             int64\n",
       "YrSold             int64\n",
       "SalePrice          int64\n",
       "dtype: object"
      ]
     },
     "execution_count": 24,
     "metadata": {},
     "output_type": "execute_result"
    }
   ],
   "source": [
    "df.dtypes"
   ]
  },
  {
   "cell_type": "code",
   "execution_count": 25,
   "metadata": {
    "collapsed": true
   },
   "outputs": [],
   "source": [
    "# Separate categorical variables from continuous variables\n",
    "\n",
    "categorical = ['MSZoning', \"Street\", \"LotShape\", \"LandContour\", \"LotConfig\", \"LandSlope\", \"Neighborhood\", \n",
    "            \"Condition1\", \"Condition2\", \"BldgType\", \"HouseStyle\", \"RoofStyle\", \"Foundation\", \n",
    "            \"BsmtExposure\", \"Functional\", \"GarageType\"]\n",
    "\n",
    "continuous = ['LotFrontage', \"LotArea\", \"YearBuilt\", \"YearRemodAdd\", \"BsmtFinSF1\", \"BsmtFinSF2\", \"BsmtUnfSF\",\n",
    "             \"TotalBsmtSF\", \"1stFlrSF\", \"2ndFlrSF\",\"LowQualFinSF\", \"GrLivArea\", \"BsmtFullBath\", \"BsmtHalfBath\",\n",
    "             \"FullBath\", \"HalfBath\", \"BedroomAbvGr\", \"KitchenAbvGr\", \"TotRmsAbvGrd\", \"GarageYrBlt\", \n",
    "             \"GarageArea\", \"WoodDeckSF\", \"OpenPorchSF\", \"EnclosedPorch\", \"3SsnPorch\", \"ScreenPorch\",\n",
    "             \"PoolArea\", \"MoSold\"]\n",
    "\n",
    "# \"YrSold\"\n"
   ]
  },
  {
   "cell_type": "code",
   "execution_count": 26,
   "metadata": {
    "collapsed": true
   },
   "outputs": [],
   "source": [
    "df_cat = df.loc[:, categorical]\n",
    "df_cont = df.loc[:, continuous]"
   ]
  },
  {
   "cell_type": "code",
   "execution_count": 27,
   "metadata": {
    "collapsed": true
   },
   "outputs": [],
   "source": [
    "df.reset_index(drop=True, inplace=True)"
   ]
  },
  {
   "cell_type": "code",
   "execution_count": 28,
   "metadata": {},
   "outputs": [
    {
     "name": "stderr",
     "output_type": "stream",
     "text": [
      "/Users/GuangYi/anaconda/lib/python2.7/site-packages/ipykernel_launcher.py:11: SettingWithCopyWarning: \n",
      "A value is trying to be set on a copy of a slice from a DataFrame\n",
      "\n",
      "See the caveats in the documentation: http://pandas.pydata.org/pandas-docs/stable/indexing.html#indexing-view-versus-copy\n",
      "  # This is added back by InteractiveShellApp.init_path()\n",
      "/Users/GuangYi/anaconda/lib/python2.7/site-packages/ipykernel_launcher.py:12: SettingWithCopyWarning: \n",
      "A value is trying to be set on a copy of a slice from a DataFrame\n",
      "\n",
      "See the caveats in the documentation: http://pandas.pydata.org/pandas-docs/stable/indexing.html#indexing-view-versus-copy\n",
      "  if sys.path[0] == '':\n"
     ]
    }
   ],
   "source": [
    "# Separate training set and testing set by year sold for continuous variables\n",
    "from sklearn.preprocessing import MinMaxScaler, StandardScaler\n",
    "mm = MinMaxScaler()\n",
    "ss = StandardScaler()\n",
    "\n",
    "df_cont_scaled = pd.DataFrame(ss.fit_transform(df_cont))\n",
    "a2 = pd.concat([df_cont_scaled, df[\"YrSold\"]], axis=1)\n",
    "\n",
    "df_cont_test = a2[a2.YrSold==2010]\n",
    "df_cont_train = a2[a2.YrSold != 2010]\n",
    "\n",
    "df_cont_test.drop([\"YrSold\"], axis=1, inplace=True)\n",
    "df_cont_train.drop([\"YrSold\"], axis=1, inplace=True)"
   ]
  },
  {
   "cell_type": "code",
   "execution_count": 29,
   "metadata": {
    "scrolled": true
   },
   "outputs": [
    {
     "name": "stderr",
     "output_type": "stream",
     "text": [
      "/Users/GuangYi/anaconda/lib/python2.7/site-packages/ipykernel_launcher.py:8: SettingWithCopyWarning: \n",
      "A value is trying to be set on a copy of a slice from a DataFrame\n",
      "\n",
      "See the caveats in the documentation: http://pandas.pydata.org/pandas-docs/stable/indexing.html#indexing-view-versus-copy\n",
      "  \n",
      "/Users/GuangYi/anaconda/lib/python2.7/site-packages/ipykernel_launcher.py:9: SettingWithCopyWarning: \n",
      "A value is trying to be set on a copy of a slice from a DataFrame\n",
      "\n",
      "See the caveats in the documentation: http://pandas.pydata.org/pandas-docs/stable/indexing.html#indexing-view-versus-copy\n",
      "  if __name__ == '__main__':\n"
     ]
    }
   ],
   "source": [
    "# Dummy code and separate training set and testing set for categorical variables\n",
    "df_cat_dum = pd.get_dummies(df_cat, drop_first=True)\n",
    "df_cat_dum.reset_index(drop=True, inplace=True)\n",
    "a1 = pd.concat([df_cat_dum, df[\"YrSold\"]], axis=1)\n",
    "\n",
    "df_cat_test = a1[a1.YrSold==2010]\n",
    "df_cat_train = a1[a1.YrSold != 2010]\n",
    "\n",
    "df_cat_test.drop([\"YrSold\"], axis=1, inplace=True)\n",
    "df_cat_train.drop([\"YrSold\"], axis=1, inplace=True)"
   ]
  },
  {
   "cell_type": "code",
   "execution_count": 30,
   "metadata": {
    "collapsed": true
   },
   "outputs": [],
   "source": [
    "df_cat_train.reset_index(drop=True, inplace=True)\n",
    "df_cat_test.reset_index(drop=True, inplace=True)\n",
    "df_cont_train.reset_index(drop=True, inplace=True)\n",
    "df_cont_test.reset_index(drop=True, inplace=True)"
   ]
  },
  {
   "cell_type": "code",
   "execution_count": 31,
   "metadata": {
    "collapsed": true
   },
   "outputs": [],
   "source": [
    "# Concat the sets\n",
    "X_train = pd.concat([df_cat_train, df_cont_train], axis=1)\n",
    "X_test = pd.concat([df_cat_test, df_cont_test], axis=1)\n",
    "y_train = df.SalePrice[df.YrSold != 2010]\n",
    "y_test = df.SalePrice[df.YrSold == 2010]"
   ]
  },
  {
   "cell_type": "code",
   "execution_count": 32,
   "metadata": {
    "collapsed": true
   },
   "outputs": [],
   "source": [
    "y_train.reset_index(drop=True, inplace=True)\n",
    "y_test.reset_index(drop=True, inplace=True)"
   ]
  },
  {
   "cell_type": "code",
   "execution_count": 34,
   "metadata": {
    "scrolled": true
   },
   "outputs": [
    {
     "name": "stderr",
     "output_type": "stream",
     "text": [
      "/Users/GuangYi/anaconda/lib/python2.7/site-packages/statsmodels/compat/pandas.py:56: FutureWarning: The pandas.core.datetools module is deprecated and will be removed in a future version. Please use the pandas.tseries module instead.\n",
      "  from pandas.core import datetools\n"
     ]
    }
   ],
   "source": [
    "# Importing the stats model API\n",
    "import statsmodels.api as sm\n",
    "\n",
    "# The Default here is Linear Regression (ordinary least squares regression OLS)\n",
    "model = sm.OLS(y_train,X_train).fit()\n",
    "y_pred = model.predict(X_test)"
   ]
  },
  {
   "cell_type": "code",
   "execution_count": 35,
   "metadata": {
    "scrolled": true
   },
   "outputs": [
    {
     "data": {
      "text/html": [
       "<table class=\"simpletable\">\n",
       "<caption>OLS Regression Results</caption>\n",
       "<tr>\n",
       "  <th>Dep. Variable:</th>        <td>SalePrice</td>    <th>  R-squared:         </th> <td>   0.977</td> \n",
       "</tr>\n",
       "<tr>\n",
       "  <th>Model:</th>                   <td>OLS</td>       <th>  Adj. R-squared:    </th> <td>   0.975</td> \n",
       "</tr>\n",
       "<tr>\n",
       "  <th>Method:</th>             <td>Least Squares</td>  <th>  F-statistic:       </th> <td>   425.8</td> \n",
       "</tr>\n",
       "<tr>\n",
       "  <th>Date:</th>             <td>Fri, 06 Oct 2017</td> <th>  Prob (F-statistic):</th>  <td>  0.00</td>  \n",
       "</tr>\n",
       "<tr>\n",
       "  <th>Time:</th>                 <td>01:10:55</td>     <th>  Log-Likelihood:    </th> <td> -14986.</td> \n",
       "</tr>\n",
       "<tr>\n",
       "  <th>No. Observations:</th>      <td>  1278</td>      <th>  AIC:               </th> <td>3.021e+04</td>\n",
       "</tr>\n",
       "<tr>\n",
       "  <th>Df Residuals:</th>          <td>  1161</td>      <th>  BIC:               </th> <td>3.081e+04</td>\n",
       "</tr>\n",
       "<tr>\n",
       "  <th>Df Model:</th>              <td>   117</td>      <th>                     </th>     <td> </td>    \n",
       "</tr>\n",
       "<tr>\n",
       "  <th>Covariance Type:</th>      <td>nonrobust</td>    <th>                     </th>     <td> </td>    \n",
       "</tr>\n",
       "</table>\n",
       "<table class=\"simpletable\">\n",
       "<tr>\n",
       "            <td></td>              <th>coef</th>     <th>std err</th>      <th>t</th>      <th>P>|t|</th>  <th>[0.025</th>    <th>0.975]</th>  \n",
       "</tr>\n",
       "<tr>\n",
       "  <th>MSZoning_RH</th>          <td>-2272.3033</td> <td> 1.24e+04</td> <td>   -0.183</td> <td> 0.855</td> <td>-2.67e+04</td> <td> 2.21e+04</td>\n",
       "</tr>\n",
       "<tr>\n",
       "  <th>MSZoning_RL</th>          <td> -489.4969</td> <td> 8897.078</td> <td>   -0.055</td> <td> 0.956</td> <td>-1.79e+04</td> <td>  1.7e+04</td>\n",
       "</tr>\n",
       "<tr>\n",
       "  <th>MSZoning_RM</th>          <td> 3435.9760</td> <td> 9932.843</td> <td>    0.346</td> <td> 0.729</td> <td>-1.61e+04</td> <td> 2.29e+04</td>\n",
       "</tr>\n",
       "<tr>\n",
       "  <th>Street_Pave</th>          <td> 4.161e+04</td> <td> 2.09e+04</td> <td>    1.992</td> <td> 0.047</td> <td>  621.712</td> <td> 8.26e+04</td>\n",
       "</tr>\n",
       "<tr>\n",
       "  <th>LotShape_IR2</th>         <td> 9497.1598</td> <td> 6045.780</td> <td>    1.571</td> <td> 0.116</td> <td>-2364.717</td> <td> 2.14e+04</td>\n",
       "</tr>\n",
       "<tr>\n",
       "  <th>LotShape_IR3</th>         <td>-4.142e+04</td> <td> 1.14e+04</td> <td>   -3.625</td> <td> 0.000</td> <td>-6.38e+04</td> <td> -1.9e+04</td>\n",
       "</tr>\n",
       "<tr>\n",
       "  <th>LotShape_Reg</th>         <td>  676.0415</td> <td> 2269.518</td> <td>    0.298</td> <td> 0.766</td> <td>-3776.775</td> <td> 5128.858</td>\n",
       "</tr>\n",
       "<tr>\n",
       "  <th>LandContour_HLS</th>      <td> 2.019e+04</td> <td> 7014.635</td> <td>    2.879</td> <td> 0.004</td> <td> 6431.341</td> <td>  3.4e+04</td>\n",
       "</tr>\n",
       "<tr>\n",
       "  <th>LandContour_Low</th>      <td>  -10.7596</td> <td> 8990.900</td> <td>   -0.001</td> <td> 0.999</td> <td>-1.77e+04</td> <td> 1.76e+04</td>\n",
       "</tr>\n",
       "<tr>\n",
       "  <th>LandContour_Lvl</th>      <td> 1.073e+04</td> <td> 4932.532</td> <td>    2.175</td> <td> 0.030</td> <td> 1048.425</td> <td> 2.04e+04</td>\n",
       "</tr>\n",
       "<tr>\n",
       "  <th>LotConfig_CulDSac</th>    <td> 5721.1667</td> <td> 4682.160</td> <td>    1.222</td> <td> 0.222</td> <td>-3465.276</td> <td> 1.49e+04</td>\n",
       "</tr>\n",
       "<tr>\n",
       "  <th>LotConfig_FR2</th>        <td>-1.257e+04</td> <td> 5770.605</td> <td>   -2.178</td> <td> 0.030</td> <td>-2.39e+04</td> <td>-1245.278</td>\n",
       "</tr>\n",
       "<tr>\n",
       "  <th>LotConfig_FR3</th>        <td>-2.874e+04</td> <td> 1.72e+04</td> <td>   -1.667</td> <td> 0.096</td> <td>-6.26e+04</td> <td> 5094.156</td>\n",
       "</tr>\n",
       "<tr>\n",
       "  <th>LotConfig_Inside</th>     <td>-1238.8519</td> <td> 2572.475</td> <td>   -0.482</td> <td> 0.630</td> <td>-6286.071</td> <td> 3808.367</td>\n",
       "</tr>\n",
       "<tr>\n",
       "  <th>LandSlope_Mod</th>        <td> 1129.6607</td> <td> 5599.271</td> <td>    0.202</td> <td> 0.840</td> <td>-9856.161</td> <td> 1.21e+04</td>\n",
       "</tr>\n",
       "<tr>\n",
       "  <th>LandSlope_Sev</th>        <td>-3.112e+04</td> <td> 1.38e+04</td> <td>   -2.259</td> <td> 0.024</td> <td>-5.81e+04</td> <td>-4094.765</td>\n",
       "</tr>\n",
       "<tr>\n",
       "  <th>Neighborhood_Blueste</th> <td> 6032.9362</td> <td>  2.5e+04</td> <td>    0.241</td> <td> 0.810</td> <td>-4.31e+04</td> <td> 5.52e+04</td>\n",
       "</tr>\n",
       "<tr>\n",
       "  <th>Neighborhood_BrDale</th>  <td> 1.173e+04</td> <td> 1.46e+04</td> <td>    0.806</td> <td> 0.421</td> <td>-1.68e+04</td> <td> 4.03e+04</td>\n",
       "</tr>\n",
       "<tr>\n",
       "  <th>Neighborhood_BrkSide</th> <td>-5703.9459</td> <td> 1.26e+04</td> <td>   -0.453</td> <td> 0.650</td> <td>-3.04e+04</td> <td>  1.9e+04</td>\n",
       "</tr>\n",
       "<tr>\n",
       "  <th>Neighborhood_ClearCr</th> <td>-2.423e+04</td> <td> 1.26e+04</td> <td>   -1.921</td> <td> 0.055</td> <td> -4.9e+04</td> <td>  517.561</td>\n",
       "</tr>\n",
       "<tr>\n",
       "  <th>Neighborhood_CollgCr</th> <td>-1.237e+04</td> <td> 9731.462</td> <td>   -1.271</td> <td> 0.204</td> <td>-3.15e+04</td> <td> 6725.696</td>\n",
       "</tr>\n",
       "<tr>\n",
       "  <th>Neighborhood_Crawfor</th> <td> 1.398e+04</td> <td> 1.16e+04</td> <td>    1.205</td> <td> 0.228</td> <td>-8774.271</td> <td> 3.67e+04</td>\n",
       "</tr>\n",
       "<tr>\n",
       "  <th>Neighborhood_Edwards</th> <td>-2.728e+04</td> <td> 1.07e+04</td> <td>   -2.550</td> <td> 0.011</td> <td>-4.83e+04</td> <td>-6288.015</td>\n",
       "</tr>\n",
       "<tr>\n",
       "  <th>Neighborhood_Gilbert</th> <td>-1.543e+04</td> <td> 1.05e+04</td> <td>   -1.472</td> <td> 0.141</td> <td> -3.6e+04</td> <td> 5140.460</td>\n",
       "</tr>\n",
       "<tr>\n",
       "  <th>Neighborhood_IDOTRR</th>  <td>-1.871e+04</td> <td> 1.43e+04</td> <td>   -1.305</td> <td> 0.192</td> <td>-4.68e+04</td> <td> 9419.929</td>\n",
       "</tr>\n",
       "<tr>\n",
       "  <th>Neighborhood_MeadowV</th> <td>-1.018e+04</td> <td> 1.42e+04</td> <td>   -0.717</td> <td> 0.473</td> <td> -3.8e+04</td> <td> 1.77e+04</td>\n",
       "</tr>\n",
       "<tr>\n",
       "  <th>Neighborhood_Mitchel</th> <td>-2.343e+04</td> <td> 1.09e+04</td> <td>   -2.148</td> <td> 0.032</td> <td>-4.48e+04</td> <td>-2033.377</td>\n",
       "</tr>\n",
       "<tr>\n",
       "  <th>Neighborhood_NAmes</th>   <td>-1.504e+04</td> <td> 1.04e+04</td> <td>   -1.441</td> <td> 0.150</td> <td>-3.55e+04</td> <td> 5435.997</td>\n",
       "</tr>\n",
       "<tr>\n",
       "  <th>Neighborhood_NPkVill</th> <td> 1.968e+04</td> <td> 1.53e+04</td> <td>    1.286</td> <td> 0.199</td> <td>-1.03e+04</td> <td> 4.97e+04</td>\n",
       "</tr>\n",
       "<tr>\n",
       "  <th>Neighborhood_NWAmes</th>  <td>-1.968e+04</td> <td> 1.08e+04</td> <td>   -1.830</td> <td> 0.068</td> <td>-4.08e+04</td> <td> 1420.791</td>\n",
       "</tr>\n",
       "<tr>\n",
       "  <th>Neighborhood_NoRidge</th> <td> 4.408e+04</td> <td> 1.13e+04</td> <td>    3.895</td> <td> 0.000</td> <td> 2.19e+04</td> <td> 6.63e+04</td>\n",
       "</tr>\n",
       "<tr>\n",
       "  <th>Neighborhood_NridgHt</th> <td> 6.013e+04</td> <td> 9701.725</td> <td>    6.198</td> <td> 0.000</td> <td> 4.11e+04</td> <td> 7.92e+04</td>\n",
       "</tr>\n",
       "<tr>\n",
       "  <th>Neighborhood_OldTown</th> <td>-2.079e+04</td> <td> 1.28e+04</td> <td>   -1.621</td> <td> 0.105</td> <td> -4.6e+04</td> <td> 4373.620</td>\n",
       "</tr>\n",
       "<tr>\n",
       "  <th>Neighborhood_SWISU</th>   <td>-1.259e+04</td> <td> 1.34e+04</td> <td>   -0.940</td> <td> 0.347</td> <td>-3.89e+04</td> <td> 1.37e+04</td>\n",
       "</tr>\n",
       "<tr>\n",
       "  <th>Neighborhood_Sawyer</th>  <td> -1.69e+04</td> <td>  1.1e+04</td> <td>   -1.534</td> <td> 0.125</td> <td>-3.85e+04</td> <td> 4713.103</td>\n",
       "</tr>\n",
       "<tr>\n",
       "  <th>Neighborhood_SawyerW</th> <td>-7132.2000</td> <td> 1.07e+04</td> <td>   -0.666</td> <td> 0.505</td> <td>-2.81e+04</td> <td> 1.39e+04</td>\n",
       "</tr>\n",
       "<tr>\n",
       "  <th>Neighborhood_Somerst</th> <td> 1.957e+04</td> <td> 1.18e+04</td> <td>    1.664</td> <td> 0.096</td> <td>-3506.920</td> <td> 4.26e+04</td>\n",
       "</tr>\n",
       "<tr>\n",
       "  <th>Neighborhood_StoneBr</th> <td> 6.199e+04</td> <td> 1.13e+04</td> <td>    5.475</td> <td> 0.000</td> <td> 3.98e+04</td> <td> 8.42e+04</td>\n",
       "</tr>\n",
       "<tr>\n",
       "  <th>Neighborhood_Timber</th>  <td>-9001.6791</td> <td> 1.12e+04</td> <td>   -0.804</td> <td> 0.421</td> <td> -3.1e+04</td> <td>  1.3e+04</td>\n",
       "</tr>\n",
       "<tr>\n",
       "  <th>Neighborhood_Veenker</th> <td> 1.577e+04</td> <td> 1.36e+04</td> <td>    1.160</td> <td> 0.246</td> <td>-1.09e+04</td> <td> 4.24e+04</td>\n",
       "</tr>\n",
       "<tr>\n",
       "  <th>Condition1_Feedr</th>     <td> -1.25e+04</td> <td> 6885.832</td> <td>   -1.815</td> <td> 0.070</td> <td> -2.6e+04</td> <td> 1010.404</td>\n",
       "</tr>\n",
       "<tr>\n",
       "  <th>Condition1_Norm</th>      <td> 4256.4464</td> <td> 5704.823</td> <td>    0.746</td> <td> 0.456</td> <td>-6936.470</td> <td> 1.54e+04</td>\n",
       "</tr>\n",
       "<tr>\n",
       "  <th>Condition1_PosA</th>      <td>-4909.5065</td> <td> 1.65e+04</td> <td>   -0.297</td> <td> 0.766</td> <td>-3.73e+04</td> <td> 2.75e+04</td>\n",
       "</tr>\n",
       "<tr>\n",
       "  <th>Condition1_PosN</th>      <td> 9094.6820</td> <td> 1.04e+04</td> <td>    0.876</td> <td> 0.381</td> <td>-1.13e+04</td> <td> 2.95e+04</td>\n",
       "</tr>\n",
       "<tr>\n",
       "  <th>Condition1_RRAe</th>      <td> -2.31e+04</td> <td> 1.35e+04</td> <td>   -1.706</td> <td> 0.088</td> <td>-4.97e+04</td> <td> 3463.429</td>\n",
       "</tr>\n",
       "<tr>\n",
       "  <th>Condition1_RRAn</th>      <td> 5698.8621</td> <td> 9299.905</td> <td>    0.613</td> <td> 0.540</td> <td>-1.25e+04</td> <td> 2.39e+04</td>\n",
       "</tr>\n",
       "<tr>\n",
       "  <th>Condition1_RRNe</th>      <td>-6266.6485</td> <td> 3.26e+04</td> <td>   -0.192</td> <td> 0.847</td> <td>-7.02e+04</td> <td> 5.76e+04</td>\n",
       "</tr>\n",
       "<tr>\n",
       "  <th>Condition1_RRNn</th>      <td> 2.225e+04</td> <td> 1.84e+04</td> <td>    1.206</td> <td> 0.228</td> <td>-1.39e+04</td> <td> 5.84e+04</td>\n",
       "</tr>\n",
       "<tr>\n",
       "  <th>Condition2_Feedr</th>     <td>-1.934e+04</td> <td> 3.15e+04</td> <td>   -0.614</td> <td> 0.539</td> <td>-8.11e+04</td> <td> 4.24e+04</td>\n",
       "</tr>\n",
       "<tr>\n",
       "  <th>Condition2_Norm</th>      <td>-9439.3055</td> <td>  2.6e+04</td> <td>   -0.363</td> <td> 0.716</td> <td>-6.04e+04</td> <td> 4.15e+04</td>\n",
       "</tr>\n",
       "<tr>\n",
       "  <th>Condition2_PosA</th>      <td> 6.004e+04</td> <td> 4.31e+04</td> <td>    1.393</td> <td> 0.164</td> <td>-2.45e+04</td> <td> 1.45e+05</td>\n",
       "</tr>\n",
       "<tr>\n",
       "  <th>Condition2_PosN</th>      <td>-1.645e+05</td> <td> 3.59e+04</td> <td>   -4.578</td> <td> 0.000</td> <td>-2.35e+05</td> <td> -9.4e+04</td>\n",
       "</tr>\n",
       "<tr>\n",
       "  <th>Condition2_RRAe</th>      <td>-3.094e+04</td> <td> 2.21e+04</td> <td>   -1.397</td> <td> 0.163</td> <td>-7.44e+04</td> <td> 1.25e+04</td>\n",
       "</tr>\n",
       "<tr>\n",
       "  <th>Condition2_RRAn</th>      <td> 3293.6057</td> <td> 4.17e+04</td> <td>    0.079</td> <td> 0.937</td> <td>-7.85e+04</td> <td> 8.51e+04</td>\n",
       "</tr>\n",
       "<tr>\n",
       "  <th>Condition2_RRNn</th>      <td>-9692.8802</td> <td> 3.54e+04</td> <td>   -0.274</td> <td> 0.784</td> <td>-7.92e+04</td> <td> 5.98e+04</td>\n",
       "</tr>\n",
       "<tr>\n",
       "  <th>BldgType_2fmCon</th>      <td>-4792.1329</td> <td> 8143.696</td> <td>   -0.588</td> <td> 0.556</td> <td>-2.08e+04</td> <td> 1.12e+04</td>\n",
       "</tr>\n",
       "<tr>\n",
       "  <th>BldgType_Duplex</th>      <td>-1.201e+04</td> <td> 8536.837</td> <td>   -1.407</td> <td> 0.160</td> <td>-2.88e+04</td> <td> 4737.140</td>\n",
       "</tr>\n",
       "<tr>\n",
       "  <th>BldgType_Twnhs</th>       <td>-4.472e+04</td> <td> 7759.977</td> <td>   -5.763</td> <td> 0.000</td> <td>-5.99e+04</td> <td>-2.95e+04</td>\n",
       "</tr>\n",
       "<tr>\n",
       "  <th>BldgType_TwnhsE</th>      <td>-3.367e+04</td> <td> 5252.118</td> <td>   -6.410</td> <td> 0.000</td> <td> -4.4e+04</td> <td>-2.34e+04</td>\n",
       "</tr>\n",
       "<tr>\n",
       "  <th>HouseStyle_1.5Unf</th>    <td> 2.458e+04</td> <td> 9947.422</td> <td>    2.471</td> <td> 0.014</td> <td> 5063.542</td> <td> 4.41e+04</td>\n",
       "</tr>\n",
       "<tr>\n",
       "  <th>HouseStyle_1Story</th>    <td> 1.842e+04</td> <td> 5206.941</td> <td>    3.537</td> <td> 0.000</td> <td> 8199.536</td> <td> 2.86e+04</td>\n",
       "</tr>\n",
       "<tr>\n",
       "  <th>HouseStyle_2.5Fin</th>    <td>-1.821e+04</td> <td> 1.61e+04</td> <td>   -1.132</td> <td> 0.258</td> <td>-4.98e+04</td> <td> 1.33e+04</td>\n",
       "</tr>\n",
       "<tr>\n",
       "  <th>HouseStyle_2.5Unf</th>    <td>-1.224e+04</td> <td> 1.17e+04</td> <td>   -1.046</td> <td> 0.296</td> <td>-3.52e+04</td> <td> 1.07e+04</td>\n",
       "</tr>\n",
       "<tr>\n",
       "  <th>HouseStyle_2Story</th>    <td>-1.427e+04</td> <td> 4462.992</td> <td>   -3.198</td> <td> 0.001</td> <td> -2.3e+04</td> <td>-5515.738</td>\n",
       "</tr>\n",
       "<tr>\n",
       "  <th>HouseStyle_SFoyer</th>    <td> 8434.6433</td> <td> 8274.344</td> <td>    1.019</td> <td> 0.308</td> <td>-7799.696</td> <td> 2.47e+04</td>\n",
       "</tr>\n",
       "<tr>\n",
       "  <th>HouseStyle_SLvl</th>      <td> 3746.1819</td> <td> 6564.262</td> <td>    0.571</td> <td> 0.568</td> <td>-9132.962</td> <td> 1.66e+04</td>\n",
       "</tr>\n",
       "<tr>\n",
       "  <th>RoofStyle_Gable</th>      <td>-1.309e+04</td> <td> 1.12e+04</td> <td>   -1.165</td> <td> 0.244</td> <td>-3.51e+04</td> <td> 8958.931</td>\n",
       "</tr>\n",
       "<tr>\n",
       "  <th>RoofStyle_Gambrel</th>    <td>-1367.9664</td> <td> 1.58e+04</td> <td>   -0.086</td> <td> 0.931</td> <td>-3.24e+04</td> <td> 2.97e+04</td>\n",
       "</tr>\n",
       "<tr>\n",
       "  <th>RoofStyle_Hip</th>        <td>-3166.0913</td> <td> 1.14e+04</td> <td>   -0.279</td> <td> 0.781</td> <td>-2.55e+04</td> <td> 1.91e+04</td>\n",
       "</tr>\n",
       "<tr>\n",
       "  <th>RoofStyle_Mansard</th>    <td> -120.0488</td> <td> 1.86e+04</td> <td>   -0.006</td> <td> 0.995</td> <td>-3.67e+04</td> <td> 3.64e+04</td>\n",
       "</tr>\n",
       "<tr>\n",
       "  <th>RoofStyle_Shed</th>       <td>-3.094e+04</td> <td> 2.21e+04</td> <td>   -1.397</td> <td> 0.163</td> <td>-7.44e+04</td> <td> 1.25e+04</td>\n",
       "</tr>\n",
       "<tr>\n",
       "  <th>Foundation_CBlock</th>    <td>  635.0907</td> <td> 4256.935</td> <td>    0.149</td> <td> 0.881</td> <td>-7717.055</td> <td> 8987.237</td>\n",
       "</tr>\n",
       "<tr>\n",
       "  <th>Foundation_PConc</th>     <td> 4762.5485</td> <td> 4736.515</td> <td>    1.005</td> <td> 0.315</td> <td>-4530.537</td> <td> 1.41e+04</td>\n",
       "</tr>\n",
       "<tr>\n",
       "  <th>Foundation_Slab</th>      <td>-4595.8327</td> <td> 1.24e+04</td> <td>   -0.370</td> <td> 0.712</td> <td> -2.9e+04</td> <td> 1.98e+04</td>\n",
       "</tr>\n",
       "<tr>\n",
       "  <th>Foundation_Stone</th>     <td> -245.1956</td> <td> 1.72e+04</td> <td>   -0.014</td> <td> 0.989</td> <td>-3.39e+04</td> <td> 3.34e+04</td>\n",
       "</tr>\n",
       "<tr>\n",
       "  <th>Foundation_Wood</th>      <td>-2.919e+04</td> <td> 2.41e+04</td> <td>   -1.213</td> <td> 0.225</td> <td>-7.64e+04</td> <td>  1.8e+04</td>\n",
       "</tr>\n",
       "<tr>\n",
       "  <th>BsmtExposure_Av</th>      <td> 1.372e+04</td> <td> 1.12e+04</td> <td>    1.223</td> <td> 0.222</td> <td>-8297.747</td> <td> 3.57e+04</td>\n",
       "</tr>\n",
       "<tr>\n",
       "  <th>BsmtExposure_Gd</th>      <td> 3.178e+04</td> <td> 1.17e+04</td> <td>    2.722</td> <td> 0.007</td> <td> 8874.164</td> <td> 5.47e+04</td>\n",
       "</tr>\n",
       "<tr>\n",
       "  <th>BsmtExposure_Mn</th>      <td> 4634.1579</td> <td> 1.13e+04</td> <td>    0.411</td> <td> 0.681</td> <td>-1.75e+04</td> <td> 2.67e+04</td>\n",
       "</tr>\n",
       "<tr>\n",
       "  <th>BsmtExposure_No</th>      <td>  471.5595</td> <td> 1.08e+04</td> <td>    0.044</td> <td> 0.965</td> <td>-2.08e+04</td> <td> 2.17e+04</td>\n",
       "</tr>\n",
       "<tr>\n",
       "  <th>Functional_Maj2</th>      <td>-1.892e+04</td> <td> 1.72e+04</td> <td>   -1.103</td> <td> 0.270</td> <td>-5.26e+04</td> <td> 1.48e+04</td>\n",
       "</tr>\n",
       "<tr>\n",
       "  <th>Functional_Min1</th>      <td> -435.1923</td> <td> 1.11e+04</td> <td>   -0.039</td> <td> 0.969</td> <td>-2.22e+04</td> <td> 2.14e+04</td>\n",
       "</tr>\n",
       "<tr>\n",
       "  <th>Functional_Min2</th>      <td> 4141.0940</td> <td> 1.11e+04</td> <td>    0.372</td> <td> 0.710</td> <td>-1.77e+04</td> <td>  2.6e+04</td>\n",
       "</tr>\n",
       "<tr>\n",
       "  <th>Functional_Mod</th>       <td> 2136.5579</td> <td> 1.43e+04</td> <td>    0.150</td> <td> 0.881</td> <td>-2.59e+04</td> <td> 3.02e+04</td>\n",
       "</tr>\n",
       "<tr>\n",
       "  <th>Functional_Sev</th>       <td>-7.853e+04</td> <td> 3.82e+04</td> <td>   -2.057</td> <td> 0.040</td> <td>-1.53e+05</td> <td>-3642.935</td>\n",
       "</tr>\n",
       "<tr>\n",
       "  <th>Functional_Typ</th>       <td> 2.058e+04</td> <td> 9293.168</td> <td>    2.214</td> <td> 0.027</td> <td> 2345.249</td> <td> 3.88e+04</td>\n",
       "</tr>\n",
       "<tr>\n",
       "  <th>GarageType_2Types</th>    <td> 1.061e+05</td> <td> 4.25e+04</td> <td>    2.497</td> <td> 0.013</td> <td> 2.27e+04</td> <td> 1.89e+05</td>\n",
       "</tr>\n",
       "<tr>\n",
       "  <th>GarageType_Attchd</th>    <td> 1.321e+05</td> <td> 4.18e+04</td> <td>    3.163</td> <td> 0.002</td> <td> 5.02e+04</td> <td> 2.14e+05</td>\n",
       "</tr>\n",
       "<tr>\n",
       "  <th>GarageType_Basment</th>   <td> 1.326e+05</td> <td> 4.31e+04</td> <td>    3.078</td> <td> 0.002</td> <td> 4.81e+04</td> <td> 2.17e+05</td>\n",
       "</tr>\n",
       "<tr>\n",
       "  <th>GarageType_BuiltIn</th>   <td> 1.318e+05</td> <td> 4.22e+04</td> <td>    3.126</td> <td> 0.002</td> <td> 4.91e+04</td> <td> 2.15e+05</td>\n",
       "</tr>\n",
       "<tr>\n",
       "  <th>GarageType_CarPort</th>   <td> 1.225e+05</td> <td>  4.2e+04</td> <td>    2.915</td> <td> 0.004</td> <td> 4.01e+04</td> <td> 2.05e+05</td>\n",
       "</tr>\n",
       "<tr>\n",
       "  <th>GarageType_Detchd</th>    <td> 1.332e+05</td> <td> 4.18e+04</td> <td>    3.188</td> <td> 0.001</td> <td> 5.12e+04</td> <td> 2.15e+05</td>\n",
       "</tr>\n",
       "<tr>\n",
       "  <th>0</th>                    <td>-3068.3343</td> <td> 1303.977</td> <td>   -2.353</td> <td> 0.019</td> <td>-5626.749</td> <td> -509.919</td>\n",
       "</tr>\n",
       "<tr>\n",
       "  <th>1</th>                    <td> 6471.2189</td> <td> 1368.752</td> <td>    4.728</td> <td> 0.000</td> <td> 3785.714</td> <td> 9156.724</td>\n",
       "</tr>\n",
       "<tr>\n",
       "  <th>2</th>                    <td> 1.018e+04</td> <td> 2697.370</td> <td>    3.772</td> <td> 0.000</td> <td> 4882.806</td> <td> 1.55e+04</td>\n",
       "</tr>\n",
       "<tr>\n",
       "  <th>3</th>                    <td> 6411.1209</td> <td> 1298.870</td> <td>    4.936</td> <td> 0.000</td> <td> 3862.726</td> <td> 8959.515</td>\n",
       "</tr>\n",
       "<tr>\n",
       "  <th>4</th>                    <td> 2723.3438</td> <td> 1172.148</td> <td>    2.323</td> <td> 0.020</td> <td>  423.579</td> <td> 5023.109</td>\n",
       "</tr>\n",
       "<tr>\n",
       "  <th>5</th>                    <td>  122.5311</td> <td> 1003.433</td> <td>    0.122</td> <td> 0.903</td> <td>-1846.213</td> <td> 2091.275</td>\n",
       "</tr>\n",
       "<tr>\n",
       "  <th>6</th>                    <td> -642.1129</td> <td> 1065.634</td> <td>   -0.603</td> <td> 0.547</td> <td>-2732.896</td> <td> 1448.670</td>\n",
       "</tr>\n",
       "<tr>\n",
       "  <th>7</th>                    <td> 2227.7588</td> <td> 1742.085</td> <td>    1.279</td> <td> 0.201</td> <td>-1190.229</td> <td> 5645.746</td>\n",
       "</tr>\n",
       "<tr>\n",
       "  <th>8</th>                    <td> 8365.7340</td> <td> 2109.479</td> <td>    3.966</td> <td> 0.000</td> <td> 4226.917</td> <td> 1.25e+04</td>\n",
       "</tr>\n",
       "<tr>\n",
       "  <th>9</th>                    <td> 1.852e+04</td> <td> 2204.339</td> <td>    8.404</td> <td> 0.000</td> <td> 1.42e+04</td> <td> 2.28e+04</td>\n",
       "</tr>\n",
       "<tr>\n",
       "  <th>10</th>                   <td>  628.2691</td> <td> 1183.464</td> <td>    0.531</td> <td> 0.596</td> <td>-1693.698</td> <td> 2950.236</td>\n",
       "</tr>\n",
       "<tr>\n",
       "  <th>11</th>                   <td> 2.163e+04</td> <td> 1670.031</td> <td>   12.954</td> <td> 0.000</td> <td> 1.84e+04</td> <td> 2.49e+04</td>\n",
       "</tr>\n",
       "<tr>\n",
       "  <th>12</th>                   <td> 3594.1183</td> <td> 1384.209</td> <td>    2.597</td> <td> 0.010</td> <td>  878.287</td> <td> 6309.949</td>\n",
       "</tr>\n",
       "<tr>\n",
       "  <th>13</th>                   <td> 1577.9341</td> <td>  951.448</td> <td>    1.658</td> <td> 0.097</td> <td> -288.816</td> <td> 3444.684</td>\n",
       "</tr>\n",
       "<tr>\n",
       "  <th>14</th>                   <td> 4169.2370</td> <td> 1683.608</td> <td>    2.476</td> <td> 0.013</td> <td>  865.982</td> <td> 7472.492</td>\n",
       "</tr>\n",
       "<tr>\n",
       "  <th>15</th>                   <td> 2789.6490</td> <td> 1487.576</td> <td>    1.875</td> <td> 0.061</td> <td> -128.990</td> <td> 5708.288</td>\n",
       "</tr>\n",
       "<tr>\n",
       "  <th>16</th>                   <td>-6350.4885</td> <td> 1499.880</td> <td>   -4.234</td> <td> 0.000</td> <td>-9293.268</td> <td>-3407.709</td>\n",
       "</tr>\n",
       "<tr>\n",
       "  <th>17</th>                   <td>-4775.9052</td> <td> 1639.365</td> <td>   -2.913</td> <td> 0.004</td> <td>-7992.355</td> <td>-1559.455</td>\n",
       "</tr>\n",
       "<tr>\n",
       "  <th>18</th>                   <td> 5594.2918</td> <td> 2158.087</td> <td>    2.592</td> <td> 0.010</td> <td> 1360.104</td> <td> 9828.479</td>\n",
       "</tr>\n",
       "<tr>\n",
       "  <th>19</th>                   <td>-3.182e+04</td> <td> 9744.257</td> <td>   -3.266</td> <td> 0.001</td> <td>-5.09e+04</td> <td>-1.27e+04</td>\n",
       "</tr>\n",
       "<tr>\n",
       "  <th>20</th>                   <td> 6663.7217</td> <td> 1604.809</td> <td>    4.152</td> <td> 0.000</td> <td> 3515.072</td> <td> 9812.371</td>\n",
       "</tr>\n",
       "<tr>\n",
       "  <th>21</th>                   <td> 1976.9391</td> <td> 1049.921</td> <td>    1.883</td> <td> 0.060</td> <td>  -83.015</td> <td> 4036.894</td>\n",
       "</tr>\n",
       "<tr>\n",
       "  <th>22</th>                   <td>  649.3260</td> <td> 1055.532</td> <td>    0.615</td> <td> 0.539</td> <td>-1421.638</td> <td> 2720.290</td>\n",
       "</tr>\n",
       "<tr>\n",
       "  <th>23</th>                   <td>  233.5362</td> <td> 1053.478</td> <td>    0.222</td> <td> 0.825</td> <td>-1833.397</td> <td> 2300.470</td>\n",
       "</tr>\n",
       "<tr>\n",
       "  <th>24</th>                   <td> 1521.3306</td> <td>  910.052</td> <td>    1.672</td> <td> 0.095</td> <td> -264.200</td> <td> 3306.861</td>\n",
       "</tr>\n",
       "<tr>\n",
       "  <th>25</th>                   <td> 3489.1791</td> <td>  945.061</td> <td>    3.692</td> <td> 0.000</td> <td> 1634.960</td> <td> 5343.399</td>\n",
       "</tr>\n",
       "<tr>\n",
       "  <th>26</th>                   <td> -661.5185</td> <td>  924.374</td> <td>   -0.716</td> <td> 0.474</td> <td>-2475.148</td> <td> 1152.111</td>\n",
       "</tr>\n",
       "<tr>\n",
       "  <th>27</th>                   <td> -673.5111</td> <td>  918.422</td> <td>   -0.733</td> <td> 0.464</td> <td>-2475.463</td> <td> 1128.441</td>\n",
       "</tr>\n",
       "</table>\n",
       "<table class=\"simpletable\">\n",
       "<tr>\n",
       "  <th>Omnibus:</th>       <td>366.367</td> <th>  Durbin-Watson:     </th> <td>   1.923</td> \n",
       "</tr>\n",
       "<tr>\n",
       "  <th>Prob(Omnibus):</th> <td> 0.000</td>  <th>  Jarque-Bera (JB):  </th> <td>37222.749</td>\n",
       "</tr>\n",
       "<tr>\n",
       "  <th>Skew:</th>          <td>-0.054</td>  <th>  Prob(JB):          </th> <td>    0.00</td> \n",
       "</tr>\n",
       "<tr>\n",
       "  <th>Kurtosis:</th>      <td>29.439</td>  <th>  Cond. No.          </th> <td>1.30e+16</td> \n",
       "</tr>\n",
       "</table>"
      ],
      "text/plain": [
       "<class 'statsmodels.iolib.summary.Summary'>\n",
       "\"\"\"\n",
       "                            OLS Regression Results                            \n",
       "==============================================================================\n",
       "Dep. Variable:              SalePrice   R-squared:                       0.977\n",
       "Model:                            OLS   Adj. R-squared:                  0.975\n",
       "Method:                 Least Squares   F-statistic:                     425.8\n",
       "Date:                Fri, 06 Oct 2017   Prob (F-statistic):               0.00\n",
       "Time:                        01:10:55   Log-Likelihood:                -14986.\n",
       "No. Observations:                1278   AIC:                         3.021e+04\n",
       "Df Residuals:                    1161   BIC:                         3.081e+04\n",
       "Df Model:                         117                                         \n",
       "Covariance Type:            nonrobust                                         \n",
       "========================================================================================\n",
       "                           coef    std err          t      P>|t|      [0.025      0.975]\n",
       "----------------------------------------------------------------------------------------\n",
       "MSZoning_RH          -2272.3033   1.24e+04     -0.183      0.855   -2.67e+04    2.21e+04\n",
       "MSZoning_RL           -489.4969   8897.078     -0.055      0.956   -1.79e+04     1.7e+04\n",
       "MSZoning_RM           3435.9760   9932.843      0.346      0.729   -1.61e+04    2.29e+04\n",
       "Street_Pave           4.161e+04   2.09e+04      1.992      0.047     621.712    8.26e+04\n",
       "LotShape_IR2          9497.1598   6045.780      1.571      0.116   -2364.717    2.14e+04\n",
       "LotShape_IR3         -4.142e+04   1.14e+04     -3.625      0.000   -6.38e+04    -1.9e+04\n",
       "LotShape_Reg           676.0415   2269.518      0.298      0.766   -3776.775    5128.858\n",
       "LandContour_HLS       2.019e+04   7014.635      2.879      0.004    6431.341     3.4e+04\n",
       "LandContour_Low        -10.7596   8990.900     -0.001      0.999   -1.77e+04    1.76e+04\n",
       "LandContour_Lvl       1.073e+04   4932.532      2.175      0.030    1048.425    2.04e+04\n",
       "LotConfig_CulDSac     5721.1667   4682.160      1.222      0.222   -3465.276    1.49e+04\n",
       "LotConfig_FR2        -1.257e+04   5770.605     -2.178      0.030   -2.39e+04   -1245.278\n",
       "LotConfig_FR3        -2.874e+04   1.72e+04     -1.667      0.096   -6.26e+04    5094.156\n",
       "LotConfig_Inside     -1238.8519   2572.475     -0.482      0.630   -6286.071    3808.367\n",
       "LandSlope_Mod         1129.6607   5599.271      0.202      0.840   -9856.161    1.21e+04\n",
       "LandSlope_Sev        -3.112e+04   1.38e+04     -2.259      0.024   -5.81e+04   -4094.765\n",
       "Neighborhood_Blueste  6032.9362    2.5e+04      0.241      0.810   -4.31e+04    5.52e+04\n",
       "Neighborhood_BrDale   1.173e+04   1.46e+04      0.806      0.421   -1.68e+04    4.03e+04\n",
       "Neighborhood_BrkSide -5703.9459   1.26e+04     -0.453      0.650   -3.04e+04     1.9e+04\n",
       "Neighborhood_ClearCr -2.423e+04   1.26e+04     -1.921      0.055    -4.9e+04     517.561\n",
       "Neighborhood_CollgCr -1.237e+04   9731.462     -1.271      0.204   -3.15e+04    6725.696\n",
       "Neighborhood_Crawfor  1.398e+04   1.16e+04      1.205      0.228   -8774.271    3.67e+04\n",
       "Neighborhood_Edwards -2.728e+04   1.07e+04     -2.550      0.011   -4.83e+04   -6288.015\n",
       "Neighborhood_Gilbert -1.543e+04   1.05e+04     -1.472      0.141    -3.6e+04    5140.460\n",
       "Neighborhood_IDOTRR  -1.871e+04   1.43e+04     -1.305      0.192   -4.68e+04    9419.929\n",
       "Neighborhood_MeadowV -1.018e+04   1.42e+04     -0.717      0.473    -3.8e+04    1.77e+04\n",
       "Neighborhood_Mitchel -2.343e+04   1.09e+04     -2.148      0.032   -4.48e+04   -2033.377\n",
       "Neighborhood_NAmes   -1.504e+04   1.04e+04     -1.441      0.150   -3.55e+04    5435.997\n",
       "Neighborhood_NPkVill  1.968e+04   1.53e+04      1.286      0.199   -1.03e+04    4.97e+04\n",
       "Neighborhood_NWAmes  -1.968e+04   1.08e+04     -1.830      0.068   -4.08e+04    1420.791\n",
       "Neighborhood_NoRidge  4.408e+04   1.13e+04      3.895      0.000    2.19e+04    6.63e+04\n",
       "Neighborhood_NridgHt  6.013e+04   9701.725      6.198      0.000    4.11e+04    7.92e+04\n",
       "Neighborhood_OldTown -2.079e+04   1.28e+04     -1.621      0.105    -4.6e+04    4373.620\n",
       "Neighborhood_SWISU   -1.259e+04   1.34e+04     -0.940      0.347   -3.89e+04    1.37e+04\n",
       "Neighborhood_Sawyer   -1.69e+04    1.1e+04     -1.534      0.125   -3.85e+04    4713.103\n",
       "Neighborhood_SawyerW -7132.2000   1.07e+04     -0.666      0.505   -2.81e+04    1.39e+04\n",
       "Neighborhood_Somerst  1.957e+04   1.18e+04      1.664      0.096   -3506.920    4.26e+04\n",
       "Neighborhood_StoneBr  6.199e+04   1.13e+04      5.475      0.000    3.98e+04    8.42e+04\n",
       "Neighborhood_Timber  -9001.6791   1.12e+04     -0.804      0.421    -3.1e+04     1.3e+04\n",
       "Neighborhood_Veenker  1.577e+04   1.36e+04      1.160      0.246   -1.09e+04    4.24e+04\n",
       "Condition1_Feedr      -1.25e+04   6885.832     -1.815      0.070    -2.6e+04    1010.404\n",
       "Condition1_Norm       4256.4464   5704.823      0.746      0.456   -6936.470    1.54e+04\n",
       "Condition1_PosA      -4909.5065   1.65e+04     -0.297      0.766   -3.73e+04    2.75e+04\n",
       "Condition1_PosN       9094.6820   1.04e+04      0.876      0.381   -1.13e+04    2.95e+04\n",
       "Condition1_RRAe       -2.31e+04   1.35e+04     -1.706      0.088   -4.97e+04    3463.429\n",
       "Condition1_RRAn       5698.8621   9299.905      0.613      0.540   -1.25e+04    2.39e+04\n",
       "Condition1_RRNe      -6266.6485   3.26e+04     -0.192      0.847   -7.02e+04    5.76e+04\n",
       "Condition1_RRNn       2.225e+04   1.84e+04      1.206      0.228   -1.39e+04    5.84e+04\n",
       "Condition2_Feedr     -1.934e+04   3.15e+04     -0.614      0.539   -8.11e+04    4.24e+04\n",
       "Condition2_Norm      -9439.3055    2.6e+04     -0.363      0.716   -6.04e+04    4.15e+04\n",
       "Condition2_PosA       6.004e+04   4.31e+04      1.393      0.164   -2.45e+04    1.45e+05\n",
       "Condition2_PosN      -1.645e+05   3.59e+04     -4.578      0.000   -2.35e+05    -9.4e+04\n",
       "Condition2_RRAe      -3.094e+04   2.21e+04     -1.397      0.163   -7.44e+04    1.25e+04\n",
       "Condition2_RRAn       3293.6057   4.17e+04      0.079      0.937   -7.85e+04    8.51e+04\n",
       "Condition2_RRNn      -9692.8802   3.54e+04     -0.274      0.784   -7.92e+04    5.98e+04\n",
       "BldgType_2fmCon      -4792.1329   8143.696     -0.588      0.556   -2.08e+04    1.12e+04\n",
       "BldgType_Duplex      -1.201e+04   8536.837     -1.407      0.160   -2.88e+04    4737.140\n",
       "BldgType_Twnhs       -4.472e+04   7759.977     -5.763      0.000   -5.99e+04   -2.95e+04\n",
       "BldgType_TwnhsE      -3.367e+04   5252.118     -6.410      0.000    -4.4e+04   -2.34e+04\n",
       "HouseStyle_1.5Unf     2.458e+04   9947.422      2.471      0.014    5063.542    4.41e+04\n",
       "HouseStyle_1Story     1.842e+04   5206.941      3.537      0.000    8199.536    2.86e+04\n",
       "HouseStyle_2.5Fin    -1.821e+04   1.61e+04     -1.132      0.258   -4.98e+04    1.33e+04\n",
       "HouseStyle_2.5Unf    -1.224e+04   1.17e+04     -1.046      0.296   -3.52e+04    1.07e+04\n",
       "HouseStyle_2Story    -1.427e+04   4462.992     -3.198      0.001    -2.3e+04   -5515.738\n",
       "HouseStyle_SFoyer     8434.6433   8274.344      1.019      0.308   -7799.696    2.47e+04\n",
       "HouseStyle_SLvl       3746.1819   6564.262      0.571      0.568   -9132.962    1.66e+04\n",
       "RoofStyle_Gable      -1.309e+04   1.12e+04     -1.165      0.244   -3.51e+04    8958.931\n",
       "RoofStyle_Gambrel    -1367.9664   1.58e+04     -0.086      0.931   -3.24e+04    2.97e+04\n",
       "RoofStyle_Hip        -3166.0913   1.14e+04     -0.279      0.781   -2.55e+04    1.91e+04\n",
       "RoofStyle_Mansard     -120.0488   1.86e+04     -0.006      0.995   -3.67e+04    3.64e+04\n",
       "RoofStyle_Shed       -3.094e+04   2.21e+04     -1.397      0.163   -7.44e+04    1.25e+04\n",
       "Foundation_CBlock      635.0907   4256.935      0.149      0.881   -7717.055    8987.237\n",
       "Foundation_PConc      4762.5485   4736.515      1.005      0.315   -4530.537    1.41e+04\n",
       "Foundation_Slab      -4595.8327   1.24e+04     -0.370      0.712    -2.9e+04    1.98e+04\n",
       "Foundation_Stone      -245.1956   1.72e+04     -0.014      0.989   -3.39e+04    3.34e+04\n",
       "Foundation_Wood      -2.919e+04   2.41e+04     -1.213      0.225   -7.64e+04     1.8e+04\n",
       "BsmtExposure_Av       1.372e+04   1.12e+04      1.223      0.222   -8297.747    3.57e+04\n",
       "BsmtExposure_Gd       3.178e+04   1.17e+04      2.722      0.007    8874.164    5.47e+04\n",
       "BsmtExposure_Mn       4634.1579   1.13e+04      0.411      0.681   -1.75e+04    2.67e+04\n",
       "BsmtExposure_No        471.5595   1.08e+04      0.044      0.965   -2.08e+04    2.17e+04\n",
       "Functional_Maj2      -1.892e+04   1.72e+04     -1.103      0.270   -5.26e+04    1.48e+04\n",
       "Functional_Min1       -435.1923   1.11e+04     -0.039      0.969   -2.22e+04    2.14e+04\n",
       "Functional_Min2       4141.0940   1.11e+04      0.372      0.710   -1.77e+04     2.6e+04\n",
       "Functional_Mod        2136.5579   1.43e+04      0.150      0.881   -2.59e+04    3.02e+04\n",
       "Functional_Sev       -7.853e+04   3.82e+04     -2.057      0.040   -1.53e+05   -3642.935\n",
       "Functional_Typ        2.058e+04   9293.168      2.214      0.027    2345.249    3.88e+04\n",
       "GarageType_2Types     1.061e+05   4.25e+04      2.497      0.013    2.27e+04    1.89e+05\n",
       "GarageType_Attchd     1.321e+05   4.18e+04      3.163      0.002    5.02e+04    2.14e+05\n",
       "GarageType_Basment    1.326e+05   4.31e+04      3.078      0.002    4.81e+04    2.17e+05\n",
       "GarageType_BuiltIn    1.318e+05   4.22e+04      3.126      0.002    4.91e+04    2.15e+05\n",
       "GarageType_CarPort    1.225e+05    4.2e+04      2.915      0.004    4.01e+04    2.05e+05\n",
       "GarageType_Detchd     1.332e+05   4.18e+04      3.188      0.001    5.12e+04    2.15e+05\n",
       "0                    -3068.3343   1303.977     -2.353      0.019   -5626.749    -509.919\n",
       "1                     6471.2189   1368.752      4.728      0.000    3785.714    9156.724\n",
       "2                     1.018e+04   2697.370      3.772      0.000    4882.806    1.55e+04\n",
       "3                     6411.1209   1298.870      4.936      0.000    3862.726    8959.515\n",
       "4                     2723.3438   1172.148      2.323      0.020     423.579    5023.109\n",
       "5                      122.5311   1003.433      0.122      0.903   -1846.213    2091.275\n",
       "6                     -642.1129   1065.634     -0.603      0.547   -2732.896    1448.670\n",
       "7                     2227.7588   1742.085      1.279      0.201   -1190.229    5645.746\n",
       "8                     8365.7340   2109.479      3.966      0.000    4226.917    1.25e+04\n",
       "9                     1.852e+04   2204.339      8.404      0.000    1.42e+04    2.28e+04\n",
       "10                     628.2691   1183.464      0.531      0.596   -1693.698    2950.236\n",
       "11                    2.163e+04   1670.031     12.954      0.000    1.84e+04    2.49e+04\n",
       "12                    3594.1183   1384.209      2.597      0.010     878.287    6309.949\n",
       "13                    1577.9341    951.448      1.658      0.097    -288.816    3444.684\n",
       "14                    4169.2370   1683.608      2.476      0.013     865.982    7472.492\n",
       "15                    2789.6490   1487.576      1.875      0.061    -128.990    5708.288\n",
       "16                   -6350.4885   1499.880     -4.234      0.000   -9293.268   -3407.709\n",
       "17                   -4775.9052   1639.365     -2.913      0.004   -7992.355   -1559.455\n",
       "18                    5594.2918   2158.087      2.592      0.010    1360.104    9828.479\n",
       "19                   -3.182e+04   9744.257     -3.266      0.001   -5.09e+04   -1.27e+04\n",
       "20                    6663.7217   1604.809      4.152      0.000    3515.072    9812.371\n",
       "21                    1976.9391   1049.921      1.883      0.060     -83.015    4036.894\n",
       "22                     649.3260   1055.532      0.615      0.539   -1421.638    2720.290\n",
       "23                     233.5362   1053.478      0.222      0.825   -1833.397    2300.470\n",
       "24                    1521.3306    910.052      1.672      0.095    -264.200    3306.861\n",
       "25                    3489.1791    945.061      3.692      0.000    1634.960    5343.399\n",
       "26                    -661.5185    924.374     -0.716      0.474   -2475.148    1152.111\n",
       "27                    -673.5111    918.422     -0.733      0.464   -2475.463    1128.441\n",
       "==============================================================================\n",
       "Omnibus:                      366.367   Durbin-Watson:                   1.923\n",
       "Prob(Omnibus):                  0.000   Jarque-Bera (JB):            37222.749\n",
       "Skew:                          -0.054   Prob(JB):                         0.00\n",
       "Kurtosis:                      29.439   Cond. No.                     1.30e+16\n",
       "==============================================================================\n",
       "\n",
       "Warnings:\n",
       "[1] Standard Errors assume that the covariance matrix of the errors is correctly specified.\n",
       "[2] The smallest eigenvalue is 6.38e-29. This might indicate that there are\n",
       "strong multicollinearity problems or that the design matrix is singular.\n",
       "\"\"\""
      ]
     },
     "execution_count": 35,
     "metadata": {},
     "output_type": "execute_result"
    }
   ],
   "source": [
    "model.summary()"
   ]
  },
  {
   "cell_type": "code",
   "execution_count": 36,
   "metadata": {
    "collapsed": true,
    "scrolled": true
   },
   "outputs": [],
   "source": [
    "# Prepare residuals from test set\n",
    "test_new = pd.DataFrame()\n",
    "\n",
    "test_new['y_pred'] = y_pred\n",
    "test_new['y_test'] = y_test\n",
    "test_new['residuals'] = test_new['y_pred'] - test_new[\"y_test\"]"
   ]
  },
  {
   "cell_type": "code",
   "execution_count": 37,
   "metadata": {
    "scrolled": true
   },
   "outputs": [
    {
     "data": {
      "text/plain": [
       "177922.29729833995"
      ]
     },
     "execution_count": 37,
     "metadata": {},
     "output_type": "execute_result"
    }
   ],
   "source": [
    "y_pred.mean()"
   ]
  },
  {
   "cell_type": "code",
   "execution_count": 38,
   "metadata": {
    "scrolled": true
   },
   "outputs": [
    {
     "data": {
      "text/plain": [
       "74831.78037146416"
      ]
     },
     "execution_count": 38,
     "metadata": {},
     "output_type": "execute_result"
    }
   ],
   "source": [
    "y_pred.std()"
   ]
  },
  {
   "cell_type": "code",
   "execution_count": 39,
   "metadata": {},
   "outputs": [
    {
     "name": "stdout",
     "output_type": "stream",
     "text": [
      "('R2: ', 0.97722800253975128)\n"
     ]
    }
   ],
   "source": [
    "print('R2: ', model.rsquared)"
   ]
  },
  {
   "cell_type": "code",
   "execution_count": 40,
   "metadata": {
    "scrolled": false
   },
   "outputs": [
    {
     "data": {
      "text/plain": [
       "<seaborn.axisgrid.FacetGrid at 0x1c1e20cd50>"
      ]
     },
     "execution_count": 40,
     "metadata": {},
     "output_type": "execute_result"
    },
    {
     "data": {
      "image/png": "[encoded data removed]",
      "text/plain": [
       "<matplotlib.figure.Figure at 0x1c1e20cc50>"
      ]
     },
     "metadata": {
      "image/png": {
       "height": 713,
       "width": 712
      }
     },
     "output_type": "display_data"
    }
   ],
   "source": [
    "import seaborn as sns\n",
    "%matplotlib inline\n",
    "\n",
    "sns.lmplot(x='y_pred', y='y_test', data=test_new, size=10)"
   ]
  },
  {
   "cell_type": "code",
   "execution_count": 41,
   "metadata": {
    "scrolled": false
   },
   "outputs": [
    {
     "data": {
      "image/png": "[encoded data removed]",
      "text/plain": [
       "<matplotlib.figure.Figure at 0x1c1e3711d0>"
      ]
     },
     "metadata": {
      "image/png": {
       "height": 588,
       "width": 624
      }
     },
     "output_type": "display_data"
    },
    {
     "name": "stdout",
     "output_type": "stream",
     "text": [
      "MSE: 846495760.4\n"
     ]
    }
   ],
   "source": [
    "from sklearn.metrics import mean_squared_error\n",
    "\n",
    "# Plot the model\n",
    "plt.figure(figsize=(10,10))\n",
    "plt.scatter(y_pred, y_test, s=30, c='r', marker='+', zorder=10)\n",
    "plt.xlabel(\"Predicted Values - $\\hat{y}$\")\n",
    "plt.ylabel(\"Actual Values - $y$\")\n",
    "plt.show()\n",
    "\n",
    "print \"MSE:\", mean_squared_error(y_test, y_pred)"
   ]
  },
  {
   "cell_type": "code",
   "execution_count": 42,
   "metadata": {
    "collapsed": true
   },
   "outputs": [],
   "source": [
    "y_train_pred = model.predict(X_train)"
   ]
  },
  {
   "cell_type": "code",
   "execution_count": 43,
   "metadata": {
    "collapsed": true
   },
   "outputs": [],
   "source": [
    "# Prepare training set residuals\n",
    "train_new = pd.DataFrame()\n",
    "train_new['y_train_pred'] = y_train_pred\n",
    "train_new['y_train'] = y_train\n",
    "train_new['residuals'] =  train_new['y_train_pred'] - train_new['y_train']"
   ]
  },
  {
   "cell_type": "markdown",
   "metadata": {},
   "source": [
    "<img src=\"http://imgur.com/l5NasQj.png\" style=\"float: left; margin: 25px 15px 0px 0px; height: 25px\">\n",
    "\n",
    "## 2. Determine any value of *changeable* property characteristics unexplained by the *fixed* ones.\n",
    "\n",
    "---\n",
    "\n",
    "Now that you have a model that estimates the price of a house based on its static characteristics, we can move forward with part 2 and 3 of the plan: what are the costs/benefits of quality, condition, and renovations?\n",
    "\n",
    "There are two specific requirements for these estimates:\n",
    "1. The estimates of effects must be in terms of dollars added or subtracted from the house value. \n",
    "2. The effects must be on the variance in price remaining from the first model.\n",
    "\n",
    "The residuals from the first model (training and testing) represent the variance in price unexplained by the fixed characteristics. Of that variance in price remaining, how much of it can be explained by the easy-to-change aspects of the property?\n",
    "\n",
    "---\n",
    "\n",
    "**Your goals:**\n",
    "1. Evaluate the effect in dollars of the renovate-able features. \n",
    "- How would your company use this second model and its coefficients to determine whether they should buy a property or not? Explain how the company can use the two models you have built to determine if they can make money. \n",
    "- Investigate how much of the variance in price remaining is explained by these features.\n",
    "- Do you trust your model? Should it be used to evaluate which properties to buy and fix up?"
   ]
  },
  {
   "cell_type": "code",
   "execution_count": 44,
   "metadata": {
    "collapsed": true,
    "scrolled": true
   },
   "outputs": [],
   "source": [
    "reno_df = df2.loc[:, renovate]"
   ]
  },
  {
   "cell_type": "code",
   "execution_count": 45,
   "metadata": {
    "scrolled": true
   },
   "outputs": [
    {
     "data": {
      "text/plain": [
       "{'Alley': 1450,\n",
       " 'Fence': 1450,\n",
       " 'FireplaceQu': 1450,\n",
       " 'MiscFeature': 1450,\n",
       " 'PoolQC': 1450}"
      ]
     },
     "execution_count": 45,
     "metadata": {},
     "output_type": "execute_result"
    }
   ],
   "source": [
    "# Examine null values again \n",
    "null_array = {}\n",
    "\n",
    "for a in reno_df :\n",
    "    if reno_df[a].isnull().sum() != 0:\n",
    "        null_array[a] = reno_df[a].isnull().sum()\n",
    "        \n",
    "null_array"
   ]
  },
  {
   "cell_type": "code",
   "execution_count": 46,
   "metadata": {
    "collapsed": true
   },
   "outputs": [],
   "source": [
    "reno_df.drop([\"Alley\", \"Fence\", \"FireplaceQu\", \"MiscFeature\", \"MiscVal\", \"PoolQC\", \"SaleType\", \"SaleCondition\"], axis=1, inplace=True)\n",
    "\n",
    "# Utilities only has 1 value that differs, so will not affect price\n",
    "reno_df.drop([\"Utilities\"], axis=1, inplace=True)"
   ]
  },
  {
   "cell_type": "code",
   "execution_count": 47,
   "metadata": {
    "collapsed": true,
    "scrolled": true
   },
   "outputs": [],
   "source": [
    "# Add year sold for separation purposes\n",
    "reno_df[\"YrSold\"] = df.YrSold"
   ]
  },
  {
   "cell_type": "code",
   "execution_count": 48,
   "metadata": {},
   "outputs": [
    {
     "data": {
      "text/plain": [
       "MSSubClass        int64\n",
       "RoofMatl         object\n",
       "Fireplaces        int64\n",
       "MasVnrArea      float64\n",
       "Exterior1st      object\n",
       "Exterior2nd      object\n",
       "MasVnrType       object\n",
       "CentralAir       object\n",
       "GarageFinish     object\n",
       "PavedDrive       object\n",
       "GarageCars        int64\n",
       "Electrical       object\n",
       "Heating          object\n",
       "OverallQual       int64\n",
       "OverallCond       int64\n",
       "ExterQual        object\n",
       "ExterCond        object\n",
       "BsmtQual         object\n",
       "BsmtCond         object\n",
       "BsmtFinType1     object\n",
       "BsmtFinType2     object\n",
       "HeatingQC        object\n",
       "KitchenQual      object\n",
       "GarageQual       object\n",
       "GarageCond       object\n",
       "YrSold          float64\n",
       "dtype: object"
      ]
     },
     "execution_count": 48,
     "metadata": {},
     "output_type": "execute_result"
    }
   ],
   "source": [
    "reno_df.dtypes"
   ]
  },
  {
   "cell_type": "code",
   "execution_count": 49,
   "metadata": {
    "collapsed": true
   },
   "outputs": [],
   "source": [
    "# Get dummies for MSSubClass, RoofMatl, Exterior1st, Exterior2nd, MasVnrType, GarageFinish, PavedDrive\n",
    "# Electrical, Heating \n",
    "dummy_list = [\"MSSubClass\", \"RoofMatl\", \"Exterior1st\", \"MasVnrType\", \"Exterior2nd\", \"GarageFinish\", \n",
    "              \"PavedDrive\", \"Electrical\", \"Heating\", \"CentralAir\", \"BsmtFinType1\", \"BsmtFinType2\"]\n",
    "df2_to_dummy = reno_df.loc[:, dummy_list]\n",
    "df2_to_dummy[\"MSSubClass\"] = df2_to_dummy[\"MSSubClass\"].apply(str)\n",
    "\n",
    "# Get dummies for categorical variables\n",
    "df2_dummy = pd.get_dummies(df2_to_dummy, drop_first=True)"
   ]
  },
  {
   "cell_type": "code",
   "execution_count": 50,
   "metadata": {
    "collapsed": true
   },
   "outputs": [],
   "source": [
    "# Fireplaces, GarageCars, OverallQual, OverallCond, ExterQual, ExterCond, \n",
    "# BsmtQual, BsmtCond, BsmtFinType1, BsmtFinType2, HeatingQC, KitchenQual, GarageQual, GarageCond, MasVnrArea to scale\n",
    "scale_list = [\"Fireplaces\", \"GarageCars\", \"OverallQual\", \"OverallCond\", \"ExterQual\", \"ExterCond\", \n",
    "              \"BsmtQual\", \"BsmtCond\", \"HeatingQC\", \"KitchenQual\", \"GarageQual\", \"GarageCond\", \"MasVnrArea\"]\n",
    "df2_to_scale = reno_df.loc[:, scale_list]"
   ]
  },
  {
   "cell_type": "code",
   "execution_count": 51,
   "metadata": {
    "collapsed": true
   },
   "outputs": [],
   "source": [
    "# Probably could have found a better way to do this, but was under a time crunch\n",
    "df2_to_scale.ExterQual.replace(\"Ex\", 5, inplace=True)\n",
    "df2_to_scale.ExterQual.replace(\"Gd\", 4, inplace=True)\n",
    "df2_to_scale.ExterQual.replace(\"TA\", 3, inplace=True)\n",
    "df2_to_scale.ExterQual.replace(\"Fa\", 2, inplace=True)\n",
    "df2_to_scale.ExterQual.replace(\"Po\", 1, inplace=True)\n",
    "\n",
    "df2_to_scale.ExterCond.replace(\"Ex\", 5, inplace=True)\n",
    "df2_to_scale.ExterCond.replace(\"Gd\", 4, inplace=True)\n",
    "df2_to_scale.ExterCond.replace(\"TA\", 3, inplace=True)\n",
    "df2_to_scale.ExterCond.replace(\"Fa\", 2, inplace=True)\n",
    "df2_to_scale.ExterCond.replace(\"Po\", 1, inplace=True)\n",
    "\n",
    "df2_to_scale.BsmtQual.replace(\"Ex\", 5, inplace=True)\n",
    "df2_to_scale.BsmtQual.replace(\"Gd\", 4, inplace=True)\n",
    "df2_to_scale.BsmtQual.replace(\"TA\", 3, inplace=True)\n",
    "df2_to_scale.BsmtQual.replace(\"Fa\", 2, inplace=True)\n",
    "df2_to_scale.BsmtQual.replace(\"Po\", 1, inplace=True)\n",
    "df2_to_scale.BsmtQual.replace(\"NA\", 0, inplace=True)\n",
    "\n",
    "df2_to_scale.BsmtCond.replace(\"Ex\", 5, inplace=True)\n",
    "df2_to_scale.BsmtCond.replace(\"Gd\", 4, inplace=True)\n",
    "df2_to_scale.BsmtCond.replace(\"TA\", 3, inplace=True)\n",
    "df2_to_scale.BsmtCond.replace(\"Fa\", 2, inplace=True)\n",
    "df2_to_scale.BsmtCond.replace(\"Po\", 1, inplace=True)\n",
    "df2_to_scale.BsmtCond.replace(\"NA\", 0, inplace=True)\n",
    "\n",
    "df2_to_scale.HeatingQC.replace(\"Ex\", 5, inplace=True)\n",
    "df2_to_scale.HeatingQC.replace(\"Gd\", 4, inplace=True)\n",
    "df2_to_scale.HeatingQC.replace(\"TA\", 3, inplace=True)\n",
    "df2_to_scale.HeatingQC.replace(\"Fa\", 2, inplace=True)\n",
    "df2_to_scale.HeatingQC.replace(\"Po\", 1, inplace=True)\n",
    "\n",
    "df2_to_scale.KitchenQual.replace(\"Ex\", 5, inplace=True)\n",
    "df2_to_scale.KitchenQual.replace(\"Gd\", 4, inplace=True)\n",
    "df2_to_scale.KitchenQual.replace(\"TA\", 3, inplace=True)\n",
    "df2_to_scale.KitchenQual.replace(\"Fa\", 2, inplace=True)\n",
    "df2_to_scale.KitchenQual.replace(\"Po\", 1, inplace=True)\n",
    "\n",
    "df2_to_scale.GarageQual.replace(\"Ex\", 5, inplace=True)\n",
    "df2_to_scale.GarageQual.replace(\"Gd\", 4, inplace=True)\n",
    "df2_to_scale.GarageQual.replace(\"TA\", 3, inplace=True)\n",
    "df2_to_scale.GarageQual.replace(\"Fa\", 2, inplace=True)\n",
    "df2_to_scale.GarageQual.replace(\"Po\", 1, inplace=True)\n",
    "df2_to_scale.GarageQual.replace(\"NA\", 0, inplace=True)\n",
    "\n",
    "df2_to_scale.GarageCond.replace(\"Ex\", 5, inplace=True)\n",
    "df2_to_scale.GarageCond.replace(\"Gd\", 4, inplace=True)\n",
    "df2_to_scale.GarageCond.replace(\"TA\", 3, inplace=True)\n",
    "df2_to_scale.GarageCond.replace(\"Fa\", 2, inplace=True)\n",
    "df2_to_scale.GarageCond.replace(\"Po\", 1, inplace=True)\n",
    "df2_to_scale.GarageCond.replace(\"NA\", 0, inplace=True)"
   ]
  },
  {
   "cell_type": "code",
   "execution_count": 52,
   "metadata": {
    "collapsed": true,
    "scrolled": true
   },
   "outputs": [],
   "source": [
    "# Scale continuous data with StandardScaler\n",
    "df2_scaled = pd.DataFrame(ss.fit_transform(df2_to_scale))"
   ]
  },
  {
   "cell_type": "code",
   "execution_count": 53,
   "metadata": {
    "collapsed": true,
    "scrolled": true
   },
   "outputs": [],
   "source": [
    "df2_scaled.reset_index(drop=True, inplace=True)\n",
    "df2_dummy.reset_index(drop=True, inplace=True)\n",
    "df.reset_index(drop=True, inplace=True)"
   ]
  },
  {
   "cell_type": "code",
   "execution_count": 54,
   "metadata": {
    "collapsed": true
   },
   "outputs": [],
   "source": [
    "re_df_clean = pd.concat([df2_scaled, df2_dummy, df.YrSold], axis=1)"
   ]
  },
  {
   "cell_type": "code",
   "execution_count": 55,
   "metadata": {},
   "outputs": [
    {
     "data": {
      "text/plain": [
       "(1450, 96)"
      ]
     },
     "execution_count": 55,
     "metadata": {},
     "output_type": "execute_result"
    }
   ],
   "source": [
    "re_df_clean.shape"
   ]
  },
  {
   "cell_type": "code",
   "execution_count": 56,
   "metadata": {},
   "outputs": [
    {
     "name": "stderr",
     "output_type": "stream",
     "text": [
      "/Users/GuangYi/anaconda/lib/python2.7/site-packages/ipykernel_launcher.py:4: SettingWithCopyWarning: \n",
      "A value is trying to be set on a copy of a slice from a DataFrame\n",
      "\n",
      "See the caveats in the documentation: http://pandas.pydata.org/pandas-docs/stable/indexing.html#indexing-view-versus-copy\n",
      "  after removing the cwd from sys.path.\n",
      "/Users/GuangYi/anaconda/lib/python2.7/site-packages/ipykernel_launcher.py:5: SettingWithCopyWarning: \n",
      "A value is trying to be set on a copy of a slice from a DataFrame\n",
      "\n",
      "See the caveats in the documentation: http://pandas.pydata.org/pandas-docs/stable/indexing.html#indexing-view-versus-copy\n",
      "  \"\"\"\n"
     ]
    }
   ],
   "source": [
    "# Separate training and test sets\n",
    "re_df_clean_train = re_df_clean[re_df_clean[\"YrSold\"] != 2010]\n",
    "re_df_clean_test = re_df_clean[re_df_clean[\"YrSold\"] == 2010]\n",
    "\n",
    "re_df_clean_train.drop([\"YrSold\"], axis=1, inplace=True)\n",
    "re_df_clean_test.drop([\"YrSold\"], axis=1, inplace=True)"
   ]
  },
  {
   "cell_type": "code",
   "execution_count": 57,
   "metadata": {
    "collapsed": true,
    "scrolled": true
   },
   "outputs": [],
   "source": [
    "y_train_2 = train_new['residuals']\n",
    "y_test_2 = test_new['residuals']\n",
    "X_train_2 = re_df_clean_train\n",
    "X_test_2 = re_df_clean_test"
   ]
  },
  {
   "cell_type": "code",
   "execution_count": 58,
   "metadata": {},
   "outputs": [
    {
     "name": "stdout",
     "output_type": "stream",
     "text": [
      "Best score: 0.0656876232076\n"
     ]
    }
   ],
   "source": [
    "from sklearn.linear_model import RidgeCV\n",
    "\n",
    "ridge = RidgeCV(alphas= np.logspace(-10, 10, 101))\n",
    "\n",
    "results = ridge.fit(X_train_2, y_train_2)\n",
    "\n",
    "print \"Best score:\", results.score(X_test_2, y_test_2)\n",
    "\n",
    "#print \"Best params:\", results.best_params_"
   ]
  },
  {
   "cell_type": "markdown",
   "metadata": {},
   "source": [
    "6.5% accuracy? Stick to the non-renovable stuff to determine your price! It's already super accurate!"
   ]
  },
  {
   "cell_type": "markdown",
   "metadata": {},
   "source": [
    "<img src=\"http://imgur.com/GCAf1UX.png\" style=\"float: left; margin: 25px 15px 0px 0px; height: 25px\">\n",
    "\n",
    "## 3. What property characteristics predict an \"abnormal\" sale?\n",
    "\n",
    "---\n",
    "\n",
    "The `SaleCondition` feature indicates the circumstances of the house sale. From the data file, we can see that the possibilities are:\n",
    "\n",
    "       Normal\tNormal Sale\n",
    "       Abnorml\tAbnormal Sale -  trade, foreclosure, short sale\n",
    "       AdjLand\tAdjoining Land Purchase\n",
    "       Alloca\tAllocation - two linked properties with separate deeds, typically condo with a garage unit\t\n",
    "       Family\tSale between family members\n",
    "       Partial\tHome was not completed when last assessed (associated with New Homes)\n",
    "       \n",
    "One of the executives at your company has an \"in\" with higher-ups at the major regional bank. His friends at the bank have made him a proposal: if he can reliably indicate what features, if any, predict \"abnormal\" sales (foreclosures, short sales, etc.), then in return the bank will give him first dibs on the pre-auction purchase of those properties (at a dirt-cheap price).\n",
    "\n",
    "He has tasked you with determining (and adequately validating) which features of a property predict this type of sale. \n",
    "\n",
    "---\n",
    "\n",
    "**Your task:**\n",
    "1. Determine which features predict the `Abnorml` category in the `SaleCondition` feature.\n",
    "- Justify your results.\n",
    "\n",
    "This is a challenging task that tests your ability to perform classification analysis in the face of severe class imbalance. You may find that simply running a classifier on the full dataset to predict the category ends up useless: when there is bad class imbalance classifiers often tend to simply guess the majority class.\n",
    "\n",
    "It is up to you to determine how you will tackle this problem. I recommend doing some research to find out how others have dealt with the problem in the past. Make sure to justify your solution. Don't worry about it being \"the best\" solution, but be rigorous.\n",
    "\n",
    "Be sure to indicate which features are predictive (if any) and whether they are positive or negative predictors of abnormal sales."
   ]
  },
  {
   "cell_type": "code",
   "execution_count": 59,
   "metadata": {},
   "outputs": [
    {
     "name": "stderr",
     "output_type": "stream",
     "text": [
      "/Users/GuangYi/anaconda/lib/python2.7/site-packages/sklearn/cross_validation.py:41: DeprecationWarning: This module was deprecated in version 0.18 in favor of the model_selection module into which all the refactored classes and functions are moved. Also note that the interface of the new CV iterators are different from that of this module. This module will be removed in 0.20.\n",
      "  \"This module will be removed in 0.20.\", DeprecationWarning)\n"
     ]
    }
   ],
   "source": [
    "# Utilize costcla here\n",
    "from costcla.models import CostSensitiveLogisticRegression, CostSensitiveDecisionTreeClassifier\n",
    "from costcla.sampling import cost_sampling, undersampling, smote"
   ]
  },
  {
   "cell_type": "code",
   "execution_count": 60,
   "metadata": {
    "collapsed": true
   },
   "outputs": [],
   "source": [
    "# Use the above to determine the best variables that will affect overall price\n",
    "# Use suggested methods of oversampling the underrepresented, undersampling the overrepresented, or \n",
    "# cost proportionate sampling"
   ]
  }
 ],
 "metadata": {
  "kernelspec": {
   "display_name": "Python 2",
   "language": "python",
   "name": "python2"
  },
  "language_info": {
   "codemirror_mode": {
    "name": "ipython",
    "version": 2
   },
   "file_extension": ".py",
   "mimetype": "text/x-python",
   "name": "python",
   "nbconvert_exporter": "python",
   "pygments_lexer": "ipython2",
   "version": "2.7.14"
  }
 },
 "nbformat": 4,
 "nbformat_minor": 2
}
