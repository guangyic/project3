{
 "cells": [
  {
   "cell_type": "markdown",
   "metadata": {},
   "source": [
    "<img src=\"http://imgur.com/1ZcRyrc.png\" style=\"float: left; margin: 15px; height: 80px\">\n",
    "\n",
    "# Project 3\n",
    "\n",
    "### Regression and Classification with the Ames Housing Data\n",
    "\n",
    "---\n",
    "\n",
    "You have just joined a new \"full stack\" real estate company in Ames, Iowa. The strategy of the firm is two-fold:\n",
    "- Own the entire process from the purchase of the land all the way to sale of the house, and anything in between.\n",
    "- Use statistical analysis to optimize investment and maximize return.\n",
    "\n",
    "The company is still small, and though investment is substantial the short-term goals of the company are more oriented towards purchasing existing houses and flipping them as opposed to constructing entirely new houses. That being said, the company has access to a large construction workforce operating at rock-bottom prices.\n",
    "\n",
    "This project uses the [Ames housing data recently made available on kaggle](https://www.kaggle.com/c/house-prices-advanced-regression-techniques)."
   ]
  },
  {
   "cell_type": "code",
   "execution_count": 1,
   "metadata": {
    "collapsed": true
   },
   "outputs": [],
   "source": [
    "import numpy as np\n",
    "import scipy.stats as stats\n",
    "import seaborn as sns\n",
    "import matplotlib.pyplot as plt\n",
    "import pandas as pd\n",
    "\n",
    "sns.set_style('whitegrid')\n",
    "\n",
    "%config InlineBackend.figure_format = 'retina'\n",
    "%matplotlib inline"
   ]
  },
  {
   "cell_type": "markdown",
   "metadata": {},
   "source": [
    "<img src=\"http://imgur.com/l5NasQj.png\" style=\"float: left; margin: 25px 15px 0px 0px; height: 25px\">\n",
    "\n",
    "## 1. Estimating the value of homes from fixed characteristics.\n",
    "\n",
    "---\n",
    "\n",
    "Your superiors have outlined this year's strategy for the company:\n",
    "1. Develop an algorithm to reliably estimate the value of residential houses based on *fixed* characteristics.\n",
    "2. Identify characteristics of houses that the company can cost-effectively change/renovate with their construction team.\n",
    "3. Evaluate the mean dollar value of different renovations.\n",
    "\n",
    "Then we can use that to buy houses that are likely to sell for more than the cost of the purchase plus renovations.\n",
    "\n",
    "Your first job is to tackle #1. You have a dataset of housing sale data with a huge amount of features identifying different aspects of the house. The full description of the data features can be found in a separate file:\n",
    "\n",
    "    housing.csv\n",
    "    data_description.txt\n",
    "    \n",
    "You need to build a reliable estimator for the price of the house given characteristics of the house that cannot be renovated. Some examples include:\n",
    "- The neighborhood\n",
    "- Square feet\n",
    "- Bedrooms, bathrooms\n",
    "- Basement and garage space\n",
    "\n",
    "and many more. \n",
    "\n",
    "Some examples of things that **ARE renovate-able:**\n",
    "- Roof and exterior features\n",
    "- \"Quality\" metrics, such as kitchen quality\n",
    "- \"Condition\" metrics, such as condition of garage\n",
    "- Heating and electrical components\n",
    "\n",
    "and generally anything you deem can be modified without having to undergo major construction on the house.\n",
    "\n",
    "---\n",
    "\n",
    "**Your goals:**\n",
    "1. Perform any cleaning, feature engineering, and EDA you deem necessary.\n",
    "- Be sure to remove any houses that are not residential from the dataset.\n",
    "- Identify **fixed** features that can predict price.\n",
    "- Train a model on pre-2010 data and evaluate its performance on the 2010 houses.\n",
    "- Characterize your model. How well does it perform? What are the best estimates of price?\n",
    "\n",
    "> **Note:** The EDA and feature engineering component to this project is not trivial! Be sure to always think critically and creatively. Justify your actions! Use the data description file!"
   ]
  },
  {
   "cell_type": "code",
   "execution_count": 2,
   "metadata": {
    "collapsed": true
   },
   "outputs": [],
   "source": [
    "# Load the data\n",
    "house = pd.read_csv('./housing.csv')"
   ]
  },
  {
   "cell_type": "code",
   "execution_count": 3,
   "metadata": {},
   "outputs": [
    {
     "data": {
      "text/plain": [
       "(1460, 81)"
      ]
     },
     "execution_count": 3,
     "metadata": {},
     "output_type": "execute_result"
    }
   ],
   "source": [
    "house.shape"
   ]
  },
  {
   "cell_type": "code",
   "execution_count": 4,
   "metadata": {},
   "outputs": [
    {
     "data": {
      "text/html": [
       "<div>\n",
       "<style>\n",
       "    .dataframe thead tr:only-child th {\n",
       "        text-align: right;\n",
       "    }\n",
       "\n",
       "    .dataframe thead th {\n",
       "        text-align: left;\n",
       "    }\n",
       "\n",
       "    .dataframe tbody tr th {\n",
       "        vertical-align: top;\n",
       "    }\n",
       "</style>\n",
       "<table border=\"1\" class=\"dataframe\">\n",
       "  <thead>\n",
       "    <tr style=\"text-align: right;\">\n",
       "      <th></th>\n",
       "      <th>Id</th>\n",
       "      <th>MSSubClass</th>\n",
       "      <th>MSZoning</th>\n",
       "      <th>LotFrontage</th>\n",
       "      <th>LotArea</th>\n",
       "      <th>Street</th>\n",
       "      <th>Alley</th>\n",
       "      <th>LotShape</th>\n",
       "      <th>LandContour</th>\n",
       "      <th>Utilities</th>\n",
       "      <th>...</th>\n",
       "      <th>PoolArea</th>\n",
       "      <th>PoolQC</th>\n",
       "      <th>Fence</th>\n",
       "      <th>MiscFeature</th>\n",
       "      <th>MiscVal</th>\n",
       "      <th>MoSold</th>\n",
       "      <th>YrSold</th>\n",
       "      <th>SaleType</th>\n",
       "      <th>SaleCondition</th>\n",
       "      <th>SalePrice</th>\n",
       "    </tr>\n",
       "  </thead>\n",
       "  <tbody>\n",
       "    <tr>\n",
       "      <th>0</th>\n",
       "      <td>1</td>\n",
       "      <td>60</td>\n",
       "      <td>RL</td>\n",
       "      <td>65.0</td>\n",
       "      <td>8450</td>\n",
       "      <td>Pave</td>\n",
       "      <td>NaN</td>\n",
       "      <td>Reg</td>\n",
       "      <td>Lvl</td>\n",
       "      <td>AllPub</td>\n",
       "      <td>...</td>\n",
       "      <td>0</td>\n",
       "      <td>NaN</td>\n",
       "      <td>NaN</td>\n",
       "      <td>NaN</td>\n",
       "      <td>0</td>\n",
       "      <td>2</td>\n",
       "      <td>2008</td>\n",
       "      <td>WD</td>\n",
       "      <td>Normal</td>\n",
       "      <td>208500</td>\n",
       "    </tr>\n",
       "    <tr>\n",
       "      <th>1</th>\n",
       "      <td>2</td>\n",
       "      <td>20</td>\n",
       "      <td>RL</td>\n",
       "      <td>80.0</td>\n",
       "      <td>9600</td>\n",
       "      <td>Pave</td>\n",
       "      <td>NaN</td>\n",
       "      <td>Reg</td>\n",
       "      <td>Lvl</td>\n",
       "      <td>AllPub</td>\n",
       "      <td>...</td>\n",
       "      <td>0</td>\n",
       "      <td>NaN</td>\n",
       "      <td>NaN</td>\n",
       "      <td>NaN</td>\n",
       "      <td>0</td>\n",
       "      <td>5</td>\n",
       "      <td>2007</td>\n",
       "      <td>WD</td>\n",
       "      <td>Normal</td>\n",
       "      <td>181500</td>\n",
       "    </tr>\n",
       "    <tr>\n",
       "      <th>2</th>\n",
       "      <td>3</td>\n",
       "      <td>60</td>\n",
       "      <td>RL</td>\n",
       "      <td>68.0</td>\n",
       "      <td>11250</td>\n",
       "      <td>Pave</td>\n",
       "      <td>NaN</td>\n",
       "      <td>IR1</td>\n",
       "      <td>Lvl</td>\n",
       "      <td>AllPub</td>\n",
       "      <td>...</td>\n",
       "      <td>0</td>\n",
       "      <td>NaN</td>\n",
       "      <td>NaN</td>\n",
       "      <td>NaN</td>\n",
       "      <td>0</td>\n",
       "      <td>9</td>\n",
       "      <td>2008</td>\n",
       "      <td>WD</td>\n",
       "      <td>Normal</td>\n",
       "      <td>223500</td>\n",
       "    </tr>\n",
       "    <tr>\n",
       "      <th>3</th>\n",
       "      <td>4</td>\n",
       "      <td>70</td>\n",
       "      <td>RL</td>\n",
       "      <td>60.0</td>\n",
       "      <td>9550</td>\n",
       "      <td>Pave</td>\n",
       "      <td>NaN</td>\n",
       "      <td>IR1</td>\n",
       "      <td>Lvl</td>\n",
       "      <td>AllPub</td>\n",
       "      <td>...</td>\n",
       "      <td>0</td>\n",
       "      <td>NaN</td>\n",
       "      <td>NaN</td>\n",
       "      <td>NaN</td>\n",
       "      <td>0</td>\n",
       "      <td>2</td>\n",
       "      <td>2006</td>\n",
       "      <td>WD</td>\n",
       "      <td>Abnorml</td>\n",
       "      <td>140000</td>\n",
       "    </tr>\n",
       "    <tr>\n",
       "      <th>4</th>\n",
       "      <td>5</td>\n",
       "      <td>60</td>\n",
       "      <td>RL</td>\n",
       "      <td>84.0</td>\n",
       "      <td>14260</td>\n",
       "      <td>Pave</td>\n",
       "      <td>NaN</td>\n",
       "      <td>IR1</td>\n",
       "      <td>Lvl</td>\n",
       "      <td>AllPub</td>\n",
       "      <td>...</td>\n",
       "      <td>0</td>\n",
       "      <td>NaN</td>\n",
       "      <td>NaN</td>\n",
       "      <td>NaN</td>\n",
       "      <td>0</td>\n",
       "      <td>12</td>\n",
       "      <td>2008</td>\n",
       "      <td>WD</td>\n",
       "      <td>Normal</td>\n",
       "      <td>250000</td>\n",
       "    </tr>\n",
       "  </tbody>\n",
       "</table>\n",
       "<p>5 rows × 81 columns</p>\n",
       "</div>"
      ],
      "text/plain": [
       "   Id  MSSubClass MSZoning  LotFrontage  LotArea Street Alley LotShape  \\\n",
       "0   1          60       RL         65.0     8450   Pave   NaN      Reg   \n",
       "1   2          20       RL         80.0     9600   Pave   NaN      Reg   \n",
       "2   3          60       RL         68.0    11250   Pave   NaN      IR1   \n",
       "3   4          70       RL         60.0     9550   Pave   NaN      IR1   \n",
       "4   5          60       RL         84.0    14260   Pave   NaN      IR1   \n",
       "\n",
       "  LandContour Utilities    ...     PoolArea PoolQC Fence MiscFeature MiscVal  \\\n",
       "0         Lvl    AllPub    ...            0    NaN   NaN         NaN       0   \n",
       "1         Lvl    AllPub    ...            0    NaN   NaN         NaN       0   \n",
       "2         Lvl    AllPub    ...            0    NaN   NaN         NaN       0   \n",
       "3         Lvl    AllPub    ...            0    NaN   NaN         NaN       0   \n",
       "4         Lvl    AllPub    ...            0    NaN   NaN         NaN       0   \n",
       "\n",
       "  MoSold YrSold  SaleType  SaleCondition  SalePrice  \n",
       "0      2   2008        WD         Normal     208500  \n",
       "1      5   2007        WD         Normal     181500  \n",
       "2      9   2008        WD         Normal     223500  \n",
       "3      2   2006        WD        Abnorml     140000  \n",
       "4     12   2008        WD         Normal     250000  \n",
       "\n",
       "[5 rows x 81 columns]"
      ]
     },
     "execution_count": 4,
     "metadata": {},
     "output_type": "execute_result"
    }
   ],
   "source": [
    "house.head()"
   ]
  },
  {
   "cell_type": "code",
   "execution_count": 5,
   "metadata": {},
   "outputs": [
    {
     "data": {
      "text/plain": [
       "Index([u'Id', u'MSSubClass', u'MSZoning', u'LotFrontage', u'LotArea',\n",
       "       u'Street', u'Alley', u'LotShape', u'LandContour', u'Utilities',\n",
       "       u'LotConfig', u'LandSlope', u'Neighborhood', u'Condition1',\n",
       "       u'Condition2', u'BldgType', u'HouseStyle', u'OverallQual',\n",
       "       u'OverallCond', u'YearBuilt', u'YearRemodAdd', u'RoofStyle',\n",
       "       u'RoofMatl', u'Exterior1st', u'Exterior2nd', u'MasVnrType',\n",
       "       u'MasVnrArea', u'ExterQual', u'ExterCond', u'Foundation', u'BsmtQual',\n",
       "       u'BsmtCond', u'BsmtExposure', u'BsmtFinType1', u'BsmtFinSF1',\n",
       "       u'BsmtFinType2', u'BsmtFinSF2', u'BsmtUnfSF', u'TotalBsmtSF',\n",
       "       u'Heating', u'HeatingQC', u'CentralAir', u'Electrical', u'1stFlrSF',\n",
       "       u'2ndFlrSF', u'LowQualFinSF', u'GrLivArea', u'BsmtFullBath',\n",
       "       u'BsmtHalfBath', u'FullBath', u'HalfBath', u'BedroomAbvGr',\n",
       "       u'KitchenAbvGr', u'KitchenQual', u'TotRmsAbvGrd', u'Functional',\n",
       "       u'Fireplaces', u'FireplaceQu', u'GarageType', u'GarageYrBlt',\n",
       "       u'GarageFinish', u'GarageCars', u'GarageArea', u'GarageQual',\n",
       "       u'GarageCond', u'PavedDrive', u'WoodDeckSF', u'OpenPorchSF',\n",
       "       u'EnclosedPorch', u'3SsnPorch', u'ScreenPorch', u'PoolArea', u'PoolQC',\n",
       "       u'Fence', u'MiscFeature', u'MiscVal', u'MoSold', u'YrSold', u'SaleType',\n",
       "       u'SaleCondition', u'SalePrice'],\n",
       "      dtype='object')"
      ]
     },
     "execution_count": 5,
     "metadata": {},
     "output_type": "execute_result"
    }
   ],
   "source": [
    "house.columns"
   ]
  },
  {
   "cell_type": "code",
   "execution_count": 6,
   "metadata": {
    "scrolled": true
   },
   "outputs": [
    {
     "data": {
      "text/plain": [
       "Id                 int64\n",
       "MSSubClass         int64\n",
       "MSZoning          object\n",
       "LotFrontage      float64\n",
       "LotArea            int64\n",
       "Street            object\n",
       "Alley             object\n",
       "LotShape          object\n",
       "LandContour       object\n",
       "Utilities         object\n",
       "LotConfig         object\n",
       "LandSlope         object\n",
       "Neighborhood      object\n",
       "Condition1        object\n",
       "Condition2        object\n",
       "BldgType          object\n",
       "HouseStyle        object\n",
       "OverallQual        int64\n",
       "OverallCond        int64\n",
       "YearBuilt          int64\n",
       "YearRemodAdd       int64\n",
       "RoofStyle         object\n",
       "RoofMatl          object\n",
       "Exterior1st       object\n",
       "Exterior2nd       object\n",
       "MasVnrType        object\n",
       "MasVnrArea       float64\n",
       "ExterQual         object\n",
       "ExterCond         object\n",
       "Foundation        object\n",
       "                  ...   \n",
       "BedroomAbvGr       int64\n",
       "KitchenAbvGr       int64\n",
       "KitchenQual       object\n",
       "TotRmsAbvGrd       int64\n",
       "Functional        object\n",
       "Fireplaces         int64\n",
       "FireplaceQu       object\n",
       "GarageType        object\n",
       "GarageYrBlt      float64\n",
       "GarageFinish      object\n",
       "GarageCars         int64\n",
       "GarageArea         int64\n",
       "GarageQual        object\n",
       "GarageCond        object\n",
       "PavedDrive        object\n",
       "WoodDeckSF         int64\n",
       "OpenPorchSF        int64\n",
       "EnclosedPorch      int64\n",
       "3SsnPorch          int64\n",
       "ScreenPorch        int64\n",
       "PoolArea           int64\n",
       "PoolQC            object\n",
       "Fence             object\n",
       "MiscFeature       object\n",
       "MiscVal            int64\n",
       "MoSold             int64\n",
       "YrSold             int64\n",
       "SaleType          object\n",
       "SaleCondition     object\n",
       "SalePrice          int64\n",
       "Length: 81, dtype: object"
      ]
     },
     "execution_count": 6,
     "metadata": {},
     "output_type": "execute_result"
    }
   ],
   "source": [
    "house.dtypes"
   ]
  },
  {
   "cell_type": "code",
   "execution_count": 7,
   "metadata": {
    "scrolled": true
   },
   "outputs": [
    {
     "data": {
      "text/plain": [
       "Id                  0\n",
       "MSSubClass          0\n",
       "MSZoning            0\n",
       "LotFrontage       259\n",
       "LotArea             0\n",
       "Street              0\n",
       "Alley            1369\n",
       "LotShape            0\n",
       "LandContour         0\n",
       "Utilities           0\n",
       "LotConfig           0\n",
       "LandSlope           0\n",
       "Neighborhood        0\n",
       "Condition1          0\n",
       "Condition2          0\n",
       "BldgType            0\n",
       "HouseStyle          0\n",
       "OverallQual         0\n",
       "OverallCond         0\n",
       "YearBuilt           0\n",
       "YearRemodAdd        0\n",
       "RoofStyle           0\n",
       "RoofMatl            0\n",
       "Exterior1st         0\n",
       "Exterior2nd         0\n",
       "MasVnrType          8\n",
       "MasVnrArea          8\n",
       "ExterQual           0\n",
       "ExterCond           0\n",
       "Foundation          0\n",
       "                 ... \n",
       "BedroomAbvGr        0\n",
       "KitchenAbvGr        0\n",
       "KitchenQual         0\n",
       "TotRmsAbvGrd        0\n",
       "Functional          0\n",
       "Fireplaces          0\n",
       "FireplaceQu       690\n",
       "GarageType         81\n",
       "GarageYrBlt        81\n",
       "GarageFinish       81\n",
       "GarageCars          0\n",
       "GarageArea          0\n",
       "GarageQual         81\n",
       "GarageCond         81\n",
       "PavedDrive          0\n",
       "WoodDeckSF          0\n",
       "OpenPorchSF         0\n",
       "EnclosedPorch       0\n",
       "3SsnPorch           0\n",
       "ScreenPorch         0\n",
       "PoolArea            0\n",
       "PoolQC           1453\n",
       "Fence            1179\n",
       "MiscFeature      1406\n",
       "MiscVal             0\n",
       "MoSold              0\n",
       "YrSold              0\n",
       "SaleType            0\n",
       "SaleCondition       0\n",
       "SalePrice           0\n",
       "Length: 81, dtype: int64"
      ]
     },
     "execution_count": 7,
     "metadata": {},
     "output_type": "execute_result"
    }
   ],
   "source": [
    "house.isnull().sum()"
   ]
  },
  {
   "cell_type": "code",
   "execution_count": 8,
   "metadata": {},
   "outputs": [
    {
     "data": {
      "text/plain": [
       "array(['RL', 'RM', 'C (all)', 'FV', 'RH'], dtype=object)"
      ]
     },
     "execution_count": 8,
     "metadata": {},
     "output_type": "execute_result"
    }
   ],
   "source": [
    "# Determine which zoning types are non-residential. Only C needs to be removed (commerical)\n",
    "house.MSZoning.unique()"
   ]
  },
  {
   "cell_type": "code",
   "execution_count": 9,
   "metadata": {
    "scrolled": false
   },
   "outputs": [
    {
     "name": "stderr",
     "output_type": "stream",
     "text": [
      "/Users/GuangYi/anaconda/lib/python2.7/site-packages/ipykernel_launcher.py:3: SettingWithCopyWarning: \n",
      "A value is trying to be set on a copy of a slice from a DataFrame\n",
      "\n",
      "See the caveats in the documentation: http://pandas.pydata.org/pandas-docs/stable/indexing.html#indexing-view-versus-copy\n",
      "  This is separate from the ipykernel package so we can avoid doing imports until\n"
     ]
    }
   ],
   "source": [
    "# Remove non-residential housing, drop ID column\n",
    "df = house[house.MSZoning != 'C (all)']\n",
    "df.drop('Id', axis=1, inplace=True)"
   ]
  },
  {
   "cell_type": "code",
   "execution_count": 10,
   "metadata": {},
   "outputs": [
    {
     "data": {
      "text/plain": [
       "(1450, 80)"
      ]
     },
     "execution_count": 10,
     "metadata": {},
     "output_type": "execute_result"
    }
   ],
   "source": [
    "df.shape"
   ]
  },
  {
   "cell_type": "code",
   "execution_count": 11,
   "metadata": {
    "collapsed": true
   },
   "outputs": [],
   "source": [
    "null_array = {}\n",
    "\n",
    "for a in df :\n",
    "    if df[a].isnull().sum() != 0:\n",
    "        null_array[a] = df[a].isnull().sum()"
   ]
  },
  {
   "cell_type": "code",
   "execution_count": 12,
   "metadata": {},
   "outputs": [
    {
     "data": {
      "text/plain": [
       "{'Alley': 1361,\n",
       " 'BsmtCond': 37,\n",
       " 'BsmtExposure': 38,\n",
       " 'BsmtFinType1': 37,\n",
       " 'BsmtFinType2': 38,\n",
       " 'BsmtQual': 37,\n",
       " 'Electrical': 1,\n",
       " 'Fence': 1172,\n",
       " 'FireplaceQu': 681,\n",
       " 'GarageCond': 79,\n",
       " 'GarageFinish': 79,\n",
       " 'GarageQual': 79,\n",
       " 'GarageType': 79,\n",
       " 'GarageYrBlt': 79,\n",
       " 'LotFrontage': 259,\n",
       " 'MasVnrArea': 8,\n",
       " 'MasVnrType': 8,\n",
       " 'MiscFeature': 1398,\n",
       " 'PoolQC': 1443}"
      ]
     },
     "execution_count": 12,
     "metadata": {},
     "output_type": "execute_result"
    }
   ],
   "source": [
    "null_array"
   ]
  },
  {
   "cell_type": "code",
   "execution_count": 13,
   "metadata": {},
   "outputs": [
    {
     "name": "stderr",
     "output_type": "stream",
     "text": [
      "/Users/GuangYi/anaconda/lib/python2.7/site-packages/ipykernel_launcher.py:2: SettingWithCopyWarning: \n",
      "A value is trying to be set on a copy of a slice from a DataFrame\n",
      "\n",
      "See the caveats in the documentation: http://pandas.pydata.org/pandas-docs/stable/indexing.html#indexing-view-versus-copy\n",
      "  \n"
     ]
    }
   ],
   "source": [
    "# Drop Alley, PoolQC, Fence, MiscFeature, FireplaceQu as variables because large majority missing or NaN\n",
    "df.drop([\"Alley\", \"PoolQC\", \"Fence\", \"MiscFeature\", \"FireplaceQu\"], axis=1, inplace=True)"
   ]
  },
  {
   "cell_type": "code",
   "execution_count": 14,
   "metadata": {},
   "outputs": [
    {
     "name": "stderr",
     "output_type": "stream",
     "text": [
      "/Users/GuangYi/anaconda/lib/python2.7/site-packages/ipykernel_launcher.py:5: SettingWithCopyWarning: \n",
      "A value is trying to be set on a copy of a slice from a DataFrame\n",
      "\n",
      "See the caveats in the documentation: http://pandas.pydata.org/pandas-docs/stable/indexing.html#indexing-view-versus-copy\n",
      "  \"\"\"\n"
     ]
    }
   ],
   "source": [
    "# Consulting the list of variables, use general knowledge to determine what can be renovated (thus dropped)\n",
    "# All quality and condition metrics\n",
    "df.drop([\"OverallQual\", \"OverallCond\", \"ExterQual\", \"ExterCond\", \"BsmtQual\", \n",
    "         \"BsmtCond\", \"BsmtFinType1\", \"BsmtFinType2\", \"HeatingQC\", \"KitchenQual\", \n",
    "         \"GarageQual\", \"GarageCond\"], axis=1, inplace=True)"
   ]
  },
  {
   "cell_type": "code",
   "execution_count": 15,
   "metadata": {},
   "outputs": [
    {
     "name": "stderr",
     "output_type": "stream",
     "text": [
      "/Users/GuangYi/anaconda/lib/python2.7/site-packages/ipykernel_launcher.py:2: SettingWithCopyWarning: \n",
      "A value is trying to be set on a copy of a slice from a DataFrame\n",
      "\n",
      "See the caveats in the documentation: http://pandas.pydata.org/pandas-docs/stable/indexing.html#indexing-view-versus-copy\n",
      "  \n"
     ]
    }
   ],
   "source": [
    "# Heating and electrical components removed, MiscVal removed because MiscFeature gone, utilities can be added on\n",
    "df.drop([\"Electrical\", \"Heating\", \"MiscVal\", \"Utilities\"], axis=1, inplace=True)"
   ]
  },
  {
   "cell_type": "code",
   "execution_count": 16,
   "metadata": {},
   "outputs": [
    {
     "name": "stderr",
     "output_type": "stream",
     "text": [
      "/Users/GuangYi/anaconda/lib/python2.7/site-packages/ipykernel_launcher.py:9: SettingWithCopyWarning: \n",
      "A value is trying to be set on a copy of a slice from a DataFrame\n",
      "\n",
      "See the caveats in the documentation: http://pandas.pydata.org/pandas-docs/stable/indexing.html#indexing-view-versus-copy\n",
      "  if __name__ == '__main__':\n"
     ]
    }
   ],
   "source": [
    "# Materials can be changed during renovation: RoofMatl, CentralAir, GarageFinish, PavedDrive, MasVnrType, Exterior1st, Exterior2nd\n",
    "# Fireplaces can be added or removed during renovation\n",
    "# MasVnrArea can be changed during renovation\n",
    "# GarageCars is redundant since sqft is there already\n",
    "# SaleType, SaleCondition not really relevant because sold is sold\n",
    "# MSSubClass since it's just a summary stat\n",
    "df.drop([\"MSSubClass\", \"RoofMatl\", \"Fireplaces\", \"MasVnrArea\", \"Exterior1st\", \"Exterior2nd\", \n",
    "         \"MasVnrType\", \"CentralAir\", \"GarageFinish\", \"PavedDrive\", \"GarageCars\", \n",
    "         \"SaleType\", \"SaleCondition\"], axis=1, inplace=True)"
   ]
  },
  {
   "cell_type": "code",
   "execution_count": 17,
   "metadata": {
    "collapsed": true
   },
   "outputs": [],
   "source": [
    "removed = [\"MSSubClass\", \"RoofMatl\", \"Fireplaces\", \"MasVnrArea\", \"Exterior1st\", \"Exterior2nd\", \n",
    "           \"MasVnrType\", \"CentralAir\", \"GarageFinish\", \"PavedDrive\", \"GarageCars\", \"SaleType\", \n",
    "           \"SaleCondition\", \"Electrical\", \"Heating\", \"MiscVal\", \"Utilities\", \"OverallQual\", \n",
    "           \"OverallCond\", \"ExterQual\", \"ExterCond\", \"BsmtQual\", \"BsmtCond\", \"BsmtFinType1\", \n",
    "           \"BsmtFinType2\", \"HeatingQC\", \"KitchenQual\", \"GarageQual\", \"GarageCond\", \"Alley\", \n",
    "           \"PoolQC\", \"Fence\", \"MiscFeature\", \"FireplaceQu\"]"
   ]
  },
  {
   "cell_type": "code",
   "execution_count": 18,
   "metadata": {},
   "outputs": [
    {
     "data": {
      "text/plain": [
       "{'BsmtExposure': 38, 'GarageType': 79, 'GarageYrBlt': 79, 'LotFrontage': 259}"
      ]
     },
     "execution_count": 18,
     "metadata": {},
     "output_type": "execute_result"
    }
   ],
   "source": [
    "# Examine null values again \n",
    "null_array = {}\n",
    "\n",
    "for a in df :\n",
    "    if df[a].isnull().sum() != 0:\n",
    "        null_array[a] = df[a].isnull().sum()\n",
    "        \n",
    "null_array"
   ]
  },
  {
   "cell_type": "code",
   "execution_count": 19,
   "metadata": {},
   "outputs": [
    {
     "name": "stderr",
     "output_type": "stream",
     "text": [
      "/Users/GuangYi/anaconda/lib/python2.7/site-packages/ipykernel_launcher.py:5: SettingWithCopyWarning: \n",
      "A value is trying to be set on a copy of a slice from a DataFrame\n",
      "\n",
      "See the caveats in the documentation: http://pandas.pydata.org/pandas-docs/stable/indexing.html#indexing-view-versus-copy\n",
      "  \"\"\"\n"
     ]
    }
   ],
   "source": [
    "fill_lf = df.LotFrontage.median()\n",
    "index = df['LotFrontage'].index[df['LotFrontage'].apply(np.isnan)]\n",
    "\n",
    "for a in index :\n",
    "    df.replace(df.LotFrontage[a], fill_lf, inplace=True)"
   ]
  },
  {
   "cell_type": "code",
   "execution_count": 20,
   "metadata": {},
   "outputs": [
    {
     "data": {
      "text/plain": [
       "0"
      ]
     },
     "execution_count": 20,
     "metadata": {},
     "output_type": "execute_result"
    }
   ],
   "source": [
    "df.LotFrontage.isnull().sum()"
   ]
  },
  {
   "cell_type": "code",
   "execution_count": 21,
   "metadata": {},
   "outputs": [
    {
     "name": "stderr",
     "output_type": "stream",
     "text": [
      "/Users/GuangYi/anaconda/lib/python2.7/site-packages/ipykernel_launcher.py:1: SettingWithCopyWarning: \n",
      "A value is trying to be set on a copy of a slice from a DataFrame\n",
      "\n",
      "See the caveats in the documentation: http://pandas.pydata.org/pandas-docs/stable/indexing.html#indexing-view-versus-copy\n",
      "  \"\"\"Entry point for launching an IPython kernel.\n",
      "/Users/GuangYi/anaconda/lib/python2.7/site-packages/ipykernel_launcher.py:2: SettingWithCopyWarning: \n",
      "A value is trying to be set on a copy of a slice from a DataFrame\n",
      "\n",
      "See the caveats in the documentation: http://pandas.pydata.org/pandas-docs/stable/indexing.html#indexing-view-versus-copy\n",
      "  \n"
     ]
    }
   ],
   "source": [
    "df.dropna(axis=0, subset=[\"BsmtExposure\"], inplace=True)\n",
    "df.dropna(axis=0, subset=[\"GarageType\"], inplace=True)\n",
    "df.reset_index(drop=True, inplace=True)"
   ]
  },
  {
   "cell_type": "code",
   "execution_count": 22,
   "metadata": {},
   "outputs": [
    {
     "data": {
      "text/plain": [
       "(1450, 46)"
      ]
     },
     "execution_count": 22,
     "metadata": {},
     "output_type": "execute_result"
    }
   ],
   "source": [
    "df.shape"
   ]
  },
  {
   "cell_type": "code",
   "execution_count": 23,
   "metadata": {
    "scrolled": true
   },
   "outputs": [
    {
     "data": {
      "text/plain": [
       "MSZoning          object\n",
       "LotFrontage      float64\n",
       "LotArea            int64\n",
       "Street            object\n",
       "LotShape          object\n",
       "LandContour       object\n",
       "LotConfig         object\n",
       "LandSlope         object\n",
       "Neighborhood      object\n",
       "Condition1        object\n",
       "Condition2        object\n",
       "BldgType          object\n",
       "HouseStyle        object\n",
       "YearBuilt          int64\n",
       "YearRemodAdd       int64\n",
       "RoofStyle         object\n",
       "Foundation        object\n",
       "BsmtExposure      object\n",
       "BsmtFinSF1         int64\n",
       "BsmtFinSF2         int64\n",
       "BsmtUnfSF          int64\n",
       "TotalBsmtSF        int64\n",
       "1stFlrSF           int64\n",
       "2ndFlrSF           int64\n",
       "LowQualFinSF       int64\n",
       "GrLivArea          int64\n",
       "BsmtFullBath       int64\n",
       "BsmtHalfBath       int64\n",
       "FullBath           int64\n",
       "HalfBath           int64\n",
       "BedroomAbvGr       int64\n",
       "KitchenAbvGr       int64\n",
       "TotRmsAbvGrd       int64\n",
       "Functional        object\n",
       "GarageType        object\n",
       "GarageYrBlt      float64\n",
       "GarageArea         int64\n",
       "WoodDeckSF         int64\n",
       "OpenPorchSF        int64\n",
       "EnclosedPorch      int64\n",
       "3SsnPorch          int64\n",
       "ScreenPorch        int64\n",
       "PoolArea           int64\n",
       "MoSold             int64\n",
       "YrSold             int64\n",
       "SalePrice          int64\n",
       "dtype: object"
      ]
     },
     "execution_count": 23,
     "metadata": {},
     "output_type": "execute_result"
    }
   ],
   "source": [
    "df.dtypes"
   ]
  },
  {
   "cell_type": "code",
   "execution_count": 24,
   "metadata": {
    "collapsed": true
   },
   "outputs": [],
   "source": [
    "# Separate categorical variables from continuous variables\n",
    "\n",
    "categorical = ['MSZoning', \"Street\", \"LotShape\", \"LandContour\", \"LotConfig\", \"LandSlope\", \"Neighborhood\", \n",
    "            \"Condition1\", \"Condition2\", \"BldgType\", \"HouseStyle\", \"RoofStyle\", \"Foundation\", \n",
    "            \"BsmtExposure\", \"Functional\", \"GarageType\"]\n",
    "\n",
    "continuous = ['LotFrontage', \"LotArea\", \"YearBuilt\", \"YearRemodAdd\", \"BsmtFinSF1\", \"BsmtFinSF2\", \"BsmtUnfSF\",\n",
    "             \"TotalBsmtSF\", \"1stFlrSF\", \"2ndFlrSF\",\"LowQualFinSF\", \"GrLivArea\", \"BsmtFullBath\", \"BsmtHalfBath\",\n",
    "             \"FullBath\", \"HalfBath\", \"BedroomAbvGr\", \"KitchenAbvGr\", \"TotRmsAbvGrd\", \"GarageYrBlt\", \n",
    "             \"GarageArea\", \"WoodDeckSF\", \"OpenPorchSF\", \"EnclosedPorch\", \"3SsnPorch\", \"ScreenPorch\",\n",
    "             \"PoolArea\", \"MoSold\", \"YrSold\"]\n"
   ]
  },
  {
   "cell_type": "code",
   "execution_count": 25,
   "metadata": {},
   "outputs": [],
   "source": [
    "df_cat = df.loc[:, categorical]\n",
    "df_cont = df.loc[:, continuous]"
   ]
  },
  {
   "cell_type": "code",
   "execution_count": 26,
   "metadata": {
    "scrolled": true
   },
   "outputs": [],
   "source": [
    "df_cont_test = df_cont[df_cont.YrSold==2010]\n",
    "df_cont_train = df_cont[df_cont.YrSold != 2010]"
   ]
  },
  {
   "cell_type": "code",
   "execution_count": 27,
   "metadata": {},
   "outputs": [],
   "source": [
    "filter_index = df_cont_test.index\n",
    "filter_index2 = df_cont_train.index"
   ]
  },
  {
   "cell_type": "code",
   "execution_count": 28,
   "metadata": {},
   "outputs": [],
   "source": [
    "from sklearn.preprocessing import MinMaxScaler\n",
    "mm = MinMaxScaler()\n",
    "df_cont_train_scaled = pd.DataFrame(mm.fit_transform(df_cont_train))\n",
    "df_cont_test_scaled = pd.DataFrame(mm.fit_transform(df_cont_test))"
   ]
  },
  {
   "cell_type": "code",
   "execution_count": 29,
   "metadata": {
    "scrolled": true
   },
   "outputs": [],
   "source": [
    "df_cat_dum = pd.get_dummies(df_cat)\n",
    "df_cat_dum_test = df_cat_dum.iloc[filter_index]\n",
    "df_cat_dum_train = df_cat_dum.iloc[filter_index2]"
   ]
  },
  {
   "cell_type": "code",
   "execution_count": 30,
   "metadata": {
    "collapsed": true
   },
   "outputs": [],
   "source": [
    "df_cat_dum_train.reset_index(drop=True, inplace=True)\n",
    "df_cat_dum_test.reset_index(drop=True, inplace=True)\n",
    "df_cont_train_scaled.reset_index(drop=True, inplace=True)\n",
    "df_cont_test_scaled.reset_index(drop=True, inplace=True)"
   ]
  },
  {
   "cell_type": "code",
   "execution_count": 31,
   "metadata": {},
   "outputs": [],
   "source": [
    "X_train = pd.concat([df_cat_dum_train, df_cont_train_scaled], axis=1)\n",
    "X_test = pd.concat([df_cat_dum_test, df_cont_test_scaled], axis=1)\n",
    "y_train = df.SalePrice[filter_index2]\n",
    "y_test = df.SalePrice[filter_index]"
   ]
  },
  {
   "cell_type": "code",
   "execution_count": 32,
   "metadata": {
    "collapsed": true
   },
   "outputs": [],
   "source": [
    "y_train.reset_index(drop=True, inplace=True)\n",
    "y_test.reset_index(drop=True, inplace=True)"
   ]
  },
  {
   "cell_type": "code",
   "execution_count": 33,
   "metadata": {},
   "outputs": [
    {
     "name": "stderr",
     "output_type": "stream",
     "text": [
      "/Users/GuangYi/anaconda/lib/python2.7/site-packages/ipykernel_launcher.py:3: FutureWarning: reshape is deprecated and will raise in a subsequent release. Please use .values.reshape(...) instead\n",
      "  This is separate from the ipykernel package so we can avoid doing imports until\n",
      "/Users/GuangYi/anaconda/lib/python2.7/site-packages/sklearn/utils/validation.py:444: DataConversionWarning: Data with input dtype int64 was converted to float64 by StandardScaler.\n",
      "  warnings.warn(msg, DataConversionWarning)\n"
     ]
    }
   ],
   "source": [
    "from sklearn.preprocessing import StandardScaler\n",
    "ss = StandardScaler()\n",
    "y_train_s = ss.fit_transform(y_train.reshape(-1, 1))"
   ]
  },
  {
   "cell_type": "code",
   "execution_count": 34,
   "metadata": {},
   "outputs": [
    {
     "name": "stderr",
     "output_type": "stream",
     "text": [
      "/Users/GuangYi/anaconda/lib/python2.7/site-packages/statsmodels/compat/pandas.py:56: FutureWarning: The pandas.core.datetools module is deprecated and will be removed in a future version. Please use the pandas.tseries module instead.\n",
      "  from pandas.core import datetools\n"
     ]
    }
   ],
   "source": [
    "# Importing the stats model API\n",
    "import statsmodels.api as sm\n",
    "\n",
    "# The Default here is Linear Regression (ordinary least squares regression OLS)\n",
    "model = sm.OLS(y_train,X_train).fit()\n",
    "y_pred = model.predict(X_test)"
   ]
  },
  {
   "cell_type": "code",
   "execution_count": 35,
   "metadata": {
    "scrolled": true
   },
   "outputs": [
    {
     "data": {
      "text/html": [
       "<table class=\"simpletable\">\n",
       "<caption>OLS Regression Results</caption>\n",
       "<tr>\n",
       "  <th>Dep. Variable:</th>        <td>SalePrice</td>    <th>  R-squared:         </th> <td>   0.857</td> \n",
       "</tr>\n",
       "<tr>\n",
       "  <th>Model:</th>                   <td>OLS</td>       <th>  Adj. R-squared:    </th> <td>   0.842</td> \n",
       "</tr>\n",
       "<tr>\n",
       "  <th>Method:</th>             <td>Least Squares</td>  <th>  F-statistic:       </th> <td>   58.68</td> \n",
       "</tr>\n",
       "<tr>\n",
       "  <th>Date:</th>             <td>Thu, 05 Oct 2017</td> <th>  Prob (F-statistic):</th>  <td>  0.00</td>  \n",
       "</tr>\n",
       "<tr>\n",
       "  <th>Time:</th>                 <td>02:47:25</td>     <th>  Log-Likelihood:    </th> <td> -14986.</td> \n",
       "</tr>\n",
       "<tr>\n",
       "  <th>No. Observations:</th>      <td>  1278</td>      <th>  AIC:               </th> <td>3.021e+04</td>\n",
       "</tr>\n",
       "<tr>\n",
       "  <th>Df Residuals:</th>          <td>  1159</td>      <th>  BIC:               </th> <td>3.082e+04</td>\n",
       "</tr>\n",
       "<tr>\n",
       "  <th>Df Model:</th>              <td>   118</td>      <th>                     </th>     <td> </td>    \n",
       "</tr>\n",
       "<tr>\n",
       "  <th>Covariance Type:</th>      <td>nonrobust</td>    <th>                     </th>     <td> </td>    \n",
       "</tr>\n",
       "</table>\n",
       "<table class=\"simpletable\">\n",
       "<tr>\n",
       "            <td></td>              <th>coef</th>     <th>std err</th>      <th>t</th>      <th>P>|t|</th>  <th>[0.025</th>    <th>0.975]</th>  \n",
       "</tr>\n",
       "<tr>\n",
       "  <th>MSZoning_FV</th>          <td> 6705.9659</td> <td> 1.25e+04</td> <td>    0.537</td> <td> 0.591</td> <td>-1.78e+04</td> <td> 3.12e+04</td>\n",
       "</tr>\n",
       "<tr>\n",
       "  <th>MSZoning_RH</th>          <td> 4441.9378</td> <td> 1.25e+04</td> <td>    0.356</td> <td> 0.722</td> <td>   -2e+04</td> <td> 2.89e+04</td>\n",
       "</tr>\n",
       "<tr>\n",
       "  <th>MSZoning_RL</th>          <td> 6285.5228</td> <td> 1.06e+04</td> <td>    0.593</td> <td> 0.553</td> <td>-1.45e+04</td> <td> 2.71e+04</td>\n",
       "</tr>\n",
       "<tr>\n",
       "  <th>MSZoning_RM</th>          <td> 1.029e+04</td> <td> 1.14e+04</td> <td>    0.905</td> <td> 0.366</td> <td> -1.2e+04</td> <td> 3.26e+04</td>\n",
       "</tr>\n",
       "<tr>\n",
       "  <th>Street_Grvl</th>          <td>-7386.0260</td> <td> 2.32e+04</td> <td>   -0.318</td> <td> 0.751</td> <td> -5.3e+04</td> <td> 3.82e+04</td>\n",
       "</tr>\n",
       "<tr>\n",
       "  <th>Street_Pave</th>          <td> 3.511e+04</td> <td> 2.29e+04</td> <td>    1.534</td> <td> 0.125</td> <td>-9783.441</td> <td>    8e+04</td>\n",
       "</tr>\n",
       "<tr>\n",
       "  <th>LotShape_IR1</th>         <td> 1.479e+04</td> <td> 1.07e+04</td> <td>    1.388</td> <td> 0.165</td> <td>-6111.006</td> <td> 3.57e+04</td>\n",
       "</tr>\n",
       "<tr>\n",
       "  <th>LotShape_IR2</th>         <td> 2.421e+04</td> <td> 1.13e+04</td> <td>    2.145</td> <td> 0.032</td> <td> 2069.985</td> <td> 4.64e+04</td>\n",
       "</tr>\n",
       "<tr>\n",
       "  <th>LotShape_IR3</th>         <td>-2.673e+04</td> <td> 1.37e+04</td> <td>   -1.948</td> <td> 0.052</td> <td>-5.36e+04</td> <td>  192.454</td>\n",
       "</tr>\n",
       "<tr>\n",
       "  <th>LotShape_Reg</th>         <td> 1.544e+04</td> <td> 1.06e+04</td> <td>    1.454</td> <td> 0.146</td> <td>-5390.171</td> <td> 3.63e+04</td>\n",
       "</tr>\n",
       "<tr>\n",
       "  <th>LandContour_Bnk</th>      <td> -808.2277</td> <td>  1.1e+04</td> <td>   -0.073</td> <td> 0.942</td> <td>-2.25e+04</td> <td> 2.09e+04</td>\n",
       "</tr>\n",
       "<tr>\n",
       "  <th>LandContour_HLS</th>      <td> 1.945e+04</td> <td>  1.1e+04</td> <td>    1.761</td> <td> 0.079</td> <td>-2221.596</td> <td> 4.11e+04</td>\n",
       "</tr>\n",
       "<tr>\n",
       "  <th>LandContour_Low</th>      <td> -846.0403</td> <td>  1.2e+04</td> <td>   -0.070</td> <td> 0.944</td> <td>-2.44e+04</td> <td> 2.27e+04</td>\n",
       "</tr>\n",
       "<tr>\n",
       "  <th>LandContour_Lvl</th>      <td> 9931.0724</td> <td> 1.07e+04</td> <td>    0.931</td> <td> 0.352</td> <td> -1.1e+04</td> <td> 3.09e+04</td>\n",
       "</tr>\n",
       "<tr>\n",
       "  <th>LotConfig_Corner</th>     <td> 1.299e+04</td> <td> 9395.781</td> <td>    1.383</td> <td> 0.167</td> <td>-5439.644</td> <td> 3.14e+04</td>\n",
       "</tr>\n",
       "<tr>\n",
       "  <th>LotConfig_CulDSac</th>    <td> 1.872e+04</td> <td> 9598.760</td> <td>    1.951</td> <td> 0.051</td> <td> -110.137</td> <td> 3.76e+04</td>\n",
       "</tr>\n",
       "<tr>\n",
       "  <th>LotConfig_FR2</th>        <td>  523.0495</td> <td> 9965.265</td> <td>    0.052</td> <td> 0.958</td> <td> -1.9e+04</td> <td> 2.01e+04</td>\n",
       "</tr>\n",
       "<tr>\n",
       "  <th>LotConfig_FR3</th>        <td>-1.628e+04</td> <td> 1.57e+04</td> <td>   -1.034</td> <td> 0.301</td> <td>-4.72e+04</td> <td> 1.46e+04</td>\n",
       "</tr>\n",
       "<tr>\n",
       "  <th>LotConfig_Inside</th>     <td> 1.176e+04</td> <td> 9086.823</td> <td>    1.294</td> <td> 0.196</td> <td>-6066.121</td> <td> 2.96e+04</td>\n",
       "</tr>\n",
       "<tr>\n",
       "  <th>LandSlope_Gtl</th>        <td> 1.911e+04</td> <td> 1.43e+04</td> <td>    1.334</td> <td> 0.183</td> <td>-9004.576</td> <td> 4.72e+04</td>\n",
       "</tr>\n",
       "<tr>\n",
       "  <th>LandSlope_Mod</th>        <td> 2.028e+04</td> <td> 1.43e+04</td> <td>    1.414</td> <td> 0.158</td> <td>-7857.522</td> <td> 4.84e+04</td>\n",
       "</tr>\n",
       "<tr>\n",
       "  <th>LandSlope_Sev</th>        <td>-1.166e+04</td> <td> 1.68e+04</td> <td>   -0.694</td> <td> 0.488</td> <td>-4.47e+04</td> <td> 2.13e+04</td>\n",
       "</tr>\n",
       "<tr>\n",
       "  <th>Neighborhood_Blmngtn</th> <td>  530.3041</td> <td> 9611.489</td> <td>    0.055</td> <td> 0.956</td> <td>-1.83e+04</td> <td> 1.94e+04</td>\n",
       "</tr>\n",
       "<tr>\n",
       "  <th>Neighborhood_Blueste</th> <td> 6847.1015</td> <td> 2.23e+04</td> <td>    0.307</td> <td> 0.759</td> <td>-3.69e+04</td> <td> 5.06e+04</td>\n",
       "</tr>\n",
       "<tr>\n",
       "  <th>Neighborhood_BrDale</th>  <td> 1.221e+04</td> <td> 1.04e+04</td> <td>    1.173</td> <td> 0.241</td> <td>-8208.500</td> <td> 3.26e+04</td>\n",
       "</tr>\n",
       "<tr>\n",
       "  <th>Neighborhood_BrkSide</th> <td>-5294.9381</td> <td> 6395.388</td> <td>   -0.828</td> <td> 0.408</td> <td>-1.78e+04</td> <td> 7252.895</td>\n",
       "</tr>\n",
       "<tr>\n",
       "  <th>Neighborhood_ClearCr</th> <td>-2.383e+04</td> <td> 8054.704</td> <td>   -2.959</td> <td> 0.003</td> <td>-3.96e+04</td> <td>-8027.819</td>\n",
       "</tr>\n",
       "<tr>\n",
       "  <th>Neighborhood_CollgCr</th> <td>-1.165e+04</td> <td> 4563.891</td> <td>   -2.553</td> <td> 0.011</td> <td>-2.06e+04</td> <td>-2698.289</td>\n",
       "</tr>\n",
       "<tr>\n",
       "  <th>Neighborhood_Crawfor</th> <td> 1.422e+04</td> <td> 5774.489</td> <td>    2.463</td> <td> 0.014</td> <td> 2892.957</td> <td> 2.56e+04</td>\n",
       "</tr>\n",
       "<tr>\n",
       "  <th>Neighborhood_Edwards</th> <td>-2.662e+04</td> <td> 4592.614</td> <td>   -5.796</td> <td> 0.000</td> <td>-3.56e+04</td> <td>-1.76e+04</td>\n",
       "</tr>\n",
       "<tr>\n",
       "  <th>Neighborhood_Gilbert</th> <td>-1.477e+04</td> <td> 5736.819</td> <td>   -2.575</td> <td> 0.010</td> <td> -2.6e+04</td> <td>-3517.437</td>\n",
       "</tr>\n",
       "<tr>\n",
       "  <th>Neighborhood_IDOTRR</th>  <td>-1.845e+04</td> <td> 8737.214</td> <td>   -2.111</td> <td> 0.035</td> <td>-3.56e+04</td> <td>-1304.761</td>\n",
       "</tr>\n",
       "<tr>\n",
       "  <th>Neighborhood_MeadowV</th> <td>-9768.8595</td> <td>    1e+04</td> <td>   -0.976</td> <td> 0.329</td> <td>-2.94e+04</td> <td> 9864.282</td>\n",
       "</tr>\n",
       "<tr>\n",
       "  <th>Neighborhood_Mitchel</th> <td> -2.29e+04</td> <td> 5561.289</td> <td>   -4.118</td> <td> 0.000</td> <td>-3.38e+04</td> <td> -1.2e+04</td>\n",
       "</tr>\n",
       "<tr>\n",
       "  <th>Neighborhood_NAmes</th>   <td>-1.457e+04</td> <td> 3870.176</td> <td>   -3.765</td> <td> 0.000</td> <td>-2.22e+04</td> <td>-6978.889</td>\n",
       "</tr>\n",
       "<tr>\n",
       "  <th>Neighborhood_NPkVill</th> <td> 2.047e+04</td> <td> 1.27e+04</td> <td>    1.612</td> <td> 0.107</td> <td>-4442.611</td> <td> 4.54e+04</td>\n",
       "</tr>\n",
       "<tr>\n",
       "  <th>Neighborhood_NWAmes</th>  <td>-1.913e+04</td> <td> 5136.063</td> <td>   -3.725</td> <td> 0.000</td> <td>-2.92e+04</td> <td>-9055.047</td>\n",
       "</tr>\n",
       "<tr>\n",
       "  <th>Neighborhood_NoRidge</th> <td> 4.465e+04</td> <td> 6900.845</td> <td>    6.470</td> <td> 0.000</td> <td> 3.11e+04</td> <td> 5.82e+04</td>\n",
       "</tr>\n",
       "<tr>\n",
       "  <th>Neighborhood_NridgHt</th> <td> 6.074e+04</td> <td> 5678.709</td> <td>   10.697</td> <td> 0.000</td> <td> 4.96e+04</td> <td> 7.19e+04</td>\n",
       "</tr>\n",
       "<tr>\n",
       "  <th>Neighborhood_OldTown</th> <td>-2.048e+04</td> <td> 6488.677</td> <td>   -3.156</td> <td> 0.002</td> <td>-3.32e+04</td> <td>-7750.188</td>\n",
       "</tr>\n",
       "<tr>\n",
       "  <th>Neighborhood_SWISU</th>   <td>  -1.2e+04</td> <td> 8531.235</td> <td>   -1.406</td> <td> 0.160</td> <td>-2.87e+04</td> <td> 4741.555</td>\n",
       "</tr>\n",
       "<tr>\n",
       "  <th>Neighborhood_Sawyer</th>  <td>-1.647e+04</td> <td> 5292.259</td> <td>   -3.112</td> <td> 0.002</td> <td>-2.69e+04</td> <td>-6085.866</td>\n",
       "</tr>\n",
       "<tr>\n",
       "  <th>Neighborhood_SawyerW</th> <td>-6422.9742</td> <td> 5832.535</td> <td>   -1.101</td> <td> 0.271</td> <td>-1.79e+04</td> <td> 5020.534</td>\n",
       "</tr>\n",
       "<tr>\n",
       "  <th>Neighborhood_Somerst</th> <td> 2.027e+04</td> <td> 8264.079</td> <td>    2.453</td> <td> 0.014</td> <td> 4057.918</td> <td> 3.65e+04</td>\n",
       "</tr>\n",
       "<tr>\n",
       "  <th>Neighborhood_StoneBr</th> <td> 6.252e+04</td> <td> 8013.876</td> <td>    7.802</td> <td> 0.000</td> <td> 4.68e+04</td> <td> 7.82e+04</td>\n",
       "</tr>\n",
       "<tr>\n",
       "  <th>Neighborhood_Timber</th>  <td>-8353.6807</td> <td> 6708.964</td> <td>   -1.245</td> <td> 0.213</td> <td>-2.15e+04</td> <td> 4809.393</td>\n",
       "</tr>\n",
       "<tr>\n",
       "  <th>Neighborhood_Veenker</th> <td> 1.596e+04</td> <td> 1.01e+04</td> <td>    1.586</td> <td> 0.113</td> <td>-3781.633</td> <td> 3.57e+04</td>\n",
       "</tr>\n",
       "<tr>\n",
       "  <th>Condition1_Artery</th>    <td> 3720.9548</td> <td> 8148.616</td> <td>    0.457</td> <td> 0.648</td> <td>-1.23e+04</td> <td> 1.97e+04</td>\n",
       "</tr>\n",
       "<tr>\n",
       "  <th>Condition1_Feedr</th>     <td>-8736.4463</td> <td> 7550.397</td> <td>   -1.157</td> <td> 0.247</td> <td>-2.36e+04</td> <td> 6077.530</td>\n",
       "</tr>\n",
       "<tr>\n",
       "  <th>Condition1_Norm</th>      <td> 7958.8423</td> <td> 6685.641</td> <td>    1.190</td> <td> 0.234</td> <td>-5158.472</td> <td> 2.11e+04</td>\n",
       "</tr>\n",
       "<tr>\n",
       "  <th>Condition1_PosA</th>      <td>-1367.9862</td> <td> 1.53e+04</td> <td>   -0.089</td> <td> 0.929</td> <td>-3.14e+04</td> <td> 2.86e+04</td>\n",
       "</tr>\n",
       "<tr>\n",
       "  <th>Condition1_PosN</th>      <td> 1.312e+04</td> <td> 1.01e+04</td> <td>    1.303</td> <td> 0.193</td> <td>-6631.518</td> <td> 3.29e+04</td>\n",
       "</tr>\n",
       "<tr>\n",
       "  <th>Condition1_RRAe</th>      <td>-1.971e+04</td> <td> 1.27e+04</td> <td>   -1.549</td> <td> 0.122</td> <td>-4.47e+04</td> <td> 5256.486</td>\n",
       "</tr>\n",
       "<tr>\n",
       "  <th>Condition1_RRAn</th>      <td> 9474.0845</td> <td> 9280.834</td> <td>    1.021</td> <td> 0.308</td> <td>-8735.031</td> <td> 2.77e+04</td>\n",
       "</tr>\n",
       "<tr>\n",
       "  <th>Condition1_RRNe</th>      <td>-2413.7193</td> <td> 2.91e+04</td> <td>   -0.083</td> <td> 0.934</td> <td>-5.96e+04</td> <td> 5.48e+04</td>\n",
       "</tr>\n",
       "<tr>\n",
       "  <th>Condition1_RRNn</th>      <td> 2.568e+04</td> <td> 1.65e+04</td> <td>    1.552</td> <td> 0.121</td> <td>-6781.036</td> <td> 5.82e+04</td>\n",
       "</tr>\n",
       "<tr>\n",
       "  <th>Condition2_Artery</th>    <td> 2.481e+04</td> <td> 2.48e+04</td> <td>    1.000</td> <td> 0.318</td> <td>-2.39e+04</td> <td> 7.35e+04</td>\n",
       "</tr>\n",
       "<tr>\n",
       "  <th>Condition2_Feedr</th>     <td> 7015.7504</td> <td> 1.92e+04</td> <td>    0.365</td> <td> 0.715</td> <td>-3.07e+04</td> <td> 4.47e+04</td>\n",
       "</tr>\n",
       "<tr>\n",
       "  <th>Condition2_Norm</th>      <td> 1.631e+04</td> <td> 1.02e+04</td> <td>    1.605</td> <td> 0.109</td> <td>-3625.354</td> <td> 3.62e+04</td>\n",
       "</tr>\n",
       "<tr>\n",
       "  <th>Condition2_PosA</th>      <td> 8.691e+04</td> <td> 3.25e+04</td> <td>    2.678</td> <td> 0.008</td> <td> 2.32e+04</td> <td> 1.51e+05</td>\n",
       "</tr>\n",
       "<tr>\n",
       "  <th>Condition2_PosN</th>      <td>-1.392e+05</td> <td> 2.38e+04</td> <td>   -5.851</td> <td> 0.000</td> <td>-1.86e+05</td> <td>-9.25e+04</td>\n",
       "</tr>\n",
       "<tr>\n",
       "  <th>Condition2_RRAe</th>      <td> -1.24e+04</td> <td> 1.61e+04</td> <td>   -0.769</td> <td> 0.442</td> <td> -4.4e+04</td> <td> 1.92e+04</td>\n",
       "</tr>\n",
       "<tr>\n",
       "  <th>Condition2_RRAn</th>      <td> 2.868e+04</td> <td> 2.99e+04</td> <td>    0.959</td> <td> 0.338</td> <td>   -3e+04</td> <td> 8.74e+04</td>\n",
       "</tr>\n",
       "<tr>\n",
       "  <th>Condition2_RRNn</th>      <td> 1.563e+04</td> <td> 2.21e+04</td> <td>    0.708</td> <td> 0.479</td> <td>-2.77e+04</td> <td>  5.9e+04</td>\n",
       "</tr>\n",
       "<tr>\n",
       "  <th>BldgType_1Fam</th>        <td> 2.464e+04</td> <td> 8690.843</td> <td>    2.836</td> <td> 0.005</td> <td> 7592.367</td> <td> 4.17e+04</td>\n",
       "</tr>\n",
       "<tr>\n",
       "  <th>BldgType_2fmCon</th>      <td> 1.973e+04</td> <td> 1.07e+04</td> <td>    1.846</td> <td> 0.065</td> <td>-1244.568</td> <td> 4.07e+04</td>\n",
       "</tr>\n",
       "<tr>\n",
       "  <th>BldgType_Duplex</th>      <td> 1.239e+04</td> <td> 1.06e+04</td> <td>    1.165</td> <td> 0.244</td> <td>-8482.709</td> <td> 3.33e+04</td>\n",
       "</tr>\n",
       "<tr>\n",
       "  <th>BldgType_Twnhs</th>       <td>-2.007e+04</td> <td> 1.04e+04</td> <td>   -1.937</td> <td> 0.053</td> <td>-4.04e+04</td> <td>  256.594</td>\n",
       "</tr>\n",
       "<tr>\n",
       "  <th>BldgType_TwnhsE</th>      <td>-8973.7803</td> <td> 9504.955</td> <td>   -0.944</td> <td> 0.345</td> <td>-2.76e+04</td> <td> 9675.064</td>\n",
       "</tr>\n",
       "<tr>\n",
       "  <th>HouseStyle_1.5Fin</th>    <td> 2138.9711</td> <td> 6444.443</td> <td>    0.332</td> <td> 0.740</td> <td>-1.05e+04</td> <td> 1.48e+04</td>\n",
       "</tr>\n",
       "<tr>\n",
       "  <th>HouseStyle_1.5Unf</th>    <td> 2.663e+04</td> <td> 9887.336</td> <td>    2.694</td> <td> 0.007</td> <td> 7235.210</td> <td>  4.6e+04</td>\n",
       "</tr>\n",
       "<tr>\n",
       "  <th>HouseStyle_1Story</th>    <td>  2.04e+04</td> <td> 6551.772</td> <td>    3.114</td> <td> 0.002</td> <td> 7548.237</td> <td> 3.33e+04</td>\n",
       "</tr>\n",
       "<tr>\n",
       "  <th>HouseStyle_2.5Fin</th>    <td>-1.523e+04</td> <td> 1.66e+04</td> <td>   -0.919</td> <td> 0.358</td> <td>-4.77e+04</td> <td> 1.73e+04</td>\n",
       "</tr>\n",
       "<tr>\n",
       "  <th>HouseStyle_2.5Unf</th>    <td>-1.032e+04</td> <td> 1.13e+04</td> <td>   -0.914</td> <td> 0.361</td> <td>-3.25e+04</td> <td> 1.18e+04</td>\n",
       "</tr>\n",
       "<tr>\n",
       "  <th>HouseStyle_2Story</th>    <td>-1.218e+04</td> <td> 6512.095</td> <td>   -1.870</td> <td> 0.062</td> <td> -2.5e+04</td> <td>  598.575</td>\n",
       "</tr>\n",
       "<tr>\n",
       "  <th>HouseStyle_SFoyer</th>    <td> 1.049e+04</td> <td> 8527.110</td> <td>    1.230</td> <td> 0.219</td> <td>-6243.761</td> <td> 2.72e+04</td>\n",
       "</tr>\n",
       "<tr>\n",
       "  <th>HouseStyle_SLvl</th>      <td> 5795.8223</td> <td> 7296.378</td> <td>    0.794</td> <td> 0.427</td> <td>-8519.765</td> <td> 2.01e+04</td>\n",
       "</tr>\n",
       "<tr>\n",
       "  <th>RoofStyle_Flat</th>       <td> 1.143e+04</td> <td> 1.22e+04</td> <td>    0.938</td> <td> 0.348</td> <td>-1.25e+04</td> <td> 3.53e+04</td>\n",
       "</tr>\n",
       "<tr>\n",
       "  <th>RoofStyle_Gable</th>      <td>-1411.0276</td> <td> 8800.090</td> <td>   -0.160</td> <td> 0.873</td> <td>-1.87e+04</td> <td> 1.59e+04</td>\n",
       "</tr>\n",
       "<tr>\n",
       "  <th>RoofStyle_Gambrel</th>    <td> 9999.4580</td> <td> 1.19e+04</td> <td>    0.839</td> <td> 0.402</td> <td>-1.34e+04</td> <td> 3.34e+04</td>\n",
       "</tr>\n",
       "<tr>\n",
       "  <th>RoofStyle_Hip</th>        <td> 8566.1426</td> <td> 8992.858</td> <td>    0.953</td> <td> 0.341</td> <td>-9077.961</td> <td> 2.62e+04</td>\n",
       "</tr>\n",
       "<tr>\n",
       "  <th>RoofStyle_Mansard</th>    <td> 1.154e+04</td> <td> 1.52e+04</td> <td>    0.760</td> <td> 0.447</td> <td>-1.83e+04</td> <td> 4.13e+04</td>\n",
       "</tr>\n",
       "<tr>\n",
       "  <th>RoofStyle_Shed</th>       <td> -1.24e+04</td> <td> 1.61e+04</td> <td>   -0.769</td> <td> 0.442</td> <td> -4.4e+04</td> <td> 1.92e+04</td>\n",
       "</tr>\n",
       "<tr>\n",
       "  <th>Foundation_BrkTil</th>    <td> 9326.2888</td> <td> 8972.209</td> <td>    1.039</td> <td> 0.299</td> <td>-8277.302</td> <td> 2.69e+04</td>\n",
       "</tr>\n",
       "<tr>\n",
       "  <th>Foundation_CBlock</th>    <td> 9961.3600</td> <td> 8590.748</td> <td>    1.160</td> <td> 0.246</td> <td>-6893.798</td> <td> 2.68e+04</td>\n",
       "</tr>\n",
       "<tr>\n",
       "  <th>Foundation_PConc</th>     <td> 1.414e+04</td> <td> 8991.307</td> <td>    1.573</td> <td> 0.116</td> <td>-3501.935</td> <td> 3.18e+04</td>\n",
       "</tr>\n",
       "<tr>\n",
       "  <th>Foundation_Slab</th>      <td> 4942.7172</td> <td> 1.28e+04</td> <td>    0.386</td> <td> 0.699</td> <td>-2.02e+04</td> <td>    3e+04</td>\n",
       "</tr>\n",
       "<tr>\n",
       "  <th>Foundation_Stone</th>     <td> 9290.0068</td> <td> 1.64e+04</td> <td>    0.567</td> <td> 0.571</td> <td>-2.29e+04</td> <td> 4.14e+04</td>\n",
       "</tr>\n",
       "<tr>\n",
       "  <th>Foundation_Wood</th>      <td>-1.994e+04</td> <td> 2.15e+04</td> <td>   -0.929</td> <td> 0.353</td> <td>-6.21e+04</td> <td> 2.22e+04</td>\n",
       "</tr>\n",
       "<tr>\n",
       "  <th>BsmtExposure_70.0</th>    <td>-4656.9795</td> <td> 1.21e+04</td> <td>   -0.385</td> <td> 0.700</td> <td>-2.84e+04</td> <td> 1.91e+04</td>\n",
       "</tr>\n",
       "<tr>\n",
       "  <th>BsmtExposure_Av</th>      <td> 9129.2429</td> <td> 8811.090</td> <td>    1.036</td> <td> 0.300</td> <td>-8158.230</td> <td> 2.64e+04</td>\n",
       "</tr>\n",
       "<tr>\n",
       "  <th>BsmtExposure_Gd</th>      <td> 2.721e+04</td> <td> 9033.682</td> <td>    3.012</td> <td> 0.003</td> <td> 9488.555</td> <td> 4.49e+04</td>\n",
       "</tr>\n",
       "<tr>\n",
       "  <th>BsmtExposure_Mn</th>      <td>   37.6155</td> <td> 8804.012</td> <td>    0.004</td> <td> 0.997</td> <td>-1.72e+04</td> <td> 1.73e+04</td>\n",
       "</tr>\n",
       "<tr>\n",
       "  <th>BsmtExposure_No</th>      <td>-3999.1476</td> <td> 8582.438</td> <td>   -0.466</td> <td> 0.641</td> <td>-2.08e+04</td> <td> 1.28e+04</td>\n",
       "</tr>\n",
       "<tr>\n",
       "  <th>Functional_Maj1</th>      <td> 1.383e+04</td> <td> 1.16e+04</td> <td>    1.192</td> <td> 0.233</td> <td>-8924.194</td> <td> 3.66e+04</td>\n",
       "</tr>\n",
       "<tr>\n",
       "  <th>Functional_Maj2</th>      <td>-4654.7271</td> <td> 1.49e+04</td> <td>   -0.312</td> <td> 0.755</td> <td>-3.39e+04</td> <td> 2.46e+04</td>\n",
       "</tr>\n",
       "<tr>\n",
       "  <th>Functional_Min1</th>      <td>  1.36e+04</td> <td> 9483.593</td> <td>    1.435</td> <td> 0.152</td> <td>-5002.085</td> <td> 3.22e+04</td>\n",
       "</tr>\n",
       "<tr>\n",
       "  <th>Functional_Min2</th>      <td> 1.846e+04</td> <td> 9973.556</td> <td>    1.851</td> <td> 0.064</td> <td>-1107.437</td> <td>  3.8e+04</td>\n",
       "</tr>\n",
       "<tr>\n",
       "  <th>Functional_Mod</th>       <td> 1.641e+04</td> <td> 1.24e+04</td> <td>    1.319</td> <td> 0.188</td> <td>-8007.269</td> <td> 4.08e+04</td>\n",
       "</tr>\n",
       "<tr>\n",
       "  <th>Functional_Sev</th>       <td>-6.459e+04</td> <td> 3.28e+04</td> <td>   -1.972</td> <td> 0.049</td> <td>-1.29e+05</td> <td> -333.764</td>\n",
       "</tr>\n",
       "<tr>\n",
       "  <th>Functional_Typ</th>       <td> 3.467e+04</td> <td> 8458.797</td> <td>    4.099</td> <td> 0.000</td> <td> 1.81e+04</td> <td> 5.13e+04</td>\n",
       "</tr>\n",
       "<tr>\n",
       "  <th>GarageType_70.0</th>      <td>-1.385e+05</td> <td> 1.26e+05</td> <td>   -1.101</td> <td> 0.271</td> <td>-3.85e+05</td> <td> 1.08e+05</td>\n",
       "</tr>\n",
       "<tr>\n",
       "  <th>GarageType_2Types</th>    <td> 6868.9245</td> <td> 2.98e+04</td> <td>    0.230</td> <td> 0.818</td> <td>-5.17e+04</td> <td> 6.54e+04</td>\n",
       "</tr>\n",
       "<tr>\n",
       "  <th>GarageType_Attchd</th>    <td> 3.348e+04</td> <td> 2.82e+04</td> <td>    1.187</td> <td> 0.235</td> <td>-2.18e+04</td> <td> 8.88e+04</td>\n",
       "</tr>\n",
       "<tr>\n",
       "  <th>GarageType_Basment</th>   <td> 3.396e+04</td> <td> 2.88e+04</td> <td>    1.179</td> <td> 0.239</td> <td>-2.25e+04</td> <td> 9.04e+04</td>\n",
       "</tr>\n",
       "<tr>\n",
       "  <th>GarageType_BuiltIn</th>   <td> 3.335e+04</td> <td> 2.87e+04</td> <td>    1.161</td> <td> 0.246</td> <td> -2.3e+04</td> <td> 8.97e+04</td>\n",
       "</tr>\n",
       "<tr>\n",
       "  <th>GarageType_CarPort</th>   <td> 2.399e+04</td> <td> 3.02e+04</td> <td>    0.795</td> <td> 0.427</td> <td>-3.52e+04</td> <td> 8.32e+04</td>\n",
       "</tr>\n",
       "<tr>\n",
       "  <th>GarageType_Detchd</th>    <td> 3.462e+04</td> <td> 2.82e+04</td> <td>    1.228</td> <td> 0.220</td> <td>-2.07e+04</td> <td> 8.99e+04</td>\n",
       "</tr>\n",
       "<tr>\n",
       "  <th>0</th>                    <td>-4.074e+04</td> <td> 1.74e+04</td> <td>   -2.347</td> <td> 0.019</td> <td>-7.48e+04</td> <td>-6680.030</td>\n",
       "</tr>\n",
       "<tr>\n",
       "  <th>1</th>                    <td> 1.381e+05</td> <td> 2.93e+04</td> <td>    4.709</td> <td> 0.000</td> <td> 8.06e+04</td> <td> 1.96e+05</td>\n",
       "</tr>\n",
       "<tr>\n",
       "  <th>2</th>                    <td> 4.734e+04</td> <td>  1.3e+04</td> <td>    3.640</td> <td> 0.000</td> <td> 2.18e+04</td> <td> 7.29e+04</td>\n",
       "</tr>\n",
       "<tr>\n",
       "  <th>3</th>                    <td> 1.878e+04</td> <td> 3805.731</td> <td>    4.934</td> <td> 0.000</td> <td> 1.13e+04</td> <td> 2.62e+04</td>\n",
       "</tr>\n",
       "<tr>\n",
       "  <th>4</th>                    <td> 3.416e+04</td> <td> 1.77e+04</td> <td>    1.932</td> <td> 0.054</td> <td> -538.767</td> <td> 6.89e+04</td>\n",
       "</tr>\n",
       "<tr>\n",
       "  <th>5</th>                    <td> 1382.6078</td> <td> 9648.086</td> <td>    0.143</td> <td> 0.886</td> <td>-1.75e+04</td> <td> 2.03e+04</td>\n",
       "</tr>\n",
       "<tr>\n",
       "  <th>6</th>                    <td>-3259.5164</td> <td> 8109.369</td> <td>   -0.402</td> <td> 0.688</td> <td>-1.92e+04</td> <td> 1.27e+04</td>\n",
       "</tr>\n",
       "<tr>\n",
       "  <th>7</th>                    <td> 3.064e+04</td> <td> 1.88e+04</td> <td>    1.630</td> <td> 0.103</td> <td>-6234.628</td> <td> 6.75e+04</td>\n",
       "</tr>\n",
       "<tr>\n",
       "  <th>8</th>                    <td> 1.417e+05</td> <td> 1.95e+04</td> <td>    7.279</td> <td> 0.000</td> <td> 1.04e+05</td> <td>  1.8e+05</td>\n",
       "</tr>\n",
       "<tr>\n",
       "  <th>9</th>                    <td> 1.098e+05</td> <td>  1.4e+04</td> <td>    7.865</td> <td> 0.000</td> <td> 8.24e+04</td> <td> 1.37e+05</td>\n",
       "</tr>\n",
       "<tr>\n",
       "  <th>10</th>                   <td>  1.37e+04</td> <td> 1.46e+04</td> <td>    0.941</td> <td> 0.347</td> <td>-1.49e+04</td> <td> 4.23e+04</td>\n",
       "</tr>\n",
       "<tr>\n",
       "  <th>11</th>                   <td> 1.605e+05</td> <td> 1.52e+04</td> <td>   10.558</td> <td> 0.000</td> <td> 1.31e+05</td> <td>  1.9e+05</td>\n",
       "</tr>\n",
       "<tr>\n",
       "  <th>12</th>                   <td> 2.086e+04</td> <td> 8013.520</td> <td>    2.603</td> <td> 0.009</td> <td> 5138.265</td> <td> 3.66e+04</td>\n",
       "</tr>\n",
       "<tr>\n",
       "  <th>13</th>                   <td> 1.317e+04</td> <td> 7999.195</td> <td>    1.647</td> <td> 0.100</td> <td>-2520.005</td> <td> 2.89e+04</td>\n",
       "</tr>\n",
       "<tr>\n",
       "  <th>14</th>                   <td> 2.297e+04</td> <td> 9215.787</td> <td>    2.492</td> <td> 0.013</td> <td> 4887.053</td> <td> 4.11e+04</td>\n",
       "</tr>\n",
       "<tr>\n",
       "  <th>15</th>                   <td> 1.115e+04</td> <td> 5916.796</td> <td>    1.885</td> <td> 0.060</td> <td> -458.200</td> <td> 2.28e+04</td>\n",
       "</tr>\n",
       "<tr>\n",
       "  <th>16</th>                   <td>-6.273e+04</td> <td> 1.48e+04</td> <td>   -4.251</td> <td> 0.000</td> <td>-9.17e+04</td> <td>-3.38e+04</td>\n",
       "</tr>\n",
       "<tr>\n",
       "  <th>17</th>                   <td>-6.412e+04</td> <td> 2.25e+04</td> <td>   -2.850</td> <td> 0.004</td> <td>-1.08e+05</td> <td>   -2e+04</td>\n",
       "</tr>\n",
       "<tr>\n",
       "  <th>18</th>                   <td> 4.106e+04</td> <td>  1.6e+04</td> <td>    2.573</td> <td> 0.010</td> <td> 9746.728</td> <td> 7.24e+04</td>\n",
       "</tr>\n",
       "<tr>\n",
       "  <th>19</th>                   <td>-1.835e+05</td> <td> 1.59e+05</td> <td>   -1.155</td> <td> 0.248</td> <td>-4.95e+05</td> <td> 1.28e+05</td>\n",
       "</tr>\n",
       "<tr>\n",
       "  <th>20</th>                   <td> 4.559e+04</td> <td> 1.15e+04</td> <td>    3.975</td> <td> 0.000</td> <td> 2.31e+04</td> <td> 6.81e+04</td>\n",
       "</tr>\n",
       "<tr>\n",
       "  <th>21</th>                   <td> 1.361e+04</td> <td> 7179.404</td> <td>    1.895</td> <td> 0.058</td> <td> -478.925</td> <td> 2.77e+04</td>\n",
       "</tr>\n",
       "<tr>\n",
       "  <th>22</th>                   <td> 5258.5595</td> <td> 8885.232</td> <td>    0.592</td> <td> 0.554</td> <td>-1.22e+04</td> <td> 2.27e+04</td>\n",
       "</tr>\n",
       "<tr>\n",
       "  <th>23</th>                   <td> 2013.1344</td> <td> 9573.714</td> <td>    0.210</td> <td> 0.833</td> <td>-1.68e+04</td> <td> 2.08e+04</td>\n",
       "</tr>\n",
       "<tr>\n",
       "  <th>24</th>                   <td> 2.656e+04</td> <td> 1.57e+04</td> <td>    1.688</td> <td> 0.092</td> <td>-4317.931</td> <td> 5.74e+04</td>\n",
       "</tr>\n",
       "<tr>\n",
       "  <th>25</th>                   <td> 3.014e+04</td> <td> 8134.244</td> <td>    3.706</td> <td> 0.000</td> <td> 1.42e+04</td> <td> 4.61e+04</td>\n",
       "</tr>\n",
       "<tr>\n",
       "  <th>26</th>                   <td>-1.258e+04</td> <td>  1.7e+04</td> <td>   -0.742</td> <td> 0.458</td> <td>-4.59e+04</td> <td> 2.07e+04</td>\n",
       "</tr>\n",
       "<tr>\n",
       "  <th>27</th>                   <td>-2702.8573</td> <td> 3748.853</td> <td>   -0.721</td> <td> 0.471</td> <td>-1.01e+04</td> <td> 4652.440</td>\n",
       "</tr>\n",
       "<tr>\n",
       "  <th>28</th>                   <td>-1304.9315</td> <td> 2472.935</td> <td>   -0.528</td> <td> 0.598</td> <td>-6156.861</td> <td> 3546.998</td>\n",
       "</tr>\n",
       "</table>\n",
       "<table class=\"simpletable\">\n",
       "<tr>\n",
       "  <th>Omnibus:</th>       <td>365.970</td> <th>  Durbin-Watson:     </th> <td>   1.926</td> \n",
       "</tr>\n",
       "<tr>\n",
       "  <th>Prob(Omnibus):</th> <td> 0.000</td>  <th>  Jarque-Bera (JB):  </th> <td>37109.802</td>\n",
       "</tr>\n",
       "<tr>\n",
       "  <th>Skew:</th>          <td>-0.044</td>  <th>  Prob(JB):          </th> <td>    0.00</td> \n",
       "</tr>\n",
       "<tr>\n",
       "  <th>Kurtosis:</th>      <td>29.399</td>  <th>  Cond. No.          </th> <td>1.13e+16</td> \n",
       "</tr>\n",
       "</table>"
      ],
      "text/plain": [
       "<class 'statsmodels.iolib.summary.Summary'>\n",
       "\"\"\"\n",
       "                            OLS Regression Results                            \n",
       "==============================================================================\n",
       "Dep. Variable:              SalePrice   R-squared:                       0.857\n",
       "Model:                            OLS   Adj. R-squared:                  0.842\n",
       "Method:                 Least Squares   F-statistic:                     58.68\n",
       "Date:                Thu, 05 Oct 2017   Prob (F-statistic):               0.00\n",
       "Time:                        02:47:25   Log-Likelihood:                -14986.\n",
       "No. Observations:                1278   AIC:                         3.021e+04\n",
       "Df Residuals:                    1159   BIC:                         3.082e+04\n",
       "Df Model:                         118                                         \n",
       "Covariance Type:            nonrobust                                         \n",
       "========================================================================================\n",
       "                           coef    std err          t      P>|t|      [0.025      0.975]\n",
       "----------------------------------------------------------------------------------------\n",
       "MSZoning_FV           6705.9659   1.25e+04      0.537      0.591   -1.78e+04    3.12e+04\n",
       "MSZoning_RH           4441.9378   1.25e+04      0.356      0.722      -2e+04    2.89e+04\n",
       "MSZoning_RL           6285.5228   1.06e+04      0.593      0.553   -1.45e+04    2.71e+04\n",
       "MSZoning_RM           1.029e+04   1.14e+04      0.905      0.366    -1.2e+04    3.26e+04\n",
       "Street_Grvl          -7386.0260   2.32e+04     -0.318      0.751    -5.3e+04    3.82e+04\n",
       "Street_Pave           3.511e+04   2.29e+04      1.534      0.125   -9783.441       8e+04\n",
       "LotShape_IR1          1.479e+04   1.07e+04      1.388      0.165   -6111.006    3.57e+04\n",
       "LotShape_IR2          2.421e+04   1.13e+04      2.145      0.032    2069.985    4.64e+04\n",
       "LotShape_IR3         -2.673e+04   1.37e+04     -1.948      0.052   -5.36e+04     192.454\n",
       "LotShape_Reg          1.544e+04   1.06e+04      1.454      0.146   -5390.171    3.63e+04\n",
       "LandContour_Bnk       -808.2277    1.1e+04     -0.073      0.942   -2.25e+04    2.09e+04\n",
       "LandContour_HLS       1.945e+04    1.1e+04      1.761      0.079   -2221.596    4.11e+04\n",
       "LandContour_Low       -846.0403    1.2e+04     -0.070      0.944   -2.44e+04    2.27e+04\n",
       "LandContour_Lvl       9931.0724   1.07e+04      0.931      0.352    -1.1e+04    3.09e+04\n",
       "LotConfig_Corner      1.299e+04   9395.781      1.383      0.167   -5439.644    3.14e+04\n",
       "LotConfig_CulDSac     1.872e+04   9598.760      1.951      0.051    -110.137    3.76e+04\n",
       "LotConfig_FR2          523.0495   9965.265      0.052      0.958    -1.9e+04    2.01e+04\n",
       "LotConfig_FR3        -1.628e+04   1.57e+04     -1.034      0.301   -4.72e+04    1.46e+04\n",
       "LotConfig_Inside      1.176e+04   9086.823      1.294      0.196   -6066.121    2.96e+04\n",
       "LandSlope_Gtl         1.911e+04   1.43e+04      1.334      0.183   -9004.576    4.72e+04\n",
       "LandSlope_Mod         2.028e+04   1.43e+04      1.414      0.158   -7857.522    4.84e+04\n",
       "LandSlope_Sev        -1.166e+04   1.68e+04     -0.694      0.488   -4.47e+04    2.13e+04\n",
       "Neighborhood_Blmngtn   530.3041   9611.489      0.055      0.956   -1.83e+04    1.94e+04\n",
       "Neighborhood_Blueste  6847.1015   2.23e+04      0.307      0.759   -3.69e+04    5.06e+04\n",
       "Neighborhood_BrDale   1.221e+04   1.04e+04      1.173      0.241   -8208.500    3.26e+04\n",
       "Neighborhood_BrkSide -5294.9381   6395.388     -0.828      0.408   -1.78e+04    7252.895\n",
       "Neighborhood_ClearCr -2.383e+04   8054.704     -2.959      0.003   -3.96e+04   -8027.819\n",
       "Neighborhood_CollgCr -1.165e+04   4563.891     -2.553      0.011   -2.06e+04   -2698.289\n",
       "Neighborhood_Crawfor  1.422e+04   5774.489      2.463      0.014    2892.957    2.56e+04\n",
       "Neighborhood_Edwards -2.662e+04   4592.614     -5.796      0.000   -3.56e+04   -1.76e+04\n",
       "Neighborhood_Gilbert -1.477e+04   5736.819     -2.575      0.010    -2.6e+04   -3517.437\n",
       "Neighborhood_IDOTRR  -1.845e+04   8737.214     -2.111      0.035   -3.56e+04   -1304.761\n",
       "Neighborhood_MeadowV -9768.8595      1e+04     -0.976      0.329   -2.94e+04    9864.282\n",
       "Neighborhood_Mitchel  -2.29e+04   5561.289     -4.118      0.000   -3.38e+04    -1.2e+04\n",
       "Neighborhood_NAmes   -1.457e+04   3870.176     -3.765      0.000   -2.22e+04   -6978.889\n",
       "Neighborhood_NPkVill  2.047e+04   1.27e+04      1.612      0.107   -4442.611    4.54e+04\n",
       "Neighborhood_NWAmes  -1.913e+04   5136.063     -3.725      0.000   -2.92e+04   -9055.047\n",
       "Neighborhood_NoRidge  4.465e+04   6900.845      6.470      0.000    3.11e+04    5.82e+04\n",
       "Neighborhood_NridgHt  6.074e+04   5678.709     10.697      0.000    4.96e+04    7.19e+04\n",
       "Neighborhood_OldTown -2.048e+04   6488.677     -3.156      0.002   -3.32e+04   -7750.188\n",
       "Neighborhood_SWISU     -1.2e+04   8531.235     -1.406      0.160   -2.87e+04    4741.555\n",
       "Neighborhood_Sawyer  -1.647e+04   5292.259     -3.112      0.002   -2.69e+04   -6085.866\n",
       "Neighborhood_SawyerW -6422.9742   5832.535     -1.101      0.271   -1.79e+04    5020.534\n",
       "Neighborhood_Somerst  2.027e+04   8264.079      2.453      0.014    4057.918    3.65e+04\n",
       "Neighborhood_StoneBr  6.252e+04   8013.876      7.802      0.000    4.68e+04    7.82e+04\n",
       "Neighborhood_Timber  -8353.6807   6708.964     -1.245      0.213   -2.15e+04    4809.393\n",
       "Neighborhood_Veenker  1.596e+04   1.01e+04      1.586      0.113   -3781.633    3.57e+04\n",
       "Condition1_Artery     3720.9548   8148.616      0.457      0.648   -1.23e+04    1.97e+04\n",
       "Condition1_Feedr     -8736.4463   7550.397     -1.157      0.247   -2.36e+04    6077.530\n",
       "Condition1_Norm       7958.8423   6685.641      1.190      0.234   -5158.472    2.11e+04\n",
       "Condition1_PosA      -1367.9862   1.53e+04     -0.089      0.929   -3.14e+04    2.86e+04\n",
       "Condition1_PosN       1.312e+04   1.01e+04      1.303      0.193   -6631.518    3.29e+04\n",
       "Condition1_RRAe      -1.971e+04   1.27e+04     -1.549      0.122   -4.47e+04    5256.486\n",
       "Condition1_RRAn       9474.0845   9280.834      1.021      0.308   -8735.031    2.77e+04\n",
       "Condition1_RRNe      -2413.7193   2.91e+04     -0.083      0.934   -5.96e+04    5.48e+04\n",
       "Condition1_RRNn       2.568e+04   1.65e+04      1.552      0.121   -6781.036    5.82e+04\n",
       "Condition2_Artery     2.481e+04   2.48e+04      1.000      0.318   -2.39e+04    7.35e+04\n",
       "Condition2_Feedr      7015.7504   1.92e+04      0.365      0.715   -3.07e+04    4.47e+04\n",
       "Condition2_Norm       1.631e+04   1.02e+04      1.605      0.109   -3625.354    3.62e+04\n",
       "Condition2_PosA       8.691e+04   3.25e+04      2.678      0.008    2.32e+04    1.51e+05\n",
       "Condition2_PosN      -1.392e+05   2.38e+04     -5.851      0.000   -1.86e+05   -9.25e+04\n",
       "Condition2_RRAe       -1.24e+04   1.61e+04     -0.769      0.442    -4.4e+04    1.92e+04\n",
       "Condition2_RRAn       2.868e+04   2.99e+04      0.959      0.338      -3e+04    8.74e+04\n",
       "Condition2_RRNn       1.563e+04   2.21e+04      0.708      0.479   -2.77e+04     5.9e+04\n",
       "BldgType_1Fam         2.464e+04   8690.843      2.836      0.005    7592.367    4.17e+04\n",
       "BldgType_2fmCon       1.973e+04   1.07e+04      1.846      0.065   -1244.568    4.07e+04\n",
       "BldgType_Duplex       1.239e+04   1.06e+04      1.165      0.244   -8482.709    3.33e+04\n",
       "BldgType_Twnhs       -2.007e+04   1.04e+04     -1.937      0.053   -4.04e+04     256.594\n",
       "BldgType_TwnhsE      -8973.7803   9504.955     -0.944      0.345   -2.76e+04    9675.064\n",
       "HouseStyle_1.5Fin     2138.9711   6444.443      0.332      0.740   -1.05e+04    1.48e+04\n",
       "HouseStyle_1.5Unf     2.663e+04   9887.336      2.694      0.007    7235.210     4.6e+04\n",
       "HouseStyle_1Story      2.04e+04   6551.772      3.114      0.002    7548.237    3.33e+04\n",
       "HouseStyle_2.5Fin    -1.523e+04   1.66e+04     -0.919      0.358   -4.77e+04    1.73e+04\n",
       "HouseStyle_2.5Unf    -1.032e+04   1.13e+04     -0.914      0.361   -3.25e+04    1.18e+04\n",
       "HouseStyle_2Story    -1.218e+04   6512.095     -1.870      0.062    -2.5e+04     598.575\n",
       "HouseStyle_SFoyer     1.049e+04   8527.110      1.230      0.219   -6243.761    2.72e+04\n",
       "HouseStyle_SLvl       5795.8223   7296.378      0.794      0.427   -8519.765    2.01e+04\n",
       "RoofStyle_Flat        1.143e+04   1.22e+04      0.938      0.348   -1.25e+04    3.53e+04\n",
       "RoofStyle_Gable      -1411.0276   8800.090     -0.160      0.873   -1.87e+04    1.59e+04\n",
       "RoofStyle_Gambrel     9999.4580   1.19e+04      0.839      0.402   -1.34e+04    3.34e+04\n",
       "RoofStyle_Hip         8566.1426   8992.858      0.953      0.341   -9077.961    2.62e+04\n",
       "RoofStyle_Mansard     1.154e+04   1.52e+04      0.760      0.447   -1.83e+04    4.13e+04\n",
       "RoofStyle_Shed        -1.24e+04   1.61e+04     -0.769      0.442    -4.4e+04    1.92e+04\n",
       "Foundation_BrkTil     9326.2888   8972.209      1.039      0.299   -8277.302    2.69e+04\n",
       "Foundation_CBlock     9961.3600   8590.748      1.160      0.246   -6893.798    2.68e+04\n",
       "Foundation_PConc      1.414e+04   8991.307      1.573      0.116   -3501.935    3.18e+04\n",
       "Foundation_Slab       4942.7172   1.28e+04      0.386      0.699   -2.02e+04       3e+04\n",
       "Foundation_Stone      9290.0068   1.64e+04      0.567      0.571   -2.29e+04    4.14e+04\n",
       "Foundation_Wood      -1.994e+04   2.15e+04     -0.929      0.353   -6.21e+04    2.22e+04\n",
       "BsmtExposure_70.0    -4656.9795   1.21e+04     -0.385      0.700   -2.84e+04    1.91e+04\n",
       "BsmtExposure_Av       9129.2429   8811.090      1.036      0.300   -8158.230    2.64e+04\n",
       "BsmtExposure_Gd       2.721e+04   9033.682      3.012      0.003    9488.555    4.49e+04\n",
       "BsmtExposure_Mn         37.6155   8804.012      0.004      0.997   -1.72e+04    1.73e+04\n",
       "BsmtExposure_No      -3999.1476   8582.438     -0.466      0.641   -2.08e+04    1.28e+04\n",
       "Functional_Maj1       1.383e+04   1.16e+04      1.192      0.233   -8924.194    3.66e+04\n",
       "Functional_Maj2      -4654.7271   1.49e+04     -0.312      0.755   -3.39e+04    2.46e+04\n",
       "Functional_Min1        1.36e+04   9483.593      1.435      0.152   -5002.085    3.22e+04\n",
       "Functional_Min2       1.846e+04   9973.556      1.851      0.064   -1107.437     3.8e+04\n",
       "Functional_Mod        1.641e+04   1.24e+04      1.319      0.188   -8007.269    4.08e+04\n",
       "Functional_Sev       -6.459e+04   3.28e+04     -1.972      0.049   -1.29e+05    -333.764\n",
       "Functional_Typ        3.467e+04   8458.797      4.099      0.000    1.81e+04    5.13e+04\n",
       "GarageType_70.0      -1.385e+05   1.26e+05     -1.101      0.271   -3.85e+05    1.08e+05\n",
       "GarageType_2Types     6868.9245   2.98e+04      0.230      0.818   -5.17e+04    6.54e+04\n",
       "GarageType_Attchd     3.348e+04   2.82e+04      1.187      0.235   -2.18e+04    8.88e+04\n",
       "GarageType_Basment    3.396e+04   2.88e+04      1.179      0.239   -2.25e+04    9.04e+04\n",
       "GarageType_BuiltIn    3.335e+04   2.87e+04      1.161      0.246    -2.3e+04    8.97e+04\n",
       "GarageType_CarPort    2.399e+04   3.02e+04      0.795      0.427   -3.52e+04    8.32e+04\n",
       "GarageType_Detchd     3.462e+04   2.82e+04      1.228      0.220   -2.07e+04    8.99e+04\n",
       "0                    -4.074e+04   1.74e+04     -2.347      0.019   -7.48e+04   -6680.030\n",
       "1                     1.381e+05   2.93e+04      4.709      0.000    8.06e+04    1.96e+05\n",
       "2                     4.734e+04    1.3e+04      3.640      0.000    2.18e+04    7.29e+04\n",
       "3                     1.878e+04   3805.731      4.934      0.000    1.13e+04    2.62e+04\n",
       "4                     3.416e+04   1.77e+04      1.932      0.054    -538.767    6.89e+04\n",
       "5                     1382.6078   9648.086      0.143      0.886   -1.75e+04    2.03e+04\n",
       "6                    -3259.5164   8109.369     -0.402      0.688   -1.92e+04    1.27e+04\n",
       "7                     3.064e+04   1.88e+04      1.630      0.103   -6234.628    6.75e+04\n",
       "8                     1.417e+05   1.95e+04      7.279      0.000    1.04e+05     1.8e+05\n",
       "9                     1.098e+05    1.4e+04      7.865      0.000    8.24e+04    1.37e+05\n",
       "10                     1.37e+04   1.46e+04      0.941      0.347   -1.49e+04    4.23e+04\n",
       "11                    1.605e+05   1.52e+04     10.558      0.000    1.31e+05     1.9e+05\n",
       "12                    2.086e+04   8013.520      2.603      0.009    5138.265    3.66e+04\n",
       "13                    1.317e+04   7999.195      1.647      0.100   -2520.005    2.89e+04\n",
       "14                    2.297e+04   9215.787      2.492      0.013    4887.053    4.11e+04\n",
       "15                    1.115e+04   5916.796      1.885      0.060    -458.200    2.28e+04\n",
       "16                   -6.273e+04   1.48e+04     -4.251      0.000   -9.17e+04   -3.38e+04\n",
       "17                   -6.412e+04   2.25e+04     -2.850      0.004   -1.08e+05      -2e+04\n",
       "18                    4.106e+04    1.6e+04      2.573      0.010    9746.728    7.24e+04\n",
       "19                   -1.835e+05   1.59e+05     -1.155      0.248   -4.95e+05    1.28e+05\n",
       "20                    4.559e+04   1.15e+04      3.975      0.000    2.31e+04    6.81e+04\n",
       "21                    1.361e+04   7179.404      1.895      0.058    -478.925    2.77e+04\n",
       "22                    5258.5595   8885.232      0.592      0.554   -1.22e+04    2.27e+04\n",
       "23                    2013.1344   9573.714      0.210      0.833   -1.68e+04    2.08e+04\n",
       "24                    2.656e+04   1.57e+04      1.688      0.092   -4317.931    5.74e+04\n",
       "25                    3.014e+04   8134.244      3.706      0.000    1.42e+04    4.61e+04\n",
       "26                   -1.258e+04    1.7e+04     -0.742      0.458   -4.59e+04    2.07e+04\n",
       "27                   -2702.8573   3748.853     -0.721      0.471   -1.01e+04    4652.440\n",
       "28                   -1304.9315   2472.935     -0.528      0.598   -6156.861    3546.998\n",
       "==============================================================================\n",
       "Omnibus:                      365.970   Durbin-Watson:                   1.926\n",
       "Prob(Omnibus):                  0.000   Jarque-Bera (JB):            37109.802\n",
       "Skew:                          -0.044   Prob(JB):                         0.00\n",
       "Kurtosis:                      29.399   Cond. No.                     1.13e+16\n",
       "==============================================================================\n",
       "\n",
       "Warnings:\n",
       "[1] Standard Errors assume that the covariance matrix of the errors is correctly specified.\n",
       "[2] The smallest eigenvalue is 1.35e-28. This might indicate that there are\n",
       "strong multicollinearity problems or that the design matrix is singular.\n",
       "\"\"\""
      ]
     },
     "execution_count": 35,
     "metadata": {},
     "output_type": "execute_result"
    }
   ],
   "source": [
    "model.summary()"
   ]
  },
  {
   "cell_type": "code",
   "execution_count": 36,
   "metadata": {
    "scrolled": true
   },
   "outputs": [
    {
     "data": {
      "text/plain": [
       "265910.9820245111"
      ]
     },
     "execution_count": 36,
     "metadata": {},
     "output_type": "execute_result"
    }
   ],
   "source": [
    "y_pred.mean()"
   ]
  },
  {
   "cell_type": "code",
   "execution_count": 37,
   "metadata": {
    "scrolled": true
   },
   "outputs": [
    {
     "data": {
      "text/plain": [
       "113239.02296190128"
      ]
     },
     "execution_count": 37,
     "metadata": {},
     "output_type": "execute_result"
    }
   ],
   "source": [
    "y_pred.std()"
   ]
  },
  {
   "cell_type": "code",
   "execution_count": 38,
   "metadata": {},
   "outputs": [
    {
     "name": "stdout",
     "output_type": "stream",
     "text": [
      "('R2: ', 0.85661955767450859)\n"
     ]
    }
   ],
   "source": [
    "print('R2: ', model.rsquared)"
   ]
  },
  {
   "cell_type": "code",
   "execution_count": 39,
   "metadata": {
    "scrolled": false
   },
   "outputs": [
    {
     "data": {
      "image/png": "[encoded data removed]",
      "text/plain": [
       "<matplotlib.figure.Figure at 0x1216ff590>"
      ]
     },
     "metadata": {
      "image/png": {
       "height": 588,
       "width": 624
      }
     },
     "output_type": "display_data"
    },
    {
     "name": "stdout",
     "output_type": "stream",
     "text": [
      "MSE: 9934786737.91\n"
     ]
    }
   ],
   "source": [
    "from sklearn.metrics import mean_squared_error\n",
    "\n",
    "# Plot the model\n",
    "plt.figure(figsize=(10,10))\n",
    "plt.scatter(y_pred, y_test, s=30, c='r', marker='+', zorder=10)\n",
    "plt.xlabel(\"Predicted Values - $\\hat{y}$\")\n",
    "plt.ylabel(\"Actual Values - $y$\")\n",
    "plt.show()\n",
    "\n",
    "print \"MSE:\", mean_squared_error(y_test, y_pred)"
   ]
  },
  {
   "cell_type": "code",
   "execution_count": 40,
   "metadata": {
    "scrolled": true
   },
   "outputs": [
    {
     "name": "stderr",
     "output_type": "stream",
     "text": [
      "/Users/GuangYi/anaconda/lib/python2.7/site-packages/ipykernel_launcher.py:1: SettingWithCopyWarning: \n",
      "A value is trying to be set on a copy of a slice from a DataFrame.\n",
      "Try using .loc[row_indexer,col_indexer] = value instead\n",
      "\n",
      "See the caveats in the documentation: http://pandas.pydata.org/pandas-docs/stable/indexing.html#indexing-view-versus-copy\n",
      "  \"\"\"Entry point for launching an IPython kernel.\n",
      "/Users/GuangYi/anaconda/lib/python2.7/site-packages/ipykernel_launcher.py:2: SettingWithCopyWarning: \n",
      "A value is trying to be set on a copy of a slice from a DataFrame.\n",
      "Try using .loc[row_indexer,col_indexer] = value instead\n",
      "\n",
      "See the caveats in the documentation: http://pandas.pydata.org/pandas-docs/stable/indexing.html#indexing-view-versus-copy\n",
      "  \n",
      "/Users/GuangYi/anaconda/lib/python2.7/site-packages/ipykernel_launcher.py:10: SettingWithCopyWarning: \n",
      "A value is trying to be set on a copy of a slice from a DataFrame.\n",
      "Try using .loc[row_indexer,col_indexer] = value instead\n",
      "\n",
      "See the caveats in the documentation: http://pandas.pydata.org/pandas-docs/stable/indexing.html#indexing-view-versus-copy\n",
      "  # Remove the CWD from sys.path while we load stuff.\n"
     ]
    }
   ],
   "source": [
    "df['y_pred'] = y_pred\n",
    "df['Residuals'] = df['SalePrice'] - df['y_pred']\n",
    "\n",
    "years = df.YrSold.values\n",
    "\n",
    "for a in range(len(years)):\n",
    "    if years[a] != 2010 :\n",
    "        years[a] = -2010\n",
    "        \n",
    "df[\"years\"] = years"
   ]
  },
  {
   "cell_type": "code",
   "execution_count": 41,
   "metadata": {},
   "outputs": [
    {
     "data": {
      "text/plain": [
       "<seaborn.axisgrid.FacetGrid at 0x11a2acf50>"
      ]
     },
     "execution_count": 41,
     "metadata": {},
     "output_type": "execute_result"
    },
    {
     "data": {
      "image/png": "[encoded data removed]",
      "text/plain": [
       "<matplotlib.figure.Figure at 0x10ea73750>"
      ]
     },
     "metadata": {
      "image/png": {
       "height": 1073,
       "width": 1137
      }
     },
     "output_type": "display_data"
    }
   ],
   "source": [
    "import seaborn as sns\n",
    "%matplotlib inline\n",
    "\n",
    "sns.lmplot(x='y_pred', y='SalePrice', data=df, hue=\"years\", size=15)"
   ]
  },
  {
   "cell_type": "code",
   "execution_count": null,
   "metadata": {},
   "outputs": [],
   "source": []
  },
  {
   "cell_type": "code",
   "execution_count": null,
   "metadata": {},
   "outputs": [],
   "source": []
  },
  {
   "cell_type": "code",
   "execution_count": null,
   "metadata": {
    "scrolled": true
   },
   "outputs": [],
   "source": []
  },
  {
   "cell_type": "code",
   "execution_count": null,
   "metadata": {},
   "outputs": [],
   "source": []
  },
  {
   "cell_type": "markdown",
   "metadata": {},
   "source": [
    "<img src=\"http://imgur.com/l5NasQj.png\" style=\"float: left; margin: 25px 15px 0px 0px; height: 25px\">\n",
    "\n",
    "## 2. Determine any value of *changeable* property characteristics unexplained by the *fixed* ones.\n",
    "\n",
    "---\n",
    "\n",
    "Now that you have a model that estimates the price of a house based on its static characteristics, we can move forward with part 2 and 3 of the plan: what are the costs/benefits of quality, condition, and renovations?\n",
    "\n",
    "There are two specific requirements for these estimates:\n",
    "1. The estimates of effects must be in terms of dollars added or subtracted from the house value. \n",
    "2. The effects must be on the variance in price remaining from the first model.\n",
    "\n",
    "The residuals from the first model (training and testing) represent the variance in price unexplained by the fixed characteristics. Of that variance in price remaining, how much of it can be explained by the easy-to-change aspects of the property?\n",
    "\n",
    "---\n",
    "\n",
    "**Your goals:**\n",
    "1. Evaluate the effect in dollars of the renovate-able features. \n",
    "- How would your company use this second model and its coefficients to determine whether they should buy a property or not? Explain how the company can use the two models you have built to determine if they can make money. \n",
    "- Investigate how much of the variance in price remaining is explained by these features.\n",
    "- Do you trust your model? Should it be used to evaluate which properties to buy and fix up?"
   ]
  },
  {
   "cell_type": "code",
   "execution_count": null,
   "metadata": {
    "collapsed": true
   },
   "outputs": [],
   "source": []
  },
  {
   "cell_type": "code",
   "execution_count": null,
   "metadata": {
    "collapsed": true
   },
   "outputs": [],
   "source": []
  },
  {
   "cell_type": "code",
   "execution_count": null,
   "metadata": {
    "collapsed": true
   },
   "outputs": [],
   "source": []
  },
  {
   "cell_type": "code",
   "execution_count": 42,
   "metadata": {
    "collapsed": true
   },
   "outputs": [],
   "source": [
    "# A:"
   ]
  },
  {
   "cell_type": "markdown",
   "metadata": {},
   "source": [
    "<img src=\"http://imgur.com/GCAf1UX.png\" style=\"float: left; margin: 25px 15px 0px 0px; height: 25px\">\n",
    "\n",
    "## 3. What property characteristics predict an \"abnormal\" sale?\n",
    "\n",
    "---\n",
    "\n",
    "The `SaleCondition` feature indicates the circumstances of the house sale. From the data file, we can see that the possibilities are:\n",
    "\n",
    "       Normal\tNormal Sale\n",
    "       Abnorml\tAbnormal Sale -  trade, foreclosure, short sale\n",
    "       AdjLand\tAdjoining Land Purchase\n",
    "       Alloca\tAllocation - two linked properties with separate deeds, typically condo with a garage unit\t\n",
    "       Family\tSale between family members\n",
    "       Partial\tHome was not completed when last assessed (associated with New Homes)\n",
    "       \n",
    "One of the executives at your company has an \"in\" with higher-ups at the major regional bank. His friends at the bank have made him a proposal: if he can reliably indicate what features, if any, predict \"abnormal\" sales (foreclosures, short sales, etc.), then in return the bank will give him first dibs on the pre-auction purchase of those properties (at a dirt-cheap price).\n",
    "\n",
    "He has tasked you with determining (and adequately validating) which features of a property predict this type of sale. \n",
    "\n",
    "---\n",
    "\n",
    "**Your task:**\n",
    "1. Determine which features predict the `Abnorml` category in the `SaleCondition` feature.\n",
    "- Justify your results.\n",
    "\n",
    "This is a challenging task that tests your ability to perform classification analysis in the face of severe class imbalance. You may find that simply running a classifier on the full dataset to predict the category ends up useless: when there is bad class imbalance classifiers often tend to simply guess the majority class.\n",
    "\n",
    "It is up to you to determine how you will tackle this problem. I recommend doing some research to find out how others have dealt with the problem in the past. Make sure to justify your solution. Don't worry about it being \"the best\" solution, but be rigorous.\n",
    "\n",
    "Be sure to indicate which features are predictive (if any) and whether they are positive or negative predictors of abnormal sales."
   ]
  },
  {
   "cell_type": "code",
   "execution_count": 43,
   "metadata": {
    "collapsed": true
   },
   "outputs": [],
   "source": [
    "# A:"
   ]
  }
 ],
 "metadata": {
  "kernelspec": {
   "display_name": "Python 2",
   "language": "python",
   "name": "python2"
  },
  "language_info": {
   "codemirror_mode": {
    "name": "ipython",
    "version": 2
   },
   "file_extension": ".py",
   "mimetype": "text/x-python",
   "name": "python",
   "nbconvert_exporter": "python",
   "pygments_lexer": "ipython2",
   "version": "2.7.13"
  }
 },
 "nbformat": 4,
 "nbformat_minor": 2
}
